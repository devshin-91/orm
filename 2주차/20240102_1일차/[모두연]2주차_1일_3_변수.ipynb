{
  "nbformat": 4,
  "nbformat_minor": 0,
  "metadata": {
    "colab": {
      "provenance": []
    },
    "kernelspec": {
      "name": "python3",
      "display_name": "Python 3"
    },
    "language_info": {
      "name": "python"
    }
  },
  "cells": [
    {
      "cell_type": "markdown",
      "source": [
        "# 1. 변수의 속성"
      ],
      "metadata": {
        "id": "60HOAHZLulIX"
      }
    },
    {
      "cell_type": "code",
      "execution_count": 1,
      "metadata": {
        "colab": {
          "base_uri": "https://localhost:8080/"
        },
        "id": "XA7t-T2empq9",
        "outputId": "91073811-546f-48e6-a341-df13fe802232"
      },
      "outputs": [
        {
          "output_type": "stream",
          "name": "stdout",
          "text": [
            "<class 'int'>\n",
            "['__abs__', '__add__', '__and__', '__bool__', '__ceil__', '__class__', '__delattr__', '__dir__', '__divmod__', '__doc__', '__eq__', '__float__', '__floor__', '__floordiv__', '__format__', '__ge__', '__getattribute__', '__getnewargs__', '__gt__', '__hash__', '__index__', '__init__', '__init_subclass__', '__int__', '__invert__', '__le__', '__lshift__', '__lt__', '__mod__', '__mul__', '__ne__', '__neg__', '__new__', '__or__', '__pos__', '__pow__', '__radd__', '__rand__', '__rdivmod__', '__reduce__', '__reduce_ex__', '__repr__', '__rfloordiv__', '__rlshift__', '__rmod__', '__rmul__', '__ror__', '__round__', '__rpow__', '__rrshift__', '__rshift__', '__rsub__', '__rtruediv__', '__rxor__', '__setattr__', '__sizeof__', '__str__', '__sub__', '__subclasshook__', '__truediv__', '__trunc__', '__xor__', 'as_integer_ratio', 'bit_count', 'bit_length', 'conjugate', 'denominator', 'from_bytes', 'imag', 'numerator', 'real', 'to_bytes']\n"
          ]
        }
      ],
      "source": [
        "# 1. 변수의 속성 확인\n",
        "\n",
        "# 숫자열\n",
        "x = 10\n",
        "print(type(x))\n",
        "print(dir(x)) # 메서드 출력"
      ]
    },
    {
      "cell_type": "code",
      "source": [
        "# 문자열\n",
        "x = \"10\"\n",
        "print(type(x))\n",
        "print(dir(x)) # 메서드 출력"
      ],
      "metadata": {
        "colab": {
          "base_uri": "https://localhost:8080/"
        },
        "id": "2ERt8I0cm9Nm",
        "outputId": "6a5f5748-b64f-40ec-c9b1-9398b2c9b6c7"
      },
      "execution_count": 2,
      "outputs": [
        {
          "output_type": "stream",
          "name": "stdout",
          "text": [
            "<class 'str'>\n",
            "['__add__', '__class__', '__contains__', '__delattr__', '__dir__', '__doc__', '__eq__', '__format__', '__ge__', '__getattribute__', '__getitem__', '__getnewargs__', '__gt__', '__hash__', '__init__', '__init_subclass__', '__iter__', '__le__', '__len__', '__lt__', '__mod__', '__mul__', '__ne__', '__new__', '__reduce__', '__reduce_ex__', '__repr__', '__rmod__', '__rmul__', '__setattr__', '__sizeof__', '__str__', '__subclasshook__', 'capitalize', 'casefold', 'center', 'count', 'encode', 'endswith', 'expandtabs', 'find', 'format', 'format_map', 'index', 'isalnum', 'isalpha', 'isascii', 'isdecimal', 'isdigit', 'isidentifier', 'islower', 'isnumeric', 'isprintable', 'isspace', 'istitle', 'isupper', 'join', 'ljust', 'lower', 'lstrip', 'maketrans', 'partition', 'removeprefix', 'removesuffix', 'replace', 'rfind', 'rindex', 'rjust', 'rpartition', 'rsplit', 'rstrip', 'split', 'splitlines', 'startswith', 'strip', 'swapcase', 'title', 'translate', 'upper', 'zfill']\n"
          ]
        }
      ]
    },
    {
      "cell_type": "code",
      "source": [
        "# 매직 메서드 : 해당 타입이 할 수 있는 일을 나타냄\n",
        "# 문자열(str)은 __add__나 __sub__ 가 없어서 덧셈, 뺼셈이 불가"
      ],
      "metadata": {
        "id": "xJDAOxyInHRO"
      },
      "execution_count": null,
      "outputs": []
    },
    {
      "cell_type": "code",
      "source": [
        "# 변수 재할당\n",
        "x = 10\n",
        "print(x)\n",
        "\n",
        "x = 20\n",
        "print(x)"
      ],
      "metadata": {
        "colab": {
          "base_uri": "https://localhost:8080/"
        },
        "id": "T6OnlJGxm_aF",
        "outputId": "fd42baa0-4c76-4ac2-90d7-53a8b3aaca39"
      },
      "execution_count": 3,
      "outputs": [
        {
          "output_type": "stream",
          "name": "stdout",
          "text": [
            "10\n",
            "20\n"
          ]
        }
      ]
    },
    {
      "cell_type": "code",
      "source": [
        "# 변수 삭제\n",
        "x = 10\n",
        "print(x)"
      ],
      "metadata": {
        "colab": {
          "base_uri": "https://localhost:8080/"
        },
        "id": "eeOkF2Djn9ZO",
        "outputId": "86044aa2-a9b1-4fed-b8c2-3926c9f4c01a"
      },
      "execution_count": 5,
      "outputs": [
        {
          "output_type": "stream",
          "name": "stdout",
          "text": [
            "10\n"
          ]
        }
      ]
    },
    {
      "cell_type": "code",
      "source": [
        "del x # 불필요한 변수 삭제 => 메모리 확보 가능"
      ],
      "metadata": {
        "id": "utN2cEg3oTw9"
      },
      "execution_count": 6,
      "outputs": []
    },
    {
      "cell_type": "code",
      "source": [
        "print(x)"
      ],
      "metadata": {
        "colab": {
          "base_uri": "https://localhost:8080/",
          "height": 184
        },
        "id": "hDIYZ4gVoWaH",
        "outputId": "54f01752-093f-46e6-fccc-db608e032f3a"
      },
      "execution_count": 7,
      "outputs": [
        {
          "output_type": "error",
          "ename": "NameError",
          "evalue": "ignored",
          "traceback": [
            "\u001b[0;31m---------------------------------------------------------------------------\u001b[0m",
            "\u001b[0;31mNameError\u001b[0m                                 Traceback (most recent call last)",
            "\u001b[0;32m<ipython-input-7-fc17d851ef81>\u001b[0m in \u001b[0;36m<cell line: 1>\u001b[0;34m()\u001b[0m\n\u001b[0;32m----> 1\u001b[0;31m \u001b[0mprint\u001b[0m\u001b[0;34m(\u001b[0m\u001b[0mx\u001b[0m\u001b[0;34m)\u001b[0m\u001b[0;34m\u001b[0m\u001b[0;34m\u001b[0m\u001b[0m\n\u001b[0m",
            "\u001b[0;31mNameError\u001b[0m: name 'x' is not defined"
          ]
        }
      ]
    },
    {
      "cell_type": "markdown",
      "source": [
        "# 2. 변수의 타입\n",
        "\n",
        "* 숫자형\n",
        "  * 정수형(int)\n",
        "  * 실수형(float)\n",
        "  * 복소수형(complex)\n",
        "* 논리 자료형(bool)\n",
        "* 시퀀스\n",
        "  * 문자열 자료형(str)\n",
        "  * 리스트 자료형 - 변경 가능\n",
        "  * 튜플 자료형 : 변경 불가\n",
        "* 컬렉션 혹은 컨테이너 자료형\n",
        "  * 리스트 자료형 []\n",
        "  * 튜플 자료형 ()\n",
        "  * 사전 자료형 또는 딕셔너리 자료형 : key와 쌍 {a:b}\n",
        "  * 집합 자료형 또는 셋 자료형(set) : 중복 허용 x -> 중복 {a, b, c, d} 제거용으로 사용\n",
        "* None 자료형"
      ],
      "metadata": {
        "id": "yiVydbVVoYgN"
      }
    },
    {
      "cell_type": "code",
      "source": [
        "\n",
        "# 매직 메서드 맛보기\n",
        "'''\n",
        "class int(int):\n",
        "  def __add__(self, a):\n",
        "    return self * a\n",
        "\n",
        "int('10') + int('10')\n",
        "'''\n"
      ],
      "metadata": {
        "id": "n8WK4FI1qDmW"
      },
      "execution_count": null,
      "outputs": []
    },
    {
      "cell_type": "code",
      "source": [
        "# 혹시나 파이썬 자체의 함수를 건드렸을 경우?\n",
        "# -> colab의 런타임에서 세션 다시 시작 클릭"
      ],
      "metadata": {
        "id": "IqFhdYcYrJf_"
      },
      "execution_count": null,
      "outputs": []
    },
    {
      "cell_type": "markdown",
      "source": [
        "# 3. 정수"
      ],
      "metadata": {
        "id": "2ZM8nng9tjks"
      }
    },
    {
      "cell_type": "code",
      "source": [
        "# 덧셈, 뺄셈, 곱셈, 나눗셈(주의)\n",
        "# 다른 경우는 다 정수가 나오는 데, 나눗셈의 경우, 실수가 나오게 됨.\n"
      ],
      "metadata": {
        "id": "kcCoRDPYtliP"
      },
      "execution_count": null,
      "outputs": []
    },
    {
      "cell_type": "code",
      "source": [
        "# 나눗셈은 부동소수점으로 변환이 됨.\n",
        "# 그래서 int 를 붙여야 정수로 나옴."
      ],
      "metadata": {
        "id": "4dbXFVTwuFEC"
      },
      "execution_count": null,
      "outputs": []
    },
    {
      "cell_type": "code",
      "source": [
        "# 2진수\n",
        "# 파이썬 앞에 0b를 붙여서 2진수를 표현"
      ],
      "metadata": {
        "id": "IMMfzanrx7dO"
      },
      "execution_count": null,
      "outputs": []
    },
    {
      "cell_type": "code",
      "source": [
        "# 8진수 16진수"
      ],
      "metadata": {
        "id": "70GSWcciyAO_"
      },
      "execution_count": null,
      "outputs": []
    },
    {
      "cell_type": "code",
      "source": [
        "# 진수 변환함수 => 진수끼리 변환해줌"
      ],
      "metadata": {
        "id": "SZjtkJ98yOg_"
      },
      "execution_count": null,
      "outputs": []
    },
    {
      "cell_type": "markdown",
      "source": [
        "# 4. 메서드\n",
        ": 자료형이 할수 있는 일(함수)"
      ],
      "metadata": {
        "id": "b_P6b6mWykr_"
      }
    },
    {
      "cell_type": "markdown",
      "source": [
        "## 점(.) 표기법"
      ],
      "metadata": {
        "id": "H78woSepysW5"
      }
    },
    {
      "cell_type": "markdown",
      "source": [
        "`bit_count` 메서드 : 2진수로 표현했을 때 1의 갯수를 카운트"
      ],
      "metadata": {
        "id": "13Ojxr9Kznhf"
      }
    },
    {
      "cell_type": "code",
      "source": [
        "#"
      ],
      "metadata": {
        "id": "HUCtrfWZ0J0K"
      },
      "execution_count": null,
      "outputs": []
    },
    {
      "cell_type": "code",
      "source": [
        "x = 2\n",
        "x.bit_count()"
      ],
      "metadata": {
        "colab": {
          "base_uri": "https://localhost:8080/"
        },
        "id": "Knv-1PQfz6K_",
        "outputId": "25a1879e-b45e-4ac3-946b-8fb581388586"
      },
      "execution_count": 8,
      "outputs": [
        {
          "output_type": "execute_result",
          "data": {
            "text/plain": [
              "1"
            ]
          },
          "metadata": {},
          "execution_count": 8
        }
      ]
    },
    {
      "cell_type": "code",
      "source": [
        "x = 6\n",
        "x.bit_count()"
      ],
      "metadata": {
        "colab": {
          "base_uri": "https://localhost:8080/"
        },
        "id": "FzIxHFgxz86h",
        "outputId": "14c88527-e543-4795-b238-d28e36cfbd51"
      },
      "execution_count": 9,
      "outputs": [
        {
          "output_type": "execute_result",
          "data": {
            "text/plain": [
              "2"
            ]
          },
          "metadata": {},
          "execution_count": 9
        }
      ]
    },
    {
      "cell_type": "markdown",
      "source": [
        "# 5. 메모리 주소"
      ],
      "metadata": {
        "id": "QLY_HMfV0-Do"
      }
    },
    {
      "cell_type": "code",
      "source": [
        "x = 10\n",
        "y = x\n",
        "z = y\n",
        "x= 20\n",
        "print(y, z) # x의 메모리 주소가 달라졌을 뿐 기존의 y, z는 변하지 않고 기존의 x를 바라본다. 그래서 y,z는 값을 유지"
      ],
      "metadata": {
        "colab": {
          "base_uri": "https://localhost:8080/"
        },
        "id": "mMwLM4B21MtA",
        "outputId": "a75888dd-fa98-47b8-d4cd-b5ee3b7aa652"
      },
      "execution_count": 14,
      "outputs": [
        {
          "output_type": "stream",
          "name": "stdout",
          "text": [
            "10 10\n"
          ]
        }
      ]
    },
    {
      "cell_type": "code",
      "source": [
        "# 메모리 주소 확인\n",
        "print(id(x))\n",
        "print(id(y))\n",
        "print(id(z))"
      ],
      "metadata": {
        "colab": {
          "base_uri": "https://localhost:8080/"
        },
        "id": "gaYjOe9K1YUg",
        "outputId": "1338fa08-cecb-4f75-e0bd-5715df9296cb"
      },
      "execution_count": 15,
      "outputs": [
        {
          "output_type": "stream",
          "name": "stdout",
          "text": [
            "139316071400272\n",
            "139316071399952\n",
            "139316071399952\n"
          ]
        }
      ]
    },
    {
      "cell_type": "code",
      "source": [
        "# id(x), id(y), id(z)"
      ],
      "metadata": {
        "id": "nMTgN1Ij0aQg"
      },
      "execution_count": null,
      "outputs": []
    },
    {
      "cell_type": "code",
      "source": [
        "# 변수를 메모리에 저장하는 경우"
      ],
      "metadata": {
        "id": "Ni1U7J_o0da4"
      },
      "execution_count": null,
      "outputs": []
    },
    {
      "cell_type": "code",
      "source": [
        "# -5 ~ 256까지는 값과 메모리 주소가 같음\n",
        "# 하지만 256 이후 부터는 값이 같아도 메모리 주소가 달라짐"
      ],
      "metadata": {
        "id": "-B8uu3NK0lbo"
      },
      "execution_count": null,
      "outputs": []
    },
    {
      "cell_type": "code",
      "source": [
        "x = 257\n",
        "y = 257"
      ],
      "metadata": {
        "id": "DYpCJzNJ0oVY"
      },
      "execution_count": 10,
      "outputs": []
    },
    {
      "cell_type": "code",
      "source": [
        "print(x == y) # 값은 같음"
      ],
      "metadata": {
        "colab": {
          "base_uri": "https://localhost:8080/"
        },
        "id": "XnnzDz0V0rio",
        "outputId": "a490d39a-72f7-4ef4-f0ec-6d8f4ea18646"
      },
      "execution_count": 11,
      "outputs": [
        {
          "output_type": "stream",
          "name": "stdout",
          "text": [
            "True\n"
          ]
        }
      ]
    },
    {
      "cell_type": "code",
      "source": [
        "print(x is y) # 하지만 메모리 주소가 달라서 id 가 달라짐"
      ],
      "metadata": {
        "colab": {
          "base_uri": "https://localhost:8080/"
        },
        "id": "halmZ8U10i2h",
        "outputId": "b8912998-9e30-4b20-9116-cd42d17231d0"
      },
      "execution_count": 12,
      "outputs": [
        {
          "output_type": "stream",
          "name": "stdout",
          "text": [
            "False\n"
          ]
        }
      ]
    },
    {
      "cell_type": "code",
      "source": [
        "print(id(x))\n",
        "print(id(y))"
      ],
      "metadata": {
        "colab": {
          "base_uri": "https://localhost:8080/"
        },
        "id": "gHfyoJR701WX",
        "outputId": "da0a269d-05b0-41fe-8337-1a9dd89cb0ee"
      },
      "execution_count": 13,
      "outputs": [
        {
          "output_type": "stream",
          "name": "stdout",
          "text": [
            "139314804091792\n",
            "139314804090000\n"
          ]
        }
      ]
    },
    {
      "cell_type": "markdown",
      "source": [
        "# 6. 실수\n",
        "파이썬은 .이 있나 없나 유무로 정수 실수 판단"
      ],
      "metadata": {
        "id": "vvP2FzWC2mQ0"
      }
    },
    {
      "cell_type": "markdown",
      "source": [
        "6.1 나눗셈을 유의"
      ],
      "metadata": {
        "id": "wCW24BwW3C3g"
      }
    },
    {
      "cell_type": "markdown",
      "source": [
        "6.2. float의 특수값\n",
        "  * inf : 양의 무한대를 나타내는 상수\n",
        "  ```python\n",
        "  x = float(\"inf\")\n",
        "  ```\n",
        "  * -inf : 음의 무한대를 나타내는 상수\n",
        "  ```python\n",
        "  x = float(\"-inf\")\n",
        "  ```"
      ],
      "metadata": {
        "id": "hsPD2IBu2qYq"
      }
    },
    {
      "cell_type": "code",
      "source": [
        "# 무한대\n",
        "x_inf = float(\"inf\")"
      ],
      "metadata": {
        "id": "dEZ-nSbY3FsQ"
      },
      "execution_count": 17,
      "outputs": []
    },
    {
      "cell_type": "code",
      "source": [
        "print(x_inf)"
      ],
      "metadata": {
        "colab": {
          "base_uri": "https://localhost:8080/"
        },
        "id": "9INo0T6n3dCB",
        "outputId": "7a74a8a9-9168-4452-9ddb-3b0ab7d5460d"
      },
      "execution_count": 18,
      "outputs": [
        {
          "output_type": "stream",
          "name": "stdout",
          "text": [
            "inf\n"
          ]
        }
      ]
    },
    {
      "cell_type": "code",
      "source": [
        "type(x_inf)"
      ],
      "metadata": {
        "colab": {
          "base_uri": "https://localhost:8080/"
        },
        "id": "epZynN2J3ybA",
        "outputId": "ce8261f6-d66f-4082-c166-c263136ea3b7"
      },
      "execution_count": 20,
      "outputs": [
        {
          "output_type": "execute_result",
          "data": {
            "text/plain": [
              "float"
            ]
          },
          "metadata": {},
          "execution_count": 20
        }
      ]
    },
    {
      "cell_type": "code",
      "source": [
        "# 비교\n",
        "x_inf > 10"
      ],
      "metadata": {
        "colab": {
          "base_uri": "https://localhost:8080/"
        },
        "id": "npTFw6a03sRx",
        "outputId": "c3d9e217-68ea-4b00-e1e0-4b23fa615539"
      },
      "execution_count": 19,
      "outputs": [
        {
          "output_type": "execute_result",
          "data": {
            "text/plain": [
              "True"
            ]
          },
          "metadata": {},
          "execution_count": 19
        }
      ]
    },
    {
      "cell_type": "code",
      "source": [
        "## 부동소수점의 문제!\n",
        "x_test = 10.1\n",
        "y_test = 10.2\n",
        "print(x_test + y_test) # (?!) 20.299999999999997 -> 컴퓨터가 2진수로 되어있기 때문에, 10진수를 표현하는 데 약간의 에러가 있다."
      ],
      "metadata": {
        "colab": {
          "base_uri": "https://localhost:8080/"
        },
        "id": "BpsdqGii3xlA",
        "outputId": "0cfb92fb-0a85-40d7-efb0-2baa42c5c54d"
      },
      "execution_count": 29,
      "outputs": [
        {
          "output_type": "stream",
          "name": "stdout",
          "text": [
            "20.299999999999997\n"
          ]
        }
      ]
    },
    {
      "cell_type": "code",
      "source": [
        "# 부동소수점의 문제!\n",
        "x_test1 = 0.1\n",
        "y_test2 = 0.2\n",
        "print(x_test1 + y_test2)"
      ],
      "metadata": {
        "colab": {
          "base_uri": "https://localhost:8080/"
        },
        "id": "p0bNMIIB4HSw",
        "outputId": "e5b3553e-06e9-413e-b324-8894b26117db"
      },
      "execution_count": 25,
      "outputs": [
        {
          "output_type": "stream",
          "name": "stdout",
          "text": [
            "0.30000000000000004\n"
          ]
        }
      ]
    },
    {
      "cell_type": "code",
      "source": [
        "# 위에 나온 사소한 숫자를 무시하면 정확도 계산에 영향을 미칠 수 있음"
      ],
      "metadata": {
        "id": "LwwWFKu24_vq"
      },
      "execution_count": null,
      "outputs": []
    },
    {
      "cell_type": "code",
      "source": [
        "# 그럼 10진수로 정상화는 어떻게?\n",
        "# decimal 메서드 사용\n",
        "import decimal\n",
        "\n",
        "float(decimal.Decimal('.1') + decimal.Decimal('.2'))"
      ],
      "metadata": {
        "colab": {
          "base_uri": "https://localhost:8080/"
        },
        "id": "tnXZ05D74oMK",
        "outputId": "794a68a1-0da9-4b33-e9ab-485028886760"
      },
      "execution_count": 26,
      "outputs": [
        {
          "output_type": "execute_result",
          "data": {
            "text/plain": [
              "0.3"
            ]
          },
          "metadata": {},
          "execution_count": 26
        }
      ]
    },
    {
      "cell_type": "code",
      "source": [
        "# 승수"
      ],
      "metadata": {
        "id": "6Dk5UxkO5L4p"
      },
      "execution_count": null,
      "outputs": []
    },
    {
      "cell_type": "code",
      "source": [
        "print(2e3) # float형\n",
        "print(2E3)\n",
        "\n",
        "2 * (10 ** 3) # int 형"
      ],
      "metadata": {
        "colab": {
          "base_uri": "https://localhost:8080/"
        },
        "id": "kdQr4NHW5N0A",
        "outputId": "d46303b3-210d-485e-bf60-3c9ea50fea03"
      },
      "execution_count": 28,
      "outputs": [
        {
          "output_type": "stream",
          "name": "stdout",
          "text": [
            "2000.0\n",
            "2000.0\n"
          ]
        },
        {
          "output_type": "execute_result",
          "data": {
            "text/plain": [
              "2000"
            ]
          },
          "metadata": {},
          "execution_count": 28
        }
      ]
    },
    {
      "cell_type": "markdown",
      "source": [
        "# 7. 복소수\n",
        "`complex` 클래스"
      ],
      "metadata": {
        "id": "xeHARSKn5urJ"
      }
    },
    {
      "cell_type": "markdown",
      "source": [
        "## 7.1 표현"
      ],
      "metadata": {
        "id": "nsNP1-Jk55ZB"
      }
    },
    {
      "cell_type": "code",
      "source": [
        "# 수학에서 i로 표현하는 것을 파이썬에서는 j로 표현함\n",
        "x1 = 3 + 4j\n",
        "x2 = complex(3, 4)\n",
        "\n",
        "print(x1, x2)\n",
        "print(type(x1), type(x2))"
      ],
      "metadata": {
        "colab": {
          "base_uri": "https://localhost:8080/"
        },
        "id": "mSQ1v5f65xfo",
        "outputId": "682c6418-d563-4746-f0f1-a52bfd35ec7e"
      },
      "execution_count": 30,
      "outputs": [
        {
          "output_type": "stream",
          "name": "stdout",
          "text": [
            "(3+4j) (3+4j)\n",
            "<class 'complex'> <class 'complex'>\n"
          ]
        }
      ]
    },
    {
      "cell_type": "markdown",
      "source": [
        "## 7.2 메서드\n",
        "* real() : 복소수에서 실수 부분 가져옴\n",
        "* imag() : 복소수에서  허수 부분 가져옴"
      ],
      "metadata": {
        "id": "-Rc1LBjI6XgR"
      }
    },
    {
      "cell_type": "code",
      "source": [
        "x = 3 + 4j\n",
        "print(x.real)"
      ],
      "metadata": {
        "colab": {
          "base_uri": "https://localhost:8080/"
        },
        "id": "g9bhL6ay6jxw",
        "outputId": "5b98bd32-ff96-4314-a60d-ee0044b96fbb"
      },
      "execution_count": 32,
      "outputs": [
        {
          "output_type": "stream",
          "name": "stdout",
          "text": [
            "3.0\n"
          ]
        }
      ]
    },
    {
      "cell_type": "code",
      "source": [
        "x = 3 + 4j\n",
        "print(x.imag)"
      ],
      "metadata": {
        "colab": {
          "base_uri": "https://localhost:8080/"
        },
        "id": "SvJaAbyr6qW5",
        "outputId": "45558113-cccb-4c83-afcb-a516b3e1bd89"
      },
      "execution_count": 33,
      "outputs": [
        {
          "output_type": "stream",
          "name": "stdout",
          "text": [
            "4.0\n"
          ]
        }
      ]
    }
  ]
}