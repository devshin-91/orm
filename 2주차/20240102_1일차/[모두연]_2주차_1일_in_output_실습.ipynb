{
  "nbformat": 4,
  "nbformat_minor": 0,
  "metadata": {
    "colab": {
      "provenance": []
    },
    "kernelspec": {
      "name": "python3",
      "display_name": "Python 3"
    },
    "language_info": {
      "name": "python"
    }
  },
  "cells": [
    {
      "cell_type": "markdown",
      "source": [
        "# 2024년 새해 계획 프로그램\n",
        "\n",
        "2024년도 계획을 문장으로 만듬"
      ],
      "metadata": {
        "id": "Qm7U5f9ylFS6"
      }
    },
    {
      "cell_type": "code",
      "source": [
        "# 1. 2024년 계획\n",
        "# 최소 3개~ 최대 10개"
      ],
      "metadata": {
        "id": "bHGzqY9DldPk"
      },
      "execution_count": 1,
      "outputs": []
    },
    {
      "cell_type": "code",
      "source": [
        "sentence_1 = input(\"1. 이번 해에는 매일 ___을(를) 하기로 했다: \")\n",
        "sentence_2 = input(\"2. 이번 해에는 ___을(를) 해보기로 했다: \")\n",
        "sentence_3 = input(\"3. 이번 해에는 ___공부를 하기로 했다:\")\n"
      ],
      "metadata": {
        "colab": {
          "base_uri": "https://localhost:8080/"
        },
        "id": "xNSTok_TlZjd",
        "outputId": "60ef3898-5c0a-4ada-9725-d5f793e896c2"
      },
      "execution_count": 4,
      "outputs": [
        {
          "name": "stdout",
          "output_type": "stream",
          "text": [
            "1. 이번 해에는 매일 ___을(를) 하기로 했다: 스트레칭\n",
            "2. 이번 해에는 ___을(를) 해보기로 했다: 다이어트\n",
            "3. 이번 해에는 ___공부를 하기로 했다:파이썬\n"
          ]
        }
      ]
    },
    {
      "cell_type": "code",
      "source": [
        "print(f\"이번 해에는 매일 {sentence_1}을(를) 하기로 했다\")\n",
        "print(f\"이번 해에는 {sentence_2}을(를) 해보기로 했다\" )\n",
        "print(f\"이번 해에는 {sentence_3}공부를 하기로 했다\")"
      ],
      "metadata": {
        "colab": {
          "base_uri": "https://localhost:8080/"
        },
        "id": "ZDGAPfP5lpCs",
        "outputId": "4cf0acf5-c4ed-4ffe-d633-a2f8d47f284b"
      },
      "execution_count": 5,
      "outputs": [
        {
          "output_type": "stream",
          "name": "stdout",
          "text": [
            "이번 해에는 매일 스트레칭을(를) 하기로 했다\n",
            "이번 해에는 다이어트을(를) 해보기로 했다\n",
            "이번 해에는 파이썬공부를 하기로 했다\n"
          ]
        }
      ]
    },
    {
      "cell_type": "markdown",
      "source": [
        "# 한번에 여러 입력 받기"
      ],
      "metadata": {
        "id": "IHjYFqtlmLZP"
      }
    },
    {
      "cell_type": "code",
      "source": [
        "word1, word2 = input(\"이번 해에는 ___와(과) ___를 습관으로 만들고 싶다:\").split()"
      ],
      "metadata": {
        "colab": {
          "base_uri": "https://localhost:8080/"
        },
        "id": "lAq8tVi4pccu",
        "outputId": "8de22a59-c955-4303-d078-70b8fcf849f7"
      },
      "execution_count": 10,
      "outputs": [
        {
          "name": "stdout",
          "output_type": "stream",
          "text": [
            "이번 해에는 ___와(과) ___를 습관으로 만들고 싶다:일일커밋 블로그관리\n"
          ]
        }
      ]
    },
    {
      "cell_type": "code",
      "source": [
        "# print(word1)\n",
        "# print(word2)"
      ],
      "metadata": {
        "colab": {
          "base_uri": "https://localhost:8080/"
        },
        "id": "ObcYns1rmLqO",
        "outputId": "81ed3863-6dfa-4665-bc8e-979505d36a06"
      },
      "execution_count": 11,
      "outputs": [
        {
          "output_type": "stream",
          "name": "stdout",
          "text": [
            "일일커밋\n",
            "블로그관리\n"
          ]
        }
      ]
    },
    {
      "cell_type": "code",
      "source": [
        "sentence = print(f\"이번 해에는 {word1}와(과) {word2}를 습관으로 만들고 싶다\")"
      ],
      "metadata": {
        "colab": {
          "base_uri": "https://localhost:8080/"
        },
        "id": "2pe2C_XCmLx_",
        "outputId": "20a493d2-baba-42d9-9a28-a254c10366d8"
      },
      "execution_count": 12,
      "outputs": [
        {
          "output_type": "stream",
          "name": "stdout",
          "text": [
            "이번 해에는 일일커밋와(과) 블로그관리를 습관으로 만들고 싶다\n"
          ]
        }
      ]
    }
  ]
}