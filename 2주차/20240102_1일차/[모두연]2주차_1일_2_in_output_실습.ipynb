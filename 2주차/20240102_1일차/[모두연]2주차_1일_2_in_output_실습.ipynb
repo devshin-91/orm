{
  "nbformat": 4,
  "nbformat_minor": 0,
  "metadata": {
    "colab": {
      "provenance": []
    },
    "kernelspec": {
      "name": "python3",
      "display_name": "Python 3"
    },
    "language_info": {
      "name": "python"
    }
  },
  "cells": [
    {
      "cell_type": "markdown",
      "source": [
        "# 1. 2024년 새해 계획 프로그램\n",
        "\n",
        "2024년도 계획을 문장으로 만듬"
      ],
      "metadata": {
        "id": "Qm7U5f9ylFS6"
      }
    },
    {
      "cell_type": "code",
      "source": [
        "# 1. 2024년 계획\n",
        "# 최소 3개~ 최대 10개"
      ],
      "metadata": {
        "id": "bHGzqY9DldPk"
      },
      "execution_count": 1,
      "outputs": []
    },
    {
      "cell_type": "markdown",
      "source": [
        "# 1.1 하나의 단어를 입력받아서 출력하기"
      ],
      "metadata": {
        "id": "uVOCjJlAstU-"
      }
    },
    {
      "cell_type": "markdown",
      "source": [
        "변수(어떠한 값을 입력받을 값) = input(\"내가 입력받을 값에 대한 질문\")"
      ],
      "metadata": {
        "id": "H-ZXZGgFs7wP"
      }
    },
    {
      "cell_type": "code",
      "source": [
        "sentence_1 = input(\"1. 이번 해에는 매일 ___을(를) 하기로 했다: \")\n",
        "sentence_2 = input(\"2. 이번 해에는 ___을(를) 해보기로 했다: \")\n",
        "sentence_3 = input(\"3. 이번 해에는 ___공부를 하기로 했다:\")\n"
      ],
      "metadata": {
        "colab": {
          "base_uri": "https://localhost:8080/"
        },
        "id": "xNSTok_TlZjd",
        "outputId": "60ef3898-5c0a-4ada-9725-d5f793e896c2"
      },
      "execution_count": 4,
      "outputs": [
        {
          "name": "stdout",
          "output_type": "stream",
          "text": [
            "1. 이번 해에는 매일 ___을(를) 하기로 했다: 스트레칭\n",
            "2. 이번 해에는 ___을(를) 해보기로 했다: 다이어트\n",
            "3. 이번 해에는 ___공부를 하기로 했다:파이썬\n"
          ]
        }
      ]
    },
    {
      "cell_type": "code",
      "source": [
        "print(f\"이번 해에는 매일 {sentence_1}을(를) 하기로 했다\")\n",
        "print(f\"이번 해에는 {sentence_2}을(를) 해보기로 했다\" )\n",
        "print(f\"이번 해에는 {sentence_3}공부를 하기로 했다\")"
      ],
      "metadata": {
        "colab": {
          "base_uri": "https://localhost:8080/"
        },
        "id": "ZDGAPfP5lpCs",
        "outputId": "4cf0acf5-c4ed-4ffe-d633-a2f8d47f284b"
      },
      "execution_count": 5,
      "outputs": [
        {
          "output_type": "stream",
          "name": "stdout",
          "text": [
            "이번 해에는 매일 스트레칭을(를) 하기로 했다\n",
            "이번 해에는 다이어트을(를) 해보기로 했다\n",
            "이번 해에는 파이썬공부를 하기로 했다\n"
          ]
        }
      ]
    },
    {
      "cell_type": "code",
      "source": [
        "# \\n을 이용하여 한번에 여러 줄 쓰기\n",
        "# \\n은 줄바꿈"
      ],
      "metadata": {
        "id": "Yczw9_Nlwqsf"
      },
      "execution_count": null,
      "outputs": []
    },
    {
      "cell_type": "code",
      "source": [
        "print(f\"이번 해에는 매일 {sentence_1}을(를) 하기로 했다 \\n이번 해에는 {sentence_2}을(를) 해보기로 했다 \\n이번 해에는 {sentence_3}공부를 하기로 했다 \")"
      ],
      "metadata": {
        "colab": {
          "base_uri": "https://localhost:8080/"
        },
        "id": "jYhryD3Et-21",
        "outputId": "857b182a-183a-4cd5-b520-a54d7d158d46"
      },
      "execution_count": 27,
      "outputs": [
        {
          "output_type": "stream",
          "name": "stdout",
          "text": [
            "이번 해에는 매일 스트레칭을(를) 하기로 했다 \n",
            "이번 해에는 다이어트을(를) 해보기로 했다 \n",
            "이번 해에는 파이썬공부를 하기로 했다 \n"
          ]
        }
      ]
    },
    {
      "cell_type": "markdown",
      "source": [
        "# 1.2 여러 단어를 입력받아서 출력하기"
      ],
      "metadata": {
        "id": "IHjYFqtlmLZP"
      }
    },
    {
      "cell_type": "markdown",
      "source": [
        "전화번호 입력 받기 생각\n",
        "\n",
        "ex 000-1234-5678 의 경우, - 을 구분자(sep)로 000, 1234, 5678을 입력 받을 수 있다."
      ],
      "metadata": {
        "id": "EkPdezn4vDDu"
      }
    },
    {
      "cell_type": "code",
      "source": [
        "# 1. split을 이용해서 한번에 여러 단어를 입력받기"
      ],
      "metadata": {
        "id": "rSF-kwptwGZ_"
      },
      "execution_count": null,
      "outputs": []
    },
    {
      "cell_type": "code",
      "source": [
        "word1, word2 = input(\"이번 해에는 ___와(과) ___를 습관으로 만들고 싶다:\").split(sep = \" \") # 공백을 기준으로 split"
      ],
      "metadata": {
        "colab": {
          "base_uri": "https://localhost:8080/"
        },
        "id": "lAq8tVi4pccu",
        "outputId": "7dbf68fa-1ed0-49f8-b5d7-b6dd879f2b1c"
      },
      "execution_count": 22,
      "outputs": [
        {
          "name": "stdout",
          "output_type": "stream",
          "text": [
            "이번 해에는 ___와(과) ___를 습관으로 만들고 싶다:일일커밋 블로그작성\n"
          ]
        }
      ]
    },
    {
      "cell_type": "code",
      "source": [
        "# print(word1)\n",
        "# print(word2)"
      ],
      "metadata": {
        "id": "ObcYns1rmLqO"
      },
      "execution_count": 23,
      "outputs": []
    },
    {
      "cell_type": "code",
      "source": [
        "sentence = f\"이번 해에는 {word1}와(과) {word2}를 습관으로 만들고 싶다\"\n",
        "print(sentence)"
      ],
      "metadata": {
        "colab": {
          "base_uri": "https://localhost:8080/"
        },
        "id": "2pe2C_XCmLx_",
        "outputId": "b5edd3a4-65c4-4492-f3c1-28f9310de2b9"
      },
      "execution_count": 24,
      "outputs": [
        {
          "output_type": "stream",
          "name": "stdout",
          "text": [
            "이번 해에는 일일커밋와(과) 블로그작성를 습관으로 만들고 싶다\n"
          ]
        }
      ]
    },
    {
      "cell_type": "code",
      "source": [
        "# 2. end를 사용해서 다른 두 문장을 합치기"
      ],
      "metadata": {
        "id": "fDv3qRcXvt8m"
      },
      "execution_count": null,
      "outputs": []
    },
    {
      "cell_type": "code",
      "source": [
        "print(f\"올해는 {word1}과\", end = \" \")\n",
        "print(f\"{word2}를 습관으로 하고 싶다\")"
      ],
      "metadata": {
        "colab": {
          "base_uri": "https://localhost:8080/"
        },
        "id": "2feKmCiHvxCf",
        "outputId": "6c35a523-f59e-46cc-dcf3-7ebcfd469d38"
      },
      "execution_count": 25,
      "outputs": [
        {
          "output_type": "stream",
          "name": "stdout",
          "text": [
            "올해는 일일커밋과 블로그작성를 습관으로 하고 싶다\n"
          ]
        }
      ]
    },
    {
      "cell_type": "code",
      "source": [
        "# 두 가지 단어를 한꺼번에 입력받기\n",
        "sentence_2 = input(\"올해는 ___과 ___을 습관으로 삼고 싶다: \") # 입력 받을 것들에 공백을 줌"
      ],
      "metadata": {
        "colab": {
          "base_uri": "https://localhost:8080/"
        },
        "id": "UgEhXq_qwwP2",
        "outputId": "4c132b17-5c5d-4dad-cccb-d8b26b124885"
      },
      "execution_count": 34,
      "outputs": [
        {
          "name": "stdout",
          "output_type": "stream",
          "text": [
            "올해는 ___과 ___을 습관으로 삼고 싶다: 클라이밍 코딩\n"
          ]
        }
      ]
    },
    {
      "cell_type": "code",
      "source": [
        "print(sentence_2)"
      ],
      "metadata": {
        "colab": {
          "base_uri": "https://localhost:8080/"
        },
        "id": "1xX3SELIxRXO",
        "outputId": "dc24be2b-9852-4e0b-e0d1-5bcf04dd8e9a"
      },
      "execution_count": 35,
      "outputs": [
        {
          "output_type": "stream",
          "name": "stdout",
          "text": [
            "클라이밍 코딩\n"
          ]
        }
      ]
    },
    {
      "cell_type": "code",
      "source": [
        "word11, word22 = sentence_2.split() # 두 단어를 입력받고, (필수) 공백을 기준으로 분리"
      ],
      "metadata": {
        "id": "N7QnXPdtxYWO"
      },
      "execution_count": 36,
      "outputs": []
    },
    {
      "cell_type": "code",
      "source": [
        "print(word11)\n",
        "print(word22)"
      ],
      "metadata": {
        "colab": {
          "base_uri": "https://localhost:8080/"
        },
        "id": "jRVgmNzwxlRh",
        "outputId": "262005f7-221b-4b04-c600-55035c78ba9e"
      },
      "execution_count": 38,
      "outputs": [
        {
          "output_type": "stream",
          "name": "stdout",
          "text": [
            "클라이밍\n",
            "코딩\n"
          ]
        }
      ]
    },
    {
      "cell_type": "code",
      "source": [
        "print(f\"올해는 {word11}과 {word22}을 습관으로 삼고 싶다.\\n\")"
      ],
      "metadata": {
        "colab": {
          "base_uri": "https://localhost:8080/"
        },
        "id": "BpkN2vTNyCHI",
        "outputId": "5e19af8a-5494-41ae-b5d2-9efa4598fe7a"
      },
      "execution_count": 40,
      "outputs": [
        {
          "output_type": "stream",
          "name": "stdout",
          "text": [
            "올해는 클라이밍과 코딩을 습관으로 삼고 싶다.\n",
            "\n"
          ]
        }
      ]
    }
  ]
}