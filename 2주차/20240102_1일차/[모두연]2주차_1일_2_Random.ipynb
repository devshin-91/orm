{
  "nbformat": 4,
  "nbformat_minor": 0,
  "metadata": {
    "colab": {
      "provenance": []
    },
    "kernelspec": {
      "name": "python3",
      "display_name": "Python 3"
    },
    "language_info": {
      "name": "python"
    }
  },
  "cells": [
    {
      "cell_type": "markdown",
      "source": [
        "#1.Randrange() 함수\n",
        "randrange(start, stop, step)\n",
        "- 범위를 지정하여 난수를 생성\n",
        "- step은 선택적 매개변수로 난수 생성 범위 내 간격을 설정할 때 쓰임\n"
      ],
      "metadata": {
        "id": "DjUGVRiq0wC2"
      }
    },
    {
      "cell_type": "code",
      "source": [
        "# 1. 기본 사용법\n",
        "\n",
        "import random\n",
        "'''\n",
        "0~9까지의 임의의 숫자를 선택하는 코드를 작성\n",
        "파이썬의 숫자의 시작은 무조건 0부터\n",
        "10으로 입력하면 -1 즉, 9까지\n",
        "'''\n",
        "num = random.randrange(10) # 무조건 0부터 시작\n",
        "print(num) # 매번 실행할 때마다 다른 난수가 출력됨"
      ],
      "metadata": {
        "colab": {
          "base_uri": "https://localhost:8080/"
        },
        "id": "2RxDK9q31KHo",
        "outputId": "b9c88f56-72bb-4ef1-ba79-11bdf7dde912"
      },
      "execution_count": 7,
      "outputs": [
        {
          "output_type": "stream",
          "name": "stdout",
          "text": [
            "6\n"
          ]
        }
      ]
    },
    {
      "cell_type": "code",
      "source": [
        "# 1.2 시작값과 끝값을 지정\n",
        "num_2 = random.randrange(10, 20) # 시작값으로 10을 설정. 보통 이렇게 범위를 설정해서 사용\n",
        "print(num_2)"
      ],
      "metadata": {
        "colab": {
          "base_uri": "https://localhost:8080/"
        },
        "id": "4VeW_dzi1ywX",
        "outputId": "fa4ad6b1-fba9-445a-af2b-d5f76beb4e5f"
      },
      "execution_count": 15,
      "outputs": [
        {
          "output_type": "stream",
          "name": "stdout",
          "text": [
            "18\n"
          ]
        }
      ]
    },
    {
      "cell_type": "code",
      "source": [
        "# 로또 예시\n",
        "num_1 = random.randrange(10, 46)\n",
        "num_2 = random.randrange(10, 46)\n",
        "num_3 = random.randrange(10, 46)\n",
        "num_4 = random.randrange(10, 46)\n",
        "num_5 = random.randrange(10, 46)\n",
        "num_6 = random.randrange(10, 46)\n",
        "print(\"오늘의 로또 번호는\", num_1,num_2,num_3,num_4,num_5,num_6)"
      ],
      "metadata": {
        "colab": {
          "base_uri": "https://localhost:8080/"
        },
        "id": "r6Xc-Hom2dag",
        "outputId": "9b3d14b2-3ec0-4ecf-e489-03e6e71d48b2"
      },
      "execution_count": 16,
      "outputs": [
        {
          "output_type": "stream",
          "name": "stdout",
          "text": [
            "오늘의 로또 번호는 29 23 17 37 42 10\n"
          ]
        }
      ]
    },
    {
      "cell_type": "code",
      "source": [
        "# 1.3 간격 설정\n",
        "# 10부터 100까지 숫자 중에서 10의 간격으로 무작위 선택\n",
        "\n",
        "num_10_100 = random.randrange(10, 101, 10) # 짝수, 홀수 같은 것을 뽑을 때, 주로 이런 간격을 활용\n",
        "print(num_10_100)"
      ],
      "metadata": {
        "colab": {
          "base_uri": "https://localhost:8080/"
        },
        "id": "h9lJRlW-22Vf",
        "outputId": "60e67f4e-7bab-4f71-c604-8b41365edd39"
      },
      "execution_count": 20,
      "outputs": [
        {
          "output_type": "stream",
          "name": "stdout",
          "text": [
            "90\n"
          ]
        }
      ]
    },
    {
      "cell_type": "markdown",
      "source": [
        "# 2. Choice 함수\n",
        "\n"
      ],
      "metadata": {
        "id": "z3AF2xy-7N-Y"
      }
    },
    {
      "cell_type": "code",
      "source": [
        "# 1. choice 기본 사용법\n",
        "\n",
        "# chosen_element = random.choice(sequence)\n",
        "\n",
        "# 리스트에서 무작위 과일 선택\n",
        "# 다양한 정보를 한번에 받아오는 것 = 리스트\n",
        "elements = ['사과', '바나나', ' 체리']\n",
        "\n"
      ],
      "metadata": {
        "id": "lpEXxWvf7Qkw"
      },
      "execution_count": 22,
      "outputs": []
    },
    {
      "cell_type": "code",
      "source": [
        "print(elements)"
      ],
      "metadata": {
        "colab": {
          "base_uri": "https://localhost:8080/"
        },
        "id": "YJAZ1wyy79SP",
        "outputId": "5a52d4c8-649b-46e5-b93f-ac7205057991"
      },
      "execution_count": 23,
      "outputs": [
        {
          "output_type": "stream",
          "name": "stdout",
          "text": [
            "['사과', '바나나', ' 체리']\n"
          ]
        }
      ]
    },
    {
      "cell_type": "code",
      "source": [
        "choice_elements = random.choice(elements)"
      ],
      "metadata": {
        "id": "R1jgcYLx8B9A"
      },
      "execution_count": 29,
      "outputs": []
    },
    {
      "cell_type": "code",
      "source": [
        "print(f'선택된 요소 : {choice_elements} 입니다.')"
      ],
      "metadata": {
        "colab": {
          "base_uri": "https://localhost:8080/"
        },
        "id": "o0G-l_Lj8COC",
        "outputId": "770c0402-afa3-4e00-f246-8a74b0472aa0"
      },
      "execution_count": 30,
      "outputs": [
        {
          "output_type": "stream",
          "name": "stdout",
          "text": [
            "선택된 요소 :  체리 입니다.\n"
          ]
        }
      ]
    },
    {
      "cell_type": "code",
      "source": [
        "# 2. 문자열에서 무작위 문자 선택\n",
        "# greeting = \"안녕하세요\"\n",
        "greeting = \"char\"\n",
        "choice_char = random.choice(greeting)\n",
        "print(f\"선택된 문자: {choice_char} 입니다.\")"
      ],
      "metadata": {
        "colab": {
          "base_uri": "https://localhost:8080/"
        },
        "id": "datZLucn7_lB",
        "outputId": "7d354a09-05d2-423e-f1dd-4f6d05bc9935"
      },
      "execution_count": 33,
      "outputs": [
        {
          "output_type": "stream",
          "name": "stdout",
          "text": [
            "선택된 문자: a 입니다.\n"
          ]
        }
      ]
    },
    {
      "cell_type": "code",
      "source": [
        "기본 - input output -> 문자열을 받아서 문자열 출력\n",
        "random - 무작위의 숫자 또는 문자를 받아와서 출력!"
      ],
      "metadata": {
        "id": "9cKR_c1v9KxJ"
      },
      "execution_count": null,
      "outputs": []
    },
    {
      "cell_type": "code",
      "source": [],
      "metadata": {
        "id": "ROAmydK-7_qP"
      },
      "execution_count": null,
      "outputs": []
    },
    {
      "cell_type": "code",
      "source": [
        "# 이렇게 사용하면 문자열\n",
        "test1 = input('임의의 숫자를 입력하세요')\n",
        "type(test1)"
      ],
      "metadata": {
        "colab": {
          "base_uri": "https://localhost:8080/"
        },
        "id": "N5HjbM0N7_vJ",
        "outputId": "5aa3a009-159d-458d-b517-e42e3259614e"
      },
      "execution_count": 39,
      "outputs": [
        {
          "name": "stdout",
          "output_type": "stream",
          "text": [
            "임의의 숫자를 입력하세요10\n"
          ]
        },
        {
          "output_type": "execute_result",
          "data": {
            "text/plain": [
              "str"
            ]
          },
          "metadata": {},
          "execution_count": 39
        }
      ]
    },
    {
      "cell_type": "code",
      "source": [
        "print(test1 + test1)"
      ],
      "metadata": {
        "colab": {
          "base_uri": "https://localhost:8080/"
        },
        "id": "MJYRKkAU_DkB",
        "outputId": "1075098d-47cb-4036-dd6d-2fdc78d2d729"
      },
      "execution_count": 40,
      "outputs": [
        {
          "output_type": "stream",
          "name": "stdout",
          "text": [
            "1010\n"
          ]
        }
      ]
    },
    {
      "cell_type": "code",
      "source": [
        "# 이렇게 사용하면 숫자(정수형)\n",
        "test2 = int(input('임의의 숫자를 입력하세요'))\n",
        "type(test2)"
      ],
      "metadata": {
        "colab": {
          "base_uri": "https://localhost:8080/"
        },
        "id": "hSBaNObw-yRA",
        "outputId": "8fa20aa4-7773-452b-f2d1-892a1db2506d"
      },
      "execution_count": 44,
      "outputs": [
        {
          "name": "stdout",
          "output_type": "stream",
          "text": [
            "임의의 숫자를 입력하세요12\n"
          ]
        },
        {
          "output_type": "execute_result",
          "data": {
            "text/plain": [
              "int"
            ]
          },
          "metadata": {},
          "execution_count": 44
        }
      ]
    },
    {
      "cell_type": "code",
      "source": [
        "print(test2 + test2)"
      ],
      "metadata": {
        "colab": {
          "base_uri": "https://localhost:8080/"
        },
        "id": "pARnYTBS-zl4",
        "outputId": "bfd4acec-b998-4884-c095-0fd86026d3f0"
      },
      "execution_count": 45,
      "outputs": [
        {
          "output_type": "stream",
          "name": "stdout",
          "text": [
            "24\n"
          ]
        }
      ]
    },
    {
      "cell_type": "code",
      "source": [
        "# 문자 type이냐 정수 type이냐에 따라 결과가 다르기 때문에 숫자를 받아야한다면\n",
        "# input에 int를 씌워줘야한다.\n"
      ],
      "metadata": {
        "id": "tElWF1fM_TaL"
      },
      "execution_count": null,
      "outputs": []
    },
    {
      "cell_type": "code",
      "source": [
        "# randrange는 무작위 숫자를 가져오기 때문에 input과 다르게 정수형(int)이다.\n",
        "random_num1 = random.randrange(10, 30, 2)\n",
        "print(type(random_num1))\n",
        "print(random_num1)\n",
        "# random_num2 = random.randrange(10, 30, 0.5) # randrange는 int만 출력 -> 간격이 실수면 에러 출력\n",
        "\n",
        "# 실수 난수 출력의 경우, randrange가 아니라 uniform 사용\n",
        "# 참고 : https://stackoverflow.com/questions/6088077/how-to-get-a-random-number-between-a-float-range\n",
        "random_num2 = random.uniform(0.5, 3.3)\n",
        "print(type(random_num2))\n",
        "print(random_num2)"
      ],
      "metadata": {
        "colab": {
          "base_uri": "https://localhost:8080/"
        },
        "id": "iN3HTK0hANxJ",
        "outputId": "b98e86be-ab8f-42fa-8fae-33cb0a5d11b6"
      },
      "execution_count": 64,
      "outputs": [
        {
          "output_type": "stream",
          "name": "stdout",
          "text": [
            "<class 'int'>\n",
            "28\n",
            "<class 'float'>\n",
            "0.71460056091701\n"
          ]
        }
      ]
    },
    {
      "cell_type": "code",
      "source": [],
      "metadata": {
        "id": "2_asYRh8ECl5"
      },
      "execution_count": null,
      "outputs": []
    },
    {
      "cell_type": "code",
      "source": [],
      "metadata": {
        "id": "QzlUtSk3D_Bk"
      },
      "execution_count": null,
      "outputs": []
    },
    {
      "cell_type": "markdown",
      "source": [
        "# 3. 주석 입력\n"
      ],
      "metadata": {
        "id": "Mphw2EPf_sEJ"
      }
    },
    {
      "cell_type": "code",
      "source": [
        "'''\n",
        "코드 실행 날짜 : 2024년 1월 2일\n",
        "버전 : V0.1\n",
        "작성장 : 김진환\n",
        "코드 내용 : random 라이브러리를 활용해서 실습 예제 작성\n",
        "'''\n",
        "\n",
        "# 이 코드는 Random 라이브러리를 사용한 예시\n",
        "import random  # random 라이브러리를 가져옴\n",
        "\n",
        "# 두 개의 무작위 숫자를 생성하는 코드\n",
        "random_number1 = random.randint(1, 10) # 1부터 9까지의 난수 한개를 가져옴\n",
        "random_number2 = random.randint(1, 10) # 1부터 9까지의 난수 한개를 가져옴 (2024.1.1 업데이트)\n",
        "# random_number3 = random.randint(1, 10)  # 1부터 9까지의 난수 한개를 가져옴 (2024.1.2 에러)\n",
        "\n",
        "# 두 개의 무작위 숫자를 합산하는 코드 / 생성된 두 숫자의 합 계산\n",
        "sum_of_numbers = random_number1 + random_number2\n",
        "\n",
        "# 결과 출력\n",
        "print(f\"첫 번째 생성된 숫자: {random_number1}\")  # 첫번째 생성된 값\n",
        "print(f\"두 번째 생성된 숫자: {random_number2}\")  # 두번째 생성된 값\n",
        "print(f\"두 숫자의 합: {sum_of_numbers}\")         # 두 숫자의 합 출력\n",
        "\n",
        "# 코드 상세 설명은 별도의 문서로 정리하는 게 좋음"
      ],
      "metadata": {
        "colab": {
          "base_uri": "https://localhost:8080/"
        },
        "id": "yCHVkyfO_qfR",
        "outputId": "75130baf-02ae-4352-82c4-29f5219963cb"
      },
      "execution_count": 57,
      "outputs": [
        {
          "output_type": "stream",
          "name": "stdout",
          "text": [
            "첫 번째 생성된 숫자: 1\n",
            "두 번째 생성된 숫자: 5\n",
            "두 숫자의 합: 6\n"
          ]
        }
      ]
    },
    {
      "cell_type": "code",
      "source": [
        "# 주사위 던지기\n",
        "\n",
        "import random # random 라이브러리 임포트\n",
        "\n",
        "dice1= random.randrange(1, 7) # 주사위를 던졌을 때 임의로 나오는 1~6 사이의 주사위 눈금\n",
        "dice2= random.randrange(1, 7) # 주사위를 던졌을 때 임의로 나오는 1~6 사이의 주사위 눈금\n",
        "\n",
        "total = dice1 + dice2 # 두 주사위 눈금을 합산한 값\n",
        "\n",
        "print(f\"주사위 결과: {dice1} + {dice2} = {total}\") # 두 주사위 눈금 합산 결과 출력"
      ],
      "metadata": {
        "colab": {
          "base_uri": "https://localhost:8080/"
        },
        "id": "hpdpWPKwBy8h",
        "outputId": "10409d4e-9085-41de-b100-b5e7ead383f6"
      },
      "execution_count": 58,
      "outputs": [
        {
          "output_type": "stream",
          "name": "stdout",
          "text": [
            "주사위 결과: 3 + 5 = 8\n"
          ]
        }
      ]
    }
  ]
}