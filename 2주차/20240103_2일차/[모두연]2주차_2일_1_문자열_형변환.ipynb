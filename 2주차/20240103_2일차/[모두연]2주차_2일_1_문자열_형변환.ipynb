{
  "nbformat": 4,
  "nbformat_minor": 0,
  "metadata": {
    "colab": {
      "provenance": []
    },
    "kernelspec": {
      "name": "python3",
      "display_name": "Python 3"
    },
    "language_info": {
      "name": "python"
    }
  },
  "cells": [
    {
      "cell_type": "markdown",
      "source": [
        "# 1.1 문자열 기초"
      ],
      "metadata": {
        "id": "atUBSCRkyVra"
      }
    },
    {
      "cell_type": "code",
      "source": [
        "i = '''안녕하세요.\n",
        "신찬수입니다.\n",
        "파이썬, 장고 좋아요\n",
        "잘 부탁드립니다.\n",
        "'''\n",
        "\n",
        "j = '''안녕하세요.\n",
        "신찬수입니다.\n",
        "파이썬, 장고 좋아요\n",
        "잘 부탁드립니다.\n",
        "'''"
      ],
      "metadata": {
        "id": "lMYut2J0yefD"
      },
      "execution_count": 1,
      "outputs": []
    },
    {
      "cell_type": "code",
      "source": [
        "i"
      ],
      "metadata": {
        "colab": {
          "base_uri": "https://localhost:8080/",
          "height": 35
        },
        "id": "RZOpCqm3ytPC",
        "outputId": "8c732643-5e39-4e01-c79d-d219dd8c6439"
      },
      "execution_count": 2,
      "outputs": [
        {
          "output_type": "execute_result",
          "data": {
            "text/plain": [
              "'안녕하세요.\\n신찬수입니다. \\n파이썬, 장고 좋아요\\n잘 부탁드립니다.\\n'"
            ],
            "application/vnd.google.colaboratory.intrinsic+json": {
              "type": "string"
            }
          },
          "metadata": {},
          "execution_count": 2
        }
      ]
    },
    {
      "cell_type": "code",
      "source": [
        "# \\n은 개행문자로 띄어쓰기가 적용됨.\n",
        "# 긴 문장을 쓸 때 '''을 쓰면 개행문자가 자동으로 적용됨."
      ],
      "metadata": {
        "id": "gQtCQZ1ayuVa"
      },
      "execution_count": null,
      "outputs": []
    },
    {
      "cell_type": "code",
      "source": [
        "print(i)"
      ],
      "metadata": {
        "colab": {
          "base_uri": "https://localhost:8080/"
        },
        "id": "zdUVsTMGzAma",
        "outputId": "1e640155-230c-48d9-ef09-ec3a789eb6fc"
      },
      "execution_count": 3,
      "outputs": [
        {
          "output_type": "stream",
          "name": "stdout",
          "text": [
            "안녕하세요.\n",
            "신찬수입니다. \n",
            "파이썬, 장고 좋아요\n",
            "잘 부탁드립니다.\n",
            "\n"
          ]
        }
      ]
    },
    {
      "cell_type": "code",
      "source": [
        "print(j)"
      ],
      "metadata": {
        "colab": {
          "base_uri": "https://localhost:8080/"
        },
        "id": "ljTvJhTGzBzK",
        "outputId": "5683d8ba-1c4e-434c-e278-0d93fb9f0995"
      },
      "execution_count": 4,
      "outputs": [
        {
          "output_type": "stream",
          "name": "stdout",
          "text": [
            "안녕하세요.\n",
            "신찬수입니다. \n",
            "파이썬, 장고 좋아요\n",
            "잘 부탁드립니다.\n",
            "\n"
          ]
        }
      ]
    },
    {
      "cell_type": "code",
      "source": [
        "#문장이 길면 '''사용. 짧다면 '사용"
      ],
      "metadata": {
        "id": "lGU8X4LPzC3T"
      },
      "execution_count": null,
      "outputs": []
    },
    {
      "cell_type": "markdown",
      "source": [
        "# 1.2 문자열 덧셈, 곱셈"
      ],
      "metadata": {
        "id": "87bq2NjVCmpE"
      }
    },
    {
      "cell_type": "code",
      "source": [
        "# 문자열의 덧셈\n",
        "\n",
        "x = 'hello'\n",
        "y = 'world'\n",
        "print(x + y) # 출력 : helloworld\n",
        "\n",
        "x = '10'\n",
        "y = '20'\n",
        "print(x + y)\n",
        "\n",
        "# 문자열의 곱셈\n",
        "\n",
        "print(x * 100)"
      ],
      "metadata": {
        "colab": {
          "base_uri": "https://localhost:8080/"
        },
        "id": "7k3OmwHR2HPB",
        "outputId": "c968f9c9-1c31-4437-a04e-6ad18ca0923a"
      },
      "execution_count": 5,
      "outputs": [
        {
          "output_type": "stream",
          "name": "stdout",
          "text": [
            "helloworld\n",
            "1020\n",
            "10101010101010101010101010101010101010101010101010101010101010101010101010101010101010101010101010101010101010101010101010101010101010101010101010101010101010101010101010101010101010101010101010101010\n"
          ]
        }
      ]
    },
    {
      "cell_type": "markdown",
      "source": [
        "# 1.3 문자열 인덱싱"
      ],
      "metadata": {
        "id": "MW1TajhyCrbD"
      }
    },
    {
      "cell_type": "code",
      "source": [
        "# 기본기능: 변수에서 해당 위치에 접근할 수 있음\n",
        "# idx:012 3 456\n",
        "s = '위니브 월드!'\n",
        "print(s[0]) # 출력  : '위'\n",
        "print(s[6]) # 출력 : '!'\n",
        "print(s[-1]) # 출력 : '!'\n",
        "# print(s[100]) # Error : string index out of range"
      ],
      "metadata": {
        "colab": {
          "base_uri": "https://localhost:8080/"
        },
        "id": "JfwFEzsI2zwZ",
        "outputId": "6819585d-6ce8-42bf-b3cc-a47a822236a8"
      },
      "execution_count": 8,
      "outputs": [
        {
          "output_type": "stream",
          "name": "stdout",
          "text": [
            "위\n",
            "!\n",
            "!\n"
          ]
        }
      ]
    },
    {
      "cell_type": "markdown",
      "source": [
        "# 1.4 문자열 슬라이싱"
      ],
      "metadata": {
        "id": "8nFkFLCCCvEL"
      }
    },
    {
      "cell_type": "code",
      "source": [
        "'''\n",
        "* 기본기능 : 변수에서 출력할 인덱스의 범위를 지정해서 출력\n",
        "* 기본옵션 : 변수[start:stop:step]\n",
        "* 사용 예\n",
        "  - 변수[start:] # start ~ end\n",
        "  - 변수[<-num>:] # <끝에서 num번째> ~ end\n",
        "  - 변수[:stop] # 0 ~ <stop-1>\n",
        "  - 변수[:-1] # 0 ~ end\n",
        "  - 변수[:<-num>] # 0 ~ <끝에서 num번째 - 1>\n",
        "  - 변수[start:stop] # start ~ stop\n",
        "  - 변수[start:stop:step] # start ~ <stop-1> 범위를 step 칸씩 출력\n",
        "  - 변수[:] # 전체 범위 출력\n",
        "  - 변수[::-1] # 전체를 거꾸로 출력\n",
        "  - 변수[::2] # 전체를 두 칸씩 출력\n",
        "'''\n",
        "s = '놀이 공원 밖 생태 탐험'\n",
        "\n",
        "print(s[6:])\n",
        "print(s[:])\n",
        "print(s[::-1])\n",
        "print(s[::2])\n",
        "print(s[10:100])"
      ],
      "metadata": {
        "colab": {
          "base_uri": "https://localhost:8080/"
        },
        "id": "H6mDMgR-4MVh",
        "outputId": "035fc062-832f-4040-e3c0-587a88f1c0e5"
      },
      "execution_count": 25,
      "outputs": [
        {
          "output_type": "stream",
          "name": "stdout",
          "text": [
            "밖 생태 탐험\n",
            "놀이 공원 밖 생태 탐험\n",
            "험탐 태생 밖 원공 이놀\n",
            "놀 원밖생 험\n",
            " 탐험\n"
          ]
        }
      ]
    },
    {
      "cell_type": "markdown",
      "source": [
        "## 1.4.1 슬라이드 실습"
      ],
      "metadata": {
        "id": "5V1os5Q3C76U"
      }
    },
    {
      "cell_type": "code",
      "source": [
        "s = 'weniv_licat.png'"
      ],
      "metadata": {
        "id": "Kjo2IO7N6G5Q"
      },
      "execution_count": 50,
      "outputs": []
    },
    {
      "cell_type": "code",
      "source": [
        "# 1. 출력 weniv_licat만 나오게\n",
        "s = 'weniv_licat.png'\n",
        "print(s[:-4])"
      ],
      "metadata": {
        "colab": {
          "base_uri": "https://localhost:8080/"
        },
        "id": "qLF9BVqR6syX",
        "outputId": "e33a7cda-4e1d-46c7-babb-9759f395adca"
      },
      "execution_count": 24,
      "outputs": [
        {
          "output_type": "stream",
          "name": "stdout",
          "text": [
            "weniv_licat\n"
          ]
        }
      ]
    },
    {
      "cell_type": "code",
      "source": [
        "# 2. 출력 png만 나오게\n",
        "s = 'weniv_licat.png'\n",
        "print(s[-3:])"
      ],
      "metadata": {
        "colab": {
          "base_uri": "https://localhost:8080/"
        },
        "id": "q7vWrdEa7bA_",
        "outputId": "f5463f1d-b540-4988-e691-b922f8eaf1e3"
      },
      "execution_count": 23,
      "outputs": [
        {
          "output_type": "stream",
          "name": "stdout",
          "text": [
            "png\n"
          ]
        }
      ]
    },
    {
      "cell_type": "markdown",
      "source": [
        "# 1.5 문자열 메서드"
      ],
      "metadata": {
        "id": "uQQxFuDBChec"
      }
    },
    {
      "cell_type": "markdown",
      "source": [
        "## 1.5.1 lower(), upper()"
      ],
      "metadata": {
        "id": "1V5pbiyoDGbT"
      }
    },
    {
      "cell_type": "code",
      "source": [
        "# lower()\n",
        "# 소문자 변경\n",
        "s = 'weniv_licat.png'\n",
        "s.lower()"
      ],
      "metadata": {
        "colab": {
          "base_uri": "https://localhost:8080/",
          "height": 35
        },
        "id": "yfwtP07R8z1H",
        "outputId": "c1408537-c631-4fa1-9a93-007894062166"
      },
      "execution_count": 28,
      "outputs": [
        {
          "output_type": "execute_result",
          "data": {
            "text/plain": [
              "'weniv_licat.png'"
            ],
            "application/vnd.google.colaboratory.intrinsic+json": {
              "type": "string"
            }
          },
          "metadata": {},
          "execution_count": 28
        }
      ]
    },
    {
      "cell_type": "code",
      "source": [
        "# upper()\n",
        "# 대문자 변경\n",
        "s = 'weniv_licat.png'\n",
        "s.upper()"
      ],
      "metadata": {
        "colab": {
          "base_uri": "https://localhost:8080/",
          "height": 35
        },
        "id": "keE1HnW79Nbf",
        "outputId": "740c4820-54ff-430c-bfc8-1806e705eb07"
      },
      "execution_count": 29,
      "outputs": [
        {
          "output_type": "execute_result",
          "data": {
            "text/plain": [
              "'WENIV_LICAT.PNG'"
            ],
            "application/vnd.google.colaboratory.intrinsic+json": {
              "type": "string"
            }
          },
          "metadata": {},
          "execution_count": 29
        }
      ]
    },
    {
      "cell_type": "markdown",
      "source": [
        "## 1.5.2 find(), index()"
      ],
      "metadata": {
        "id": "q9t-lUoPDYSz"
      }
    },
    {
      "cell_type": "code",
      "source": [
        "# 공통점 : 원하는 문자열의 시작점이 되는 인덱스를 찾아줌\n",
        "# 차이점 : find는 문자열 못 찾으면 -1, index는 문자열 못 찾으면 error를 반환"
      ],
      "metadata": {
        "id": "mwigotp487MX"
      },
      "execution_count": null,
      "outputs": []
    },
    {
      "cell_type": "code",
      "source": [
        "s = 'weniv CEO licat'"
      ],
      "metadata": {
        "id": "0m7EDwsX9l2m"
      },
      "execution_count": 34,
      "outputs": []
    },
    {
      "cell_type": "code",
      "source": [
        "s.find('CEO')"
      ],
      "metadata": {
        "colab": {
          "base_uri": "https://localhost:8080/"
        },
        "id": "69IPJk7H9dw9",
        "outputId": "7bab4952-fbd0-4eaf-fed8-d5449df31cd9"
      },
      "execution_count": 35,
      "outputs": [
        {
          "output_type": "execute_result",
          "data": {
            "text/plain": [
              "6"
            ]
          },
          "metadata": {},
          "execution_count": 35
        }
      ]
    },
    {
      "cell_type": "code",
      "source": [
        "s.find('CTO')"
      ],
      "metadata": {
        "colab": {
          "base_uri": "https://localhost:8080/"
        },
        "id": "LjOIijTt9quG",
        "outputId": "9d939943-164b-4e64-c4b6-f41e46ddcf4b"
      },
      "execution_count": 36,
      "outputs": [
        {
          "output_type": "execute_result",
          "data": {
            "text/plain": [
              "-1"
            ]
          },
          "metadata": {},
          "execution_count": 36
        }
      ]
    },
    {
      "cell_type": "code",
      "source": [
        "s.index('CEO')"
      ],
      "metadata": {
        "colab": {
          "base_uri": "https://localhost:8080/"
        },
        "id": "7gcg4PF_9ZZX",
        "outputId": "3bc2c418-92ba-4238-fdc9-40fc48a84dbf"
      },
      "execution_count": 38,
      "outputs": [
        {
          "output_type": "execute_result",
          "data": {
            "text/plain": [
              "6"
            ]
          },
          "metadata": {},
          "execution_count": 38
        }
      ]
    },
    {
      "cell_type": "code",
      "source": [
        "s.index('CTO')"
      ],
      "metadata": {
        "colab": {
          "base_uri": "https://localhost:8080/",
          "height": 184
        },
        "id": "I3bs9cVW9B2G",
        "outputId": "dc5d02c7-0d57-4d20-f782-c69219a851bd"
      },
      "execution_count": 39,
      "outputs": [
        {
          "output_type": "error",
          "ename": "ValueError",
          "evalue": "ignored",
          "traceback": [
            "\u001b[0;31m---------------------------------------------------------------------------\u001b[0m",
            "\u001b[0;31mValueError\u001b[0m                                Traceback (most recent call last)",
            "\u001b[0;32m<ipython-input-39-757e572f43a6>\u001b[0m in \u001b[0;36m<cell line: 1>\u001b[0;34m()\u001b[0m\n\u001b[0;32m----> 1\u001b[0;31m \u001b[0ms\u001b[0m\u001b[0;34m.\u001b[0m\u001b[0mindex\u001b[0m\u001b[0;34m(\u001b[0m\u001b[0;34m'CTO'\u001b[0m\u001b[0;34m)\u001b[0m\u001b[0;34m\u001b[0m\u001b[0;34m\u001b[0m\u001b[0m\n\u001b[0m",
            "\u001b[0;31mValueError\u001b[0m: substring not found"
          ]
        }
      ]
    },
    {
      "cell_type": "markdown",
      "source": [
        "## 1.5.3 count"
      ],
      "metadata": {
        "id": "hUtok4DVD5FV"
      }
    },
    {
      "cell_type": "code",
      "source": [
        "# 기본기능 : 문자열이나 숫자를 셀 때 사용\n",
        "s = 'weniv CEO licat'\n",
        "s.count(' ') # 공백 카운트\n",
        "\n",
        "# 공백\n",
        "# 대소문자 구분\n",
        "# 일치하는 경우 찾아줌"
      ],
      "metadata": {
        "colab": {
          "base_uri": "https://localhost:8080/"
        },
        "id": "Er9QE-bt9x5m",
        "outputId": "c74266c9-b9f7-48e5-e213-9e1245e9167f"
      },
      "execution_count": 42,
      "outputs": [
        {
          "output_type": "execute_result",
          "data": {
            "text/plain": [
              "2"
            ]
          },
          "metadata": {},
          "execution_count": 42
        }
      ]
    },
    {
      "cell_type": "markdown",
      "source": [
        "## 1.5.4 strip()"
      ],
      "metadata": {
        "id": "_RDAla78Fq-0"
      }
    },
    {
      "cell_type": "code",
      "source": [
        "# strip을 완전 신뢰하기는 어려움\n",
        "s = '     weniv CEO licat     '\n",
        "s.strip() # 양쪽 공백제거"
      ],
      "metadata": {
        "colab": {
          "base_uri": "https://localhost:8080/",
          "height": 35
        },
        "id": "u-TcsBvO97qG",
        "outputId": "ae225765-a8bd-4d21-8e98-27a261fa05e3"
      },
      "execution_count": 43,
      "outputs": [
        {
          "output_type": "execute_result",
          "data": {
            "text/plain": [
              "'weniv CEO licat'"
            ],
            "application/vnd.google.colaboratory.intrinsic+json": {
              "type": "string"
            }
          },
          "metadata": {},
          "execution_count": 43
        }
      ]
    },
    {
      "cell_type": "code",
      "source": [
        "'    ,!! weniv CEO licat '.strip(' , !#@~')\n",
        "# 양쪽의 공백과 중간에 이상한 문자를 제거하는 용도로 쓰임"
      ],
      "metadata": {
        "colab": {
          "base_uri": "https://localhost:8080/",
          "height": 35
        },
        "id": "edc3dVqR-n8F",
        "outputId": "7628bb32-7053-4f1a-a421-c93f18a2c412"
      },
      "execution_count": 44,
      "outputs": [
        {
          "output_type": "execute_result",
          "data": {
            "text/plain": [
              "'weniv CEO licat'"
            ],
            "application/vnd.google.colaboratory.intrinsic+json": {
              "type": "string"
            }
          },
          "metadata": {},
          "execution_count": 44
        }
      ]
    },
    {
      "cell_type": "markdown",
      "source": [
        "## 1.5.5 replace()"
      ],
      "metadata": {
        "id": "W0GhCFaFF3hb"
      }
    },
    {
      "cell_type": "code",
      "source": [
        "s = 'weniv CEO licat'\n",
        "s.replace('CEO', 'CTO') # 원하는 문자열을 다른 문자열로 대체"
      ],
      "metadata": {
        "colab": {
          "base_uri": "https://localhost:8080/",
          "height": 35
        },
        "id": "F0lrIs2G_Kd_",
        "outputId": "8f9468e2-ba68-4899-a0c2-1d79902e017c"
      },
      "execution_count": 45,
      "outputs": [
        {
          "output_type": "execute_result",
          "data": {
            "text/plain": [
              "'weniv CTO licat'"
            ],
            "application/vnd.google.colaboratory.intrinsic+json": {
              "type": "string"
            }
          },
          "metadata": {},
          "execution_count": 45
        }
      ]
    },
    {
      "cell_type": "code",
      "source": [
        "s = 'weniv CEO licat'\n",
        "s.replace('i', 'I') # 문자열 내에서 모든 i를 I로 대체"
      ],
      "metadata": {
        "colab": {
          "base_uri": "https://localhost:8080/",
          "height": 35
        },
        "id": "nbl08Q3F_io1",
        "outputId": "bbccea18-fbd4-4dd7-b2f4-0b76001771f9"
      },
      "execution_count": 48,
      "outputs": [
        {
          "output_type": "execute_result",
          "data": {
            "text/plain": [
              "'weniv CEO licat'"
            ],
            "application/vnd.google.colaboratory.intrinsic+json": {
              "type": "string"
            }
          },
          "metadata": {},
          "execution_count": 48
        }
      ]
    },
    {
      "cell_type": "code",
      "source": [
        "# 원본은 유지되고 새로운 변수를 써야 새 변수에 수정된 내용이 반영된다.\n",
        "s = 'weniv CEO licat'\n",
        "ss = s.replace('i', 'I')\n",
        "ss, s # 출력: ('weniv CEO licat', 'wenIv CEO lIcat')"
      ],
      "metadata": {
        "colab": {
          "base_uri": "https://localhost:8080/"
        },
        "id": "7sXLfC44_ztl",
        "outputId": "842d55e7-4575-476c-97bc-cb151933c72f"
      },
      "execution_count": 49,
      "outputs": [
        {
          "output_type": "execute_result",
          "data": {
            "text/plain": [
              "('wenIv CEO lIcat', 'weniv CEO licat')"
            ]
          },
          "metadata": {},
          "execution_count": 49
        }
      ]
    },
    {
      "cell_type": "markdown",
      "source": [
        "## 1.5.6 split(), join()"
      ],
      "metadata": {
        "id": "MR2xjBi-GQRj"
      }
    },
    {
      "cell_type": "code",
      "source": [
        "# 전화번호 입력 : 010 0001 1000\n",
        "# split으로 숫자로 분리 : 공백을 구분자 이용 -> 010, 0001, 1000\n",
        "# join으로 전화번호 형식 완성 : -을 구분자로 이용 -> 010-0001-1000"
      ],
      "metadata": {
        "id": "iG11roboAJDV"
      },
      "execution_count": null,
      "outputs": []
    },
    {
      "cell_type": "code",
      "source": [
        "# 1. split 활용"
      ],
      "metadata": {
        "id": "rz1rRQebAlme"
      },
      "execution_count": null,
      "outputs": []
    },
    {
      "cell_type": "code",
      "source": [
        "s = 'weniv-CEO-licat'\n",
        "s.split('-') # 구분자 -을 기준으로 문자열을 리스트의 원소로 나눔"
      ],
      "metadata": {
        "colab": {
          "base_uri": "https://localhost:8080/"
        },
        "id": "A_YmjOhLEVpT",
        "outputId": "d6b0d6a6-87fe-4be2-f31e-8ae3329fb6bc"
      },
      "execution_count": 52,
      "outputs": [
        {
          "output_type": "execute_result",
          "data": {
            "text/plain": [
              "['weniv', 'CEO', 'licat']"
            ]
          },
          "metadata": {},
          "execution_count": 52
        }
      ]
    },
    {
      "cell_type": "code",
      "source": [
        "# 2. join"
      ],
      "metadata": {
        "id": "NORGU0jSAm9V"
      },
      "execution_count": null,
      "outputs": []
    },
    {
      "cell_type": "code",
      "source": [
        "s = ['weniv', 'CEO', 'licat']\n",
        "'-'.join(s) # 구분자 -을 기준으로 리스트의 원소를 하나의 문자열로 합침"
      ],
      "metadata": {
        "colab": {
          "base_uri": "https://localhost:8080/",
          "height": 35
        },
        "id": "83ENcdteEY-a",
        "outputId": "259ad80d-989c-41d8-e1b9-a5956f4d165f"
      },
      "execution_count": 53,
      "outputs": [
        {
          "output_type": "execute_result",
          "data": {
            "text/plain": [
              "'weniv-CEO-licat'"
            ],
            "application/vnd.google.colaboratory.intrinsic+json": {
              "type": "string"
            }
          },
          "metadata": {},
          "execution_count": 53
        }
      ]
    },
    {
      "cell_type": "code",
      "source": [
        "# split과 join을 왔다갔다 할 수 있음.\n",
        "# split : <문자열> -> <리스트>\n",
        "# join : <리스트> -> <문자열>"
      ],
      "metadata": {
        "id": "suoWdSvZE3dT"
      },
      "execution_count": null,
      "outputs": []
    },
    {
      "cell_type": "markdown",
      "source": [
        "## 1.5.7 format()"
      ],
      "metadata": {
        "id": "qB1k_SfAHp2x"
      }
    },
    {
      "cell_type": "code",
      "source": [
        "name = 'licat'\n",
        "age = 29\n",
        "\n",
        "print('제 이름은 {}이고, 나이는 {}살입니다.'.format(name, age))"
      ],
      "metadata": {
        "colab": {
          "base_uri": "https://localhost:8080/"
        },
        "id": "yeNyJL13HvOr",
        "outputId": "456c52ab-4d73-49a4-a29d-fbed93aaa2f1"
      },
      "execution_count": 54,
      "outputs": [
        {
          "output_type": "stream",
          "name": "stdout",
          "text": [
            "제 이름은 licat이고, 나이는 29살입니다.\n"
          ]
        }
      ]
    },
    {
      "cell_type": "code",
      "source": [
        "# python 3.6 + 부터는 f-string 활용 가능\n",
        "print(f'제 이름은 {name}이고, 나이는 {age}살입니다')"
      ],
      "metadata": {
        "colab": {
          "base_uri": "https://localhost:8080/"
        },
        "id": "qtkVyLRIH1Po",
        "outputId": "9cf15ccb-1bf5-4216-a260-f8fc2284f356"
      },
      "execution_count": 55,
      "outputs": [
        {
          "output_type": "stream",
          "name": "stdout",
          "text": [
            "제 이름은 licat이고 나이는 29살입니다\n"
          ]
        }
      ]
    },
    {
      "cell_type": "markdown",
      "source": [
        "## 1.5.8 isalnum( ) / isdigit( ) / isalpha( ) / isascii( )"
      ],
      "metadata": {
        "id": "18XSn659IALx"
      }
    },
    {
      "cell_type": "code",
      "source": [
        "# isdigit()\n",
        "# 숫자만 있는지?\n",
        "# 활용 : 숫자만 필요한 경우\n",
        "s = '123'\n",
        "s.isdigit()"
      ],
      "metadata": {
        "id": "rpy2WXJmIUoC"
      },
      "execution_count": null,
      "outputs": []
    },
    {
      "cell_type": "code",
      "source": [
        "# isalpha()\n",
        "# 알파벳만 있는지?\n",
        "# 활용 : 알파벳만 필요한 경우\n",
        "print('abcd1234'.isalpha())\n",
        "print('안녕하세요'.isalpha())\n",
        "print('こんにちは'.isalpha())\n",
        "print('你好'.isalpha())\n"
      ],
      "metadata": {
        "colab": {
          "base_uri": "https://localhost:8080/"
        },
        "id": "KohJAUTYIaF6",
        "outputId": "2445f8c1-6647-4bdf-8bf3-d5fc54e1e372"
      },
      "execution_count": 56,
      "outputs": [
        {
          "output_type": "stream",
          "name": "stdout",
          "text": [
            "False\n",
            "True\n",
            "True\n",
            "True\n"
          ]
        }
      ]
    },
    {
      "cell_type": "markdown",
      "source": [
        "## 1.5.9 rjust( ) / ljust( ) / center( )"
      ],
      "metadata": {
        "id": "J8c-E6U4IftZ"
      }
    },
    {
      "cell_type": "code",
      "source": [
        "# 1. rjust()\n",
        "# 기본옵션: .rjust(만들 문자열의 전체 길이지정, 주어진 문자열의 비어있는 왼쪽을 채울 구분자)\n",
        "s = 'licat'\n",
        "s.rjust(10, '-')"
      ],
      "metadata": {
        "colab": {
          "base_uri": "https://localhost:8080/",
          "height": 35
        },
        "id": "ZPztIXXUJFFQ",
        "outputId": "66076e1b-4052-465c-9b40-c08c3339bdeb"
      },
      "execution_count": 58,
      "outputs": [
        {
          "output_type": "execute_result",
          "data": {
            "text/plain": [
              "'-----licat'"
            ],
            "application/vnd.google.colaboratory.intrinsic+json": {
              "type": "string"
            }
          },
          "metadata": {},
          "execution_count": 58
        }
      ]
    },
    {
      "cell_type": "code",
      "source": [
        "# 2. ljust()\n",
        "# 기본옵션: .ljust(만들 문자열의 전체 길이지정, 주어진 문자열의 비어있는 오른쪽을 채울 구분자)\n",
        "s = 'licat'\n",
        "s.ljust(10, '-')"
      ],
      "metadata": {
        "colab": {
          "base_uri": "https://localhost:8080/",
          "height": 35
        },
        "id": "pQyrGQHOJo-p",
        "outputId": "7d31f9ce-5542-45c9-dd7a-2c39f8feb0ac"
      },
      "execution_count": 59,
      "outputs": [
        {
          "output_type": "execute_result",
          "data": {
            "text/plain": [
              "'licat-----'"
            ],
            "application/vnd.google.colaboratory.intrinsic+json": {
              "type": "string"
            }
          },
          "metadata": {},
          "execution_count": 59
        }
      ]
    },
    {
      "cell_type": "markdown",
      "source": [],
      "metadata": {
        "id": "uymybapeRrZy"
      }
    },
    {
      "cell_type": "code",
      "source": [
        "# 활용 : 주민등록번호\n",
        "s = '123456-1'\n",
        "s.ljust(14, '*')"
      ],
      "metadata": {
        "colab": {
          "base_uri": "https://localhost:8080/",
          "height": 35
        },
        "id": "CfPVRfDAKCqI",
        "outputId": "ee79c09f-a913-4cac-c339-0bd09c1c48d4"
      },
      "execution_count": 61,
      "outputs": [
        {
          "output_type": "execute_result",
          "data": {
            "text/plain": [
              "'123456-1******'"
            ],
            "application/vnd.google.colaboratory.intrinsic+json": {
              "type": "string"
            }
          },
          "metadata": {},
          "execution_count": 61
        }
      ]
    },
    {
      "cell_type": "code",
      "source": [
        "# 3. center()\n",
        "# 활용 : 입력한 문자열이 부족할 때, 양쪽에 뭔가를 넣어줌\n",
        "s = 'licat'\n",
        "s.center(12, '-')"
      ],
      "metadata": {
        "colab": {
          "base_uri": "https://localhost:8080/",
          "height": 35
        },
        "id": "C7ZUpjDsMVjZ",
        "outputId": "6ab07db6-dfff-4e6c-9897-d2084d3f2474"
      },
      "execution_count": 62,
      "outputs": [
        {
          "output_type": "execute_result",
          "data": {
            "text/plain": [
              "'---licat---'"
            ],
            "application/vnd.google.colaboratory.intrinsic+json": {
              "type": "string"
            }
          },
          "metadata": {},
          "execution_count": 62
        }
      ]
    },
    {
      "cell_type": "code",
      "source": [
        "s = 'licat'\n",
        "s.center(13, '-')"
      ],
      "metadata": {
        "colab": {
          "base_uri": "https://localhost:8080/",
          "height": 35
        },
        "id": "SVAQiBBbMcW_",
        "outputId": "ccb8e9c9-0363-4cea-f3dc-5aa9d9630f0e"
      },
      "execution_count": 63,
      "outputs": [
        {
          "output_type": "execute_result",
          "data": {
            "text/plain": [
              "'----licat----'"
            ],
            "application/vnd.google.colaboratory.intrinsic+json": {
              "type": "string"
            }
          },
          "metadata": {},
          "execution_count": 63
        }
      ]
    },
    {
      "cell_type": "code",
      "source": [
        "s = 'licat'\n",
        "s.center(14, '-')"
      ],
      "metadata": {
        "colab": {
          "base_uri": "https://localhost:8080/",
          "height": 35
        },
        "id": "hWxE9i-QMg7P",
        "outputId": "5c29d193-ab41-4530-c397-d1ff4b6d1148"
      },
      "execution_count": 64,
      "outputs": [
        {
          "output_type": "execute_result",
          "data": {
            "text/plain": [
              "'----licat-----'"
            ],
            "application/vnd.google.colaboratory.intrinsic+json": {
              "type": "string"
            }
          },
          "metadata": {},
          "execution_count": 64
        }
      ]
    },
    {
      "cell_type": "markdown",
      "source": [
        "## 1.5.10 zfill()"
      ],
      "metadata": {
        "id": "vpzqKn5AM0UB"
      }
    },
    {
      "cell_type": "code",
      "source": [
        "# 활용 : 일련번호\n",
        "# 주어진 문자열에 얼마나 많은 0(zero)을 채워넣는지(fill) 결정"
      ],
      "metadata": {
        "id": "nX0SSm0xNrvv"
      },
      "execution_count": null,
      "outputs": []
    },
    {
      "cell_type": "code",
      "source": [
        "# 문자열 숫자\n",
        "x = \"42\" # 문자 주어줌\n",
        "result = x.zfill(5) # 주어진 문자에 채워질 0의 갯수 지정\n",
        "print(result) # 00000에 42가 삽입된 결과 출력"
      ],
      "metadata": {
        "colab": {
          "base_uri": "https://localhost:8080/"
        },
        "id": "HU_wDuX6M47f",
        "outputId": "32a2d4fb-5f80-4129-f5d1-d956eb31ec89"
      },
      "execution_count": 66,
      "outputs": [
        {
          "output_type": "stream",
          "name": "stdout",
          "text": [
            "00042\n"
          ]
        }
      ]
    },
    {
      "cell_type": "code",
      "source": [
        "x = \"42\"\n",
        "result = x.zfill(10)\n",
        "print(result)"
      ],
      "metadata": {
        "colab": {
          "base_uri": "https://localhost:8080/"
        },
        "id": "CuvjRM6WNkmQ",
        "outputId": "3c9dedbf-95b8-44fe-8b02-0592c5c981b5"
      },
      "execution_count": 67,
      "outputs": [
        {
          "output_type": "stream",
          "name": "stdout",
          "text": [
            "0000000042\n"
          ]
        }
      ]
    },
    {
      "cell_type": "code",
      "source": [
        "# 문자열에서 부호가 있는 숫자\n",
        "y = \"-42\"\n",
        "result = y.zfill(5)\n",
        "print(result)  \\"
      ],
      "metadata": {
        "colab": {
          "base_uri": "https://localhost:8080/"
        },
        "id": "PWCYe5i0Nt4_",
        "outputId": "a4d30528-66b9-49b2-ce14-e1364ca28fed"
      },
      "execution_count": 69,
      "outputs": [
        {
          "output_type": "stream",
          "name": "stdout",
          "text": [
            "-0042\n"
          ]
        }
      ]
    },
    {
      "cell_type": "code",
      "source": [
        "# 문자열\n",
        "z = \"abc\"\n",
        "result = z.zfill(5)\n",
        "print(result)"
      ],
      "metadata": {
        "colab": {
          "base_uri": "https://localhost:8080/"
        },
        "id": "mm_oPbHiNvFg",
        "outputId": "6fdc59b5-69bc-4c17-c0d1-cd5ffb2be7bf"
      },
      "execution_count": 70,
      "outputs": [
        {
          "output_type": "stream",
          "name": "stdout",
          "text": [
            "00abc\n"
          ]
        }
      ]
    },
    {
      "cell_type": "code",
      "source": [
        "1.5.11"
      ],
      "metadata": {
        "id": "BvUfUOsGReB4"
      },
      "execution_count": null,
      "outputs": []
    },
    {
      "cell_type": "code",
      "source": [
        "# 활용 1 : 특정 문자 치환"
      ],
      "metadata": {
        "id": "oc9T46ioSBkW"
      },
      "execution_count": null,
      "outputs": []
    },
    {
      "cell_type": "code",
      "source": [
        "table = str.maketrans(\"abc\", \"123\")"
      ],
      "metadata": {
        "id": "-VeRBnQTRzSX"
      },
      "execution_count": 71,
      "outputs": []
    },
    {
      "cell_type": "code",
      "source": [
        "text = \"abcde a b c abc\"\n",
        "result = text.translate(table)\n",
        "print(result)"
      ],
      "metadata": {
        "colab": {
          "base_uri": "https://localhost:8080/"
        },
        "id": "dPXKTpxKR2xn",
        "outputId": "d5835a47-b400-4d61-d2f1-0090e95ec686"
      },
      "execution_count": 72,
      "outputs": [
        {
          "output_type": "stream",
          "name": "stdout",
          "text": [
            "123de 1 2 3 123\n"
          ]
        }
      ]
    },
    {
      "cell_type": "code",
      "source": [
        "# 활용 2 : 특정 문자 제거"
      ],
      "metadata": {
        "id": "OfVn3BRqSENm"
      },
      "execution_count": null,
      "outputs": []
    },
    {
      "cell_type": "code",
      "source": [
        "# 'd' 와 'e' 제거하기\n",
        "table = str.maketrans('', '', 'de')\n",
        "text = \"abcde\"\n",
        "result = text.translate(table)\n",
        "print(result) # abc"
      ],
      "metadata": {
        "colab": {
          "base_uri": "https://localhost:8080/"
        },
        "id": "3DKG18W_SGhu",
        "outputId": "a13bd23b-0c0d-4e75-8bf6-59e6a5d33aec"
      },
      "execution_count": 73,
      "outputs": [
        {
          "output_type": "stream",
          "name": "stdout",
          "text": [
            "abc\n"
          ]
        }
      ]
    },
    {
      "cell_type": "code",
      "source": [
        "# 개행문자(escape문자 중 하나) 제거"
      ],
      "metadata": {
        "id": "8czIl1TWSsee"
      },
      "execution_count": null,
      "outputs": []
    },
    {
      "cell_type": "code",
      "source": [
        "table = str.maketrans('\\n\\t', '  ') # 똑같은 길이를 가지고 있어야 함\n",
        "'weniv \\n\\n\\n CEO \\t\\t\\t licat'.translate(table)"
      ],
      "metadata": {
        "colab": {
          "base_uri": "https://localhost:8080/",
          "height": 35
        },
        "id": "aoLBW6vRSVlI",
        "outputId": "f193d215-ba49-4c13-ec00-c83665487af9"
      },
      "execution_count": 74,
      "outputs": [
        {
          "output_type": "execute_result",
          "data": {
            "text/plain": [
              "'weniv     CEO     licat'"
            ],
            "application/vnd.google.colaboratory.intrinsic+json": {
              "type": "string"
            }
          },
          "metadata": {},
          "execution_count": 74
        }
      ]
    },
    {
      "cell_type": "code",
      "source": [
        "j = '''안녕하세요.\n",
        "신찬수입니다.\n",
        "파이썬, 장고 좋아요\n",
        "잘 부탁드립니다.\n",
        "'''"
      ],
      "metadata": {
        "id": "4qnGG7ekSaRW"
      },
      "execution_count": 76,
      "outputs": []
    },
    {
      "cell_type": "code",
      "source": [
        "j.translate(table)"
      ],
      "metadata": {
        "colab": {
          "base_uri": "https://localhost:8080/",
          "height": 35
        },
        "id": "-471yzzbSlom",
        "outputId": "a4b5b7fb-e08c-42bd-b09b-591049be0d6c"
      },
      "execution_count": 77,
      "outputs": [
        {
          "output_type": "execute_result",
          "data": {
            "text/plain": [
              "'안녕하세요. 신찬수입니다.  파이썬, 장고 좋아요 잘 부탁드립니다. '"
            ],
            "application/vnd.google.colaboratory.intrinsic+json": {
              "type": "string"
            }
          },
          "metadata": {},
          "execution_count": 77
        }
      ]
    },
    {
      "cell_type": "markdown",
      "source": [
        "# 1.6 이스케이프"
      ],
      "metadata": {
        "id": "jV-QNuxsSqQ3"
      }
    },
    {
      "cell_type": "code",
      "source": [
        "print(\"Hello\\nWorld!\")\n",
        "print(\"Hello\\tWorld!\")\n",
        "print(\"She said, \\\"Hello World!\\\"\")\n",
        "print('She said, \\'Hello World!\\'')\n",
        "print(\"Backslash: \\\\\")"
      ],
      "metadata": {
        "colab": {
          "base_uri": "https://localhost:8080/"
        },
        "id": "-tglmjaHT1_J",
        "outputId": "c0499357-6c39-4d14-cb3a-9d97ca8ba4c8"
      },
      "execution_count": 82,
      "outputs": [
        {
          "output_type": "stream",
          "name": "stdout",
          "text": [
            "Hello\n",
            "World!\n",
            "Hello\tWorld!\n",
            "She said, \"Hello World!\"\n",
            "She said, 'Hello World!'\n",
            "Backslash: \\\n"
          ]
        }
      ]
    },
    {
      "cell_type": "code",
      "source": [
        "\" Python Programming\".strip().upper()"
      ],
      "metadata": {
        "colab": {
          "base_uri": "https://localhost:8080/",
          "height": 35
        },
        "id": "Vq4osFRESwcu",
        "outputId": "4dbcc1cb-4dc3-4fda-d421-fea3748210b4"
      },
      "execution_count": 87,
      "outputs": [
        {
          "output_type": "execute_result",
          "data": {
            "text/plain": [
              "'PYTHON PROGRAMMING'"
            ],
            "application/vnd.google.colaboratory.intrinsic+json": {
              "type": "string"
            }
          },
          "metadata": {},
          "execution_count": 87
        }
      ]
    },
    {
      "cell_type": "markdown",
      "source": [
        "# 2. Bool"
      ],
      "metadata": {
        "id": "fL3PDwH8S1l9"
      }
    },
    {
      "cell_type": "code",
      "source": [
        "x = True\n",
        "y = False\n",
        "z = 10 < 3\n",
        "print(x, y, z)"
      ],
      "metadata": {
        "colab": {
          "base_uri": "https://localhost:8080/"
        },
        "id": "D-Z-N-5tS3_9",
        "outputId": "722071f7-fca3-41ea-c6b5-da7865a4eaf5"
      },
      "execution_count": 1,
      "outputs": [
        {
          "output_type": "stream",
          "name": "stdout",
          "text": [
            "True False False\n"
          ]
        }
      ]
    },
    {
      "cell_type": "code",
      "source": [
        "print(True == 1)\n",
        "print(False == 0)"
      ],
      "metadata": {
        "colab": {
          "base_uri": "https://localhost:8080/"
        },
        "id": "U6o4OsXkS8NZ",
        "outputId": "ea6bf00a-9355-4c1b-b06f-22ed18109655"
      },
      "execution_count": 2,
      "outputs": [
        {
          "output_type": "stream",
          "name": "stdout",
          "text": [
            "True\n",
            "True\n"
          ]
        }
      ]
    },
    {
      "cell_type": "code",
      "source": [
        "# 활용 : 데이터가 몇 개 일치하는가?"
      ],
      "metadata": {
        "id": "IxLbXds-TAr1"
      },
      "execution_count": null,
      "outputs": []
    },
    {
      "cell_type": "code",
      "source": [
        "print(True + True)\n",
        "print(False - False)\n",
        "print(True / True)\n",
        "print(True * False)"
      ],
      "metadata": {
        "id": "XqhP7w5oTHN9"
      },
      "execution_count": null,
      "outputs": []
    },
    {
      "cell_type": "code",
      "source": [
        "# print(True / False) # 에러 발생\n",
        "# : division by zero - False가 0. -> 0으로는 나눌 수 없다!"
      ],
      "metadata": {
        "colab": {
          "base_uri": "https://localhost:8080/",
          "height": 184
        },
        "id": "U6IeueMSTqB2",
        "outputId": "92862ccd-a58e-40e0-b4cc-1c9d385d8890"
      },
      "execution_count": 4,
      "outputs": [
        {
          "output_type": "error",
          "ename": "ZeroDivisionError",
          "evalue": "ignored",
          "traceback": [
            "\u001b[0;31m---------------------------------------------------------------------------\u001b[0m",
            "\u001b[0;31mZeroDivisionError\u001b[0m                         Traceback (most recent call last)",
            "\u001b[0;32m<ipython-input-4-5414eb782477>\u001b[0m in \u001b[0;36m<cell line: 1>\u001b[0;34m()\u001b[0m\n\u001b[0;32m----> 1\u001b[0;31m \u001b[0mprint\u001b[0m\u001b[0;34m(\u001b[0m\u001b[0;32mTrue\u001b[0m \u001b[0;34m/\u001b[0m \u001b[0;32mFalse\u001b[0m\u001b[0;34m)\u001b[0m \u001b[0;31m# 에러 발생\u001b[0m\u001b[0;34m\u001b[0m\u001b[0;34m\u001b[0m\u001b[0m\n\u001b[0m",
            "\u001b[0;31mZeroDivisionError\u001b[0m: division by zero"
          ]
        }
      ]
    },
    {
      "cell_type": "markdown",
      "source": [
        "# 3. None 자료형"
      ],
      "metadata": {
        "id": "ZgxOH1rtT6U9"
      }
    },
    {
      "cell_type": "code",
      "source": [
        "양말상자 = None"
      ],
      "metadata": {
        "id": "XolbLiBBT_IV"
      },
      "execution_count": 5,
      "outputs": []
    },
    {
      "cell_type": "code",
      "source": [
        "print(양말상자)"
      ],
      "metadata": {
        "colab": {
          "base_uri": "https://localhost:8080/"
        },
        "id": "5XwznuYMUDAm",
        "outputId": "c4df320b-7e88-49fa-9680-e289fce32be4"
      },
      "execution_count": 6,
      "outputs": [
        {
          "output_type": "stream",
          "name": "stdout",
          "text": [
            "None\n"
          ]
        }
      ]
    },
    {
      "cell_type": "code",
      "source": [
        "dir(None) # 그럼 쓸 수 있는 메서드는?"
      ],
      "metadata": {
        "colab": {
          "base_uri": "https://localhost:8080/"
        },
        "id": "HtmwAZ_HUFPm",
        "outputId": "7ddce341-3ba6-4f65-8c16-ac175d18d925"
      },
      "execution_count": 7,
      "outputs": [
        {
          "output_type": "execute_result",
          "data": {
            "text/plain": [
              "['__bool__',\n",
              " '__class__',\n",
              " '__delattr__',\n",
              " '__dir__',\n",
              " '__doc__',\n",
              " '__eq__',\n",
              " '__format__',\n",
              " '__ge__',\n",
              " '__getattribute__',\n",
              " '__gt__',\n",
              " '__hash__',\n",
              " '__init__',\n",
              " '__init_subclass__',\n",
              " '__le__',\n",
              " '__lt__',\n",
              " '__ne__',\n",
              " '__new__',\n",
              " '__reduce__',\n",
              " '__reduce_ex__',\n",
              " '__repr__',\n",
              " '__setattr__',\n",
              " '__sizeof__',\n",
              " '__str__',\n",
              " '__subclasshook__']"
            ]
          },
          "metadata": {},
          "execution_count": 7
        }
      ]
    },
    {
      "cell_type": "code",
      "source": [
        "# 메서드 체이닝"
      ],
      "metadata": {
        "id": "Iy_KZs0YUqoT"
      },
      "execution_count": null,
      "outputs": []
    },
    {
      "cell_type": "code",
      "source": [
        "'010-1000-2000'.split('-').replace('0', 'x')"
      ],
      "metadata": {
        "colab": {
          "base_uri": "https://localhost:8080/",
          "height": 184
        },
        "id": "lL9tulmPUFWc",
        "outputId": "5446ba8c-b3ab-4bb3-cdd2-ff7a9071da9c"
      },
      "execution_count": 8,
      "outputs": [
        {
          "output_type": "error",
          "ename": "AttributeError",
          "evalue": "ignored",
          "traceback": [
            "\u001b[0;31m---------------------------------------------------------------------------\u001b[0m",
            "\u001b[0;31mAttributeError\u001b[0m                            Traceback (most recent call last)",
            "\u001b[0;32m<ipython-input-8-81c44aeda323>\u001b[0m in \u001b[0;36m<cell line: 1>\u001b[0;34m()\u001b[0m\n\u001b[0;32m----> 1\u001b[0;31m \u001b[0;34m'010-1000-2000'\u001b[0m\u001b[0;34m.\u001b[0m\u001b[0msplit\u001b[0m\u001b[0;34m(\u001b[0m\u001b[0;34m'-'\u001b[0m\u001b[0;34m)\u001b[0m\u001b[0;34m.\u001b[0m\u001b[0mreplace\u001b[0m\u001b[0;34m(\u001b[0m\u001b[0;34m'0'\u001b[0m\u001b[0;34m,\u001b[0m \u001b[0;34m'x'\u001b[0m\u001b[0;34m)\u001b[0m\u001b[0;34m\u001b[0m\u001b[0;34m\u001b[0m\u001b[0m\n\u001b[0m",
            "\u001b[0;31mAttributeError\u001b[0m: 'list' object has no attribute 'replace'"
          ]
        }
      ]
    },
    {
      "cell_type": "code",
      "source": [
        "# -> 앞의 결과가 다음의 메서드를 지원 안 하면 오류 난다.\n",
        "# '010-1000-2000'.split('-') => 리스트\n",
        "# 리스트 => replatce 지원 x"
      ],
      "metadata": {
        "id": "b3DlMGXPUyEb"
      },
      "execution_count": null,
      "outputs": []
    },
    {
      "cell_type": "code",
      "source": [
        " a = '010-1000-2000'.split('-')\n",
        " print(a)"
      ],
      "metadata": {
        "colab": {
          "base_uri": "https://localhost:8080/"
        },
        "id": "YyvHkczkU_gU",
        "outputId": "341d3a05-8974-45a8-af53-3764ee1664fc"
      },
      "execution_count": 9,
      "outputs": [
        {
          "output_type": "stream",
          "name": "stdout",
          "text": [
            "['010', '1000', '2000']\n"
          ]
        }
      ]
    },
    {
      "cell_type": "code",
      "source": [
        "a.replace('O', 'x')"
      ],
      "metadata": {
        "colab": {
          "base_uri": "https://localhost:8080/",
          "height": 184
        },
        "id": "Ssso1caQUFar",
        "outputId": "a2d0470d-ba66-47ff-a801-9f6e316f2ad0"
      },
      "execution_count": 10,
      "outputs": [
        {
          "output_type": "error",
          "ename": "AttributeError",
          "evalue": "ignored",
          "traceback": [
            "\u001b[0;31m---------------------------------------------------------------------------\u001b[0m",
            "\u001b[0;31mAttributeError\u001b[0m                            Traceback (most recent call last)",
            "\u001b[0;32m<ipython-input-10-25fde837b9a8>\u001b[0m in \u001b[0;36m<cell line: 1>\u001b[0;34m()\u001b[0m\n\u001b[0;32m----> 1\u001b[0;31m \u001b[0ma\u001b[0m\u001b[0;34m.\u001b[0m\u001b[0mreplace\u001b[0m\u001b[0;34m(\u001b[0m\u001b[0;34m'O'\u001b[0m\u001b[0;34m,\u001b[0m \u001b[0;34m'x'\u001b[0m\u001b[0;34m)\u001b[0m\u001b[0;34m\u001b[0m\u001b[0;34m\u001b[0m\u001b[0m\n\u001b[0m",
            "\u001b[0;31mAttributeError\u001b[0m: 'list' object has no attribute 'replace'"
          ]
        }
      ]
    },
    {
      "cell_type": "markdown",
      "source": [
        "#4. 형변환"
      ],
      "metadata": {
        "id": "jv1rg89VVKBM"
      }
    },
    {
      "cell_type": "markdown",
      "source": [
        "# 4.1 형변환 기본 예제"
      ],
      "metadata": {
        "id": "L_FdyPoVVTts"
      }
    },
    {
      "cell_type": "code",
      "source": [
        "월급 = input(\"월급을 입력하세요:\")\n",
        "연봉 = 월급 * 12\n",
        "print(연봉)"
      ],
      "metadata": {
        "colab": {
          "base_uri": "https://localhost:8080/"
        },
        "id": "m4I07qi7VbXk",
        "outputId": "be77ff73-978e-4822-e342-a99c773cb7d1"
      },
      "execution_count": 11,
      "outputs": [
        {
          "output_type": "stream",
          "name": "stdout",
          "text": [
            "월급을 입력하세요:1000000000\n",
            "100000000010000000001000000000100000000010000000001000000000100000000010000000001000000000100000000010000000001000000000\n"
          ]
        }
      ]
    },
    {
      "cell_type": "code",
      "source": [
        "# ? -> input은 str로 입력을 받음."
      ],
      "metadata": {
        "id": "Tbo_puiMVgSz"
      },
      "execution_count": null,
      "outputs": []
    },
    {
      "cell_type": "code",
      "source": [
        "# 제대로 수행\n",
        "# int로 형변환 하자~"
      ],
      "metadata": {
        "id": "0_OsAPTwVnaq"
      },
      "execution_count": null,
      "outputs": []
    },
    {
      "cell_type": "code",
      "source": [
        "월급 = int(input(\"월급을 입력하세요:\"))\n",
        "연봉 = 월급 * 12\n",
        "print(연봉)"
      ],
      "metadata": {
        "id": "2vpKSK-XVj2s"
      },
      "execution_count": null,
      "outputs": []
    },
    {
      "cell_type": "code",
      "source": [
        "월급 = input(\"월급을 입력하세요:\")\n",
        "연봉 = int(월급) * 12\n",
        "print(연봉)"
      ],
      "metadata": {
        "id": "FmKgXVkgVmH7"
      },
      "execution_count": null,
      "outputs": []
    },
    {
      "cell_type": "code",
      "source": [
        "# 팁:\n",
        "# 위처럼 숫자형태의 문자열은 정수형으로 형변환 가능\n",
        "# 하지만 문자형태의 문자열을 정수형으로 형변환 불가"
      ],
      "metadata": {
        "id": "4gomusfuVvZT"
      },
      "execution_count": null,
      "outputs": []
    },
    {
      "cell_type": "markdown",
      "source": [
        "# 4.2 소수형 -> 정수형"
      ],
      "metadata": {
        "id": "HP7AR82lV_Ak"
      }
    },
    {
      "cell_type": "code",
      "source": [
        "f = 3.14159\n",
        "number = int(f)\n",
        "print(number)"
      ],
      "metadata": {
        "colab": {
          "base_uri": "https://localhost:8080/"
        },
        "id": "J8tM3GHCWDRq",
        "outputId": "97cecf64-ccf9-4efb-fa26-d7690d5b0c85"
      },
      "execution_count": 12,
      "outputs": [
        {
          "output_type": "stream",
          "name": "stdout",
          "text": [
            "3\n"
          ]
        }
      ]
    },
    {
      "cell_type": "markdown",
      "source": [
        "# 4.3 불린 -> 정수형"
      ],
      "metadata": {
        "id": "N9Rx8KtqWFQz"
      }
    },
    {
      "cell_type": "code",
      "source": [
        "true_int = int(True)\n",
        "false_int = int(False)\n",
        "\n",
        "print(true_int)\n",
        "print(false_int)"
      ],
      "metadata": {
        "colab": {
          "base_uri": "https://localhost:8080/"
        },
        "id": "UQ9iL9PLWHXU",
        "outputId": "40608711-f730-433d-b9f6-70b87d0bd3b4"
      },
      "execution_count": 13,
      "outputs": [
        {
          "output_type": "stream",
          "name": "stdout",
          "text": [
            "1\n",
            "0\n"
          ]
        }
      ]
    },
    {
      "cell_type": "markdown",
      "source": [
        "# 4.4 none은 int형으로 형변환 불가"
      ],
      "metadata": {
        "id": "-nmlm5lBWSWr"
      }
    },
    {
      "cell_type": "code",
      "source": [
        "none_int = int(None)"
      ],
      "metadata": {
        "colab": {
          "base_uri": "https://localhost:8080/",
          "height": 184
        },
        "id": "NdASFJH1WbL6",
        "outputId": "146d2701-384f-4d79-da6a-84d798f61c29"
      },
      "execution_count": 14,
      "outputs": [
        {
          "output_type": "error",
          "ename": "TypeError",
          "evalue": "ignored",
          "traceback": [
            "\u001b[0;31m---------------------------------------------------------------------------\u001b[0m",
            "\u001b[0;31mTypeError\u001b[0m                                 Traceback (most recent call last)",
            "\u001b[0;32m<ipython-input-14-09340e5c0116>\u001b[0m in \u001b[0;36m<cell line: 1>\u001b[0;34m()\u001b[0m\n\u001b[0;32m----> 1\u001b[0;31m \u001b[0mnone_int\u001b[0m \u001b[0;34m=\u001b[0m \u001b[0mint\u001b[0m\u001b[0;34m(\u001b[0m\u001b[0;32mNone\u001b[0m\u001b[0;34m)\u001b[0m\u001b[0;34m\u001b[0m\u001b[0;34m\u001b[0m\u001b[0m\n\u001b[0m",
            "\u001b[0;31mTypeError\u001b[0m: int() argument must be a string, a bytes-like object or a real number, not 'NoneType'"
          ]
        }
      ]
    },
    {
      "cell_type": "markdown",
      "source": [
        "# 4.5 Str 형변환"
      ],
      "metadata": {
        "id": "vgCV7JmSWcEM"
      }
    },
    {
      "cell_type": "markdown",
      "source": [
        "## 4.5.1 int와 float → str"
      ],
      "metadata": {
        "id": "GpARlX0FWggy"
      }
    },
    {
      "cell_type": "code",
      "source": [
        "n = 123\n",
        "print(type(n))\n",
        "\n",
        "m = 123.4\n",
        "print(type(m))\n",
        "\n",
        "n = str(n)\n",
        "print(type(n))\n",
        "\n",
        "m = str(m)\n",
        "print(type(m))"
      ],
      "metadata": {
        "colab": {
          "base_uri": "https://localhost:8080/"
        },
        "id": "FUD-uYHUWkDL",
        "outputId": "856edcfd-f23b-449c-ff2c-687eff75cc77"
      },
      "execution_count": 15,
      "outputs": [
        {
          "output_type": "stream",
          "name": "stdout",
          "text": [
            "<class 'int'>\n",
            "<class 'float'>\n",
            "<class 'str'>\n",
            "<class 'str'>\n"
          ]
        }
      ]
    },
    {
      "cell_type": "code",
      "source": [
        "# float 형은 int로 변환했다가 str로 변환했을 때 오류\n",
        "# - 이유: . 때문"
      ],
      "metadata": {
        "id": "Ay_9Pyr5WmSz"
      },
      "execution_count": null,
      "outputs": []
    },
    {
      "cell_type": "markdown",
      "source": [
        "## 4.5.2 bool 형변환"
      ],
      "metadata": {
        "id": "R0uV6zalWsaT"
      }
    },
    {
      "cell_type": "code",
      "source": [
        "print(\"bool('test'):\", bool('test'))\n",
        "print(\"bool(' '):\", bool(' '))\n",
        "print(\"bool(''):\", bool(''))\n",
        "print(\"bool(100):\", bool(100))\n",
        "print(\"bool(1):\", bool(1))\n",
        "print(\"bool(0):\", bool(0))\n",
        "print(\"bool(-1):\", bool(-1))\n",
        "print(\"bool(None):\", bool(None))\n",
        "print(\"bool([]):\", bool([]))\n",
        "print(\"bool(tuple()):\", bool(tuple()))\n",
        "print(\"bool({}):\", bool({}))\n",
        "print(\"bool(set()):\", bool(set()))"
      ],
      "metadata": {
        "colab": {
          "base_uri": "https://localhost:8080/"
        },
        "id": "e8PGL8gFWxRx",
        "outputId": "23463626-3451-431a-c556-de22a67e41c1"
      },
      "execution_count": 16,
      "outputs": [
        {
          "output_type": "stream",
          "name": "stdout",
          "text": [
            "bool('test'): True\n",
            "bool(' '): True\n",
            "bool(''): False\n",
            "bool(100): True\n",
            "bool(1): True\n",
            "bool(0): False\n",
            "bool(-1): True\n",
            "bool(None): False\n",
            "bool([]): False\n",
            "bool(tuple()): False\n",
            "bool({}): False\n",
            "bool(set()): False\n"
          ]
        }
      ]
    },
    {
      "cell_type": "code",
      "source": [
        "# 빈 자료는 False, 공백의 경우 자료로 인식돼서 True"
      ],
      "metadata": {
        "id": "VyJXheNBW0HS"
      },
      "execution_count": null,
      "outputs": []
    },
    {
      "cell_type": "markdown",
      "source": [
        "## 4.5.3 float 형 변환"
      ],
      "metadata": {
        "id": "qFDa9c2TW13y"
      }
    },
    {
      "cell_type": "code",
      "source": [
        "# 일반 float 형변환\n",
        "s = 10\n",
        "print(float(s))\n",
        "\n",
        "s = '10'\n",
        "print(float(s))\n",
        "\n",
        "s = '3.14'\n",
        "print(float(s))"
      ],
      "metadata": {
        "colab": {
          "base_uri": "https://localhost:8080/"
        },
        "id": "uyDw38hjW5la",
        "outputId": "6c9a2385-0e00-4ec4-c89b-b092882d8a60"
      },
      "execution_count": 17,
      "outputs": [
        {
          "output_type": "stream",
          "name": "stdout",
          "text": [
            "10.0\n",
            "10.0\n",
            "3.14\n"
          ]
        }
      ]
    },
    {
      "cell_type": "code",
      "source": [
        "# 특수 float 형변환\n",
        "infinity = float('inf')\n",
        "neg_infinity = float('-inf')\n",
        "not_a_number = float('nan') # None, NA 각자 약간씩 다르다"
      ],
      "metadata": {
        "id": "9N2E9JOcW6va"
      },
      "execution_count": 18,
      "outputs": []
    },
    {
      "cell_type": "markdown",
      "source": [
        "# 4.6 list 형변환"
      ],
      "metadata": {
        "id": "vKxKsaIjXDnq"
      }
    },
    {
      "cell_type": "markdown",
      "source": [
        "## 4.5.1 str->list"
      ],
      "metadata": {
        "id": "1BsIfdumXSIC"
      }
    },
    {
      "cell_type": "code",
      "source": [
        "# 시퀀스 자료형 -> 리스트\n",
        "s = '10'\n",
        "print(list(s))\n",
        "\n",
        "name = 'licat'\n",
        "print(list(name))"
      ],
      "metadata": {
        "colab": {
          "base_uri": "https://localhost:8080/"
        },
        "id": "Wq1o8e_cXWha",
        "outputId": "e12b0ffc-a8f5-4c45-8207-468200cb9432"
      },
      "execution_count": 19,
      "outputs": [
        {
          "output_type": "stream",
          "name": "stdout",
          "text": [
            "['1', '0']\n",
            "['l', 'i', 'c', 'a', 't']\n"
          ]
        }
      ]
    },
    {
      "cell_type": "code",
      "source": [
        "n = 10\n",
        "print(list(n)) # 출력: error"
      ],
      "metadata": {
        "colab": {
          "base_uri": "https://localhost:8080/",
          "height": 203
        },
        "id": "MD1CyoN9XY7R",
        "outputId": "f5300fd2-bb26-4904-b33c-c71286ea8b8f"
      },
      "execution_count": 20,
      "outputs": [
        {
          "output_type": "error",
          "ename": "TypeError",
          "evalue": "ignored",
          "traceback": [
            "\u001b[0;31m---------------------------------------------------------------------------\u001b[0m",
            "\u001b[0;31mTypeError\u001b[0m                                 Traceback (most recent call last)",
            "\u001b[0;32m<ipython-input-20-683afc4a1273>\u001b[0m in \u001b[0;36m<cell line: 2>\u001b[0;34m()\u001b[0m\n\u001b[1;32m      1\u001b[0m \u001b[0mn\u001b[0m \u001b[0;34m=\u001b[0m \u001b[0;36m10\u001b[0m\u001b[0;34m\u001b[0m\u001b[0;34m\u001b[0m\u001b[0m\n\u001b[0;32m----> 2\u001b[0;31m \u001b[0mprint\u001b[0m\u001b[0;34m(\u001b[0m\u001b[0mlist\u001b[0m\u001b[0;34m(\u001b[0m\u001b[0mn\u001b[0m\u001b[0;34m)\u001b[0m\u001b[0;34m)\u001b[0m \u001b[0;31m# 출력: error\u001b[0m\u001b[0;34m\u001b[0m\u001b[0;34m\u001b[0m\u001b[0m\n\u001b[0m",
            "\u001b[0;31mTypeError\u001b[0m: 'int' object is not iterable"
          ]
        }
      ]
    },
    {
      "cell_type": "code",
      "source": [
        "name = 'licat'\n",
        "tuple(name)"
      ],
      "metadata": {
        "colab": {
          "base_uri": "https://localhost:8080/"
        },
        "id": "JVWZKOQkXZzq",
        "outputId": "592dde6e-1e27-4bd0-b816-4ff44affa232"
      },
      "execution_count": 21,
      "outputs": [
        {
          "output_type": "execute_result",
          "data": {
            "text/plain": [
              "('l', 'i', 'c', 'a', 't')"
            ]
          },
          "metadata": {},
          "execution_count": 21
        }
      ]
    },
    {
      "cell_type": "code",
      "source": [
        "data = [('name','licat'),('age',10)]\n",
        "d = dict(data)\n",
        "d"
      ],
      "metadata": {
        "colab": {
          "base_uri": "https://localhost:8080/"
        },
        "id": "KmvSAV4BXamB",
        "outputId": "37a8e593-478b-4e64-8419-3a26e85d077a"
      },
      "execution_count": 22,
      "outputs": [
        {
          "output_type": "execute_result",
          "data": {
            "text/plain": [
              "{'name': 'licat', 'age': 10}"
            ]
          },
          "metadata": {},
          "execution_count": 22
        }
      ]
    },
    {
      "cell_type": "code",
      "source": [
        "s = 'weniv CEO licat'\n",
        "print(set(s)) #중복을 허락하지 않고 순서가 없습니다. -> 순서 정리하는 문법과 같이 사용하는 게 좋음.\n",
        "print(len(set(s))) #중복을 제거한 상태로의 길이를 알려줍니다.\n",
        "print(len(s))"
      ],
      "metadata": {
        "colab": {
          "base_uri": "https://localhost:8080/"
        },
        "id": "Rfqixio6X_06",
        "outputId": "66c4c4f8-61c9-4319-eed3-008f79f72156"
      },
      "execution_count": 23,
      "outputs": [
        {
          "output_type": "stream",
          "name": "stdout",
          "text": [
            "{'n', 'O', 'w', 'e', 'C', 'l', 'E', 'a', 'v', 'i', 'c', 't', ' '}\n",
            "13\n",
            "15\n"
          ]
        }
      ]
    },
    {
      "cell_type": "code",
      "source": [
        "# map\n",
        "\n",
        "list(map(int, ['10', '20', '30']))"
      ],
      "metadata": {
        "colab": {
          "base_uri": "https://localhost:8080/"
        },
        "id": "mcZkioWLYCzi",
        "outputId": "6131dc80-8e26-4940-b5e9-a1738216269a"
      },
      "execution_count": 24,
      "outputs": [
        {
          "output_type": "execute_result",
          "data": {
            "text/plain": [
              "[10, 20, 30]"
            ]
          },
          "metadata": {},
          "execution_count": 24
        }
      ]
    },
    {
      "cell_type": "code",
      "source": [
        "list(map(int, '12345'))"
      ],
      "metadata": {
        "colab": {
          "base_uri": "https://localhost:8080/"
        },
        "id": "pKTOFtwVYEsK",
        "outputId": "b44c9793-78d4-40d7-b8e0-300f412e5ee7"
      },
      "execution_count": 25,
      "outputs": [
        {
          "output_type": "execute_result",
          "data": {
            "text/plain": [
              "[1, 2, 3, 4, 5]"
            ]
          },
          "metadata": {},
          "execution_count": 25
        }
      ]
    },
    {
      "cell_type": "code",
      "source": [
        "# map을 이용하면 대용량의 데이터 처리도 가능"
      ],
      "metadata": {
        "id": "zywdUNfIYHex"
      },
      "execution_count": null,
      "outputs": []
    }
  ]
}