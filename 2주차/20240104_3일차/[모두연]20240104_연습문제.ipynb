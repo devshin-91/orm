{
  "nbformat": 4,
  "nbformat_minor": 0,
  "metadata": {
    "colab": {
      "provenance": []
    },
    "kernelspec": {
      "name": "python3",
      "display_name": "Python 3"
    },
    "language_info": {
      "name": "python"
    }
  },
  "cells": [
    {
      "cell_type": "markdown",
      "source": [
        "# 연습문제"
      ],
      "metadata": {
        "id": "IYlfsP_JW2MV"
      }
    },
    {
      "cell_type": "code",
      "source": [
        "# 1. 다음 코드의 실행 결괏값을 예상해보세요"
      ],
      "metadata": {
        "id": "1Oq0JzhyW9Gb"
      },
      "execution_count": null,
      "outputs": []
    },
    {
      "cell_type": "code",
      "source": [
        "#1번\n",
        "a = 100\n",
        "(a > 100) and (a < 200)\n",
        "(a > 100) or (a < 200)\n",
        "(a >= 100) and (a <= 200)\n",
        "(a >= 100) or (a <= 200)"
      ],
      "metadata": {
        "id": "SP4KebJ1W_-7"
      },
      "execution_count": null,
      "outputs": []
    },
    {
      "cell_type": "code",
      "source": [
        "# 2. 다음 코드의 실행 결괏값을 예상해보세요"
      ],
      "metadata": {
        "id": "NTH-3UntXRES"
      },
      "execution_count": null,
      "outputs": []
    },
    {
      "cell_type": "code",
      "source": [
        "b = 25\n",
        "(b % 2 == 0) and (b % 5 == 0)"
      ],
      "metadata": {
        "id": "YRefRKoYXPuT"
      },
      "execution_count": null,
      "outputs": []
    },
    {
      "cell_type": "code",
      "source": [
        "# 답\n"
      ],
      "metadata": {
        "id": "rz18txz7XTRy"
      },
      "execution_count": null,
      "outputs": []
    },
    {
      "cell_type": "code",
      "source": [
        "# 3. 변수 c 안에 들어있는 가격을 100원짜리 몇개로 거슬러 줄 수 있는지 출력해주세요"
      ],
      "metadata": {
        "id": "JumH22pLXXzC"
      },
      "execution_count": null,
      "outputs": []
    },
    {
      "cell_type": "code",
      "source": [
        "c = 1000\n",
        "# 결과값은 10입니다."
      ],
      "metadata": {
        "id": "OsaXBLqiXdej"
      },
      "execution_count": null,
      "outputs": []
    },
    {
      "cell_type": "code",
      "source": [
        "# 4. (심화문제) 입력한 금액을 5000원, 1000원, 500원, 100원으로 교환하는 프로그램을 만들어주세요."
      ],
      "metadata": {
        "id": "KWmcz2wPXfEC"
      },
      "execution_count": 1,
      "outputs": []
    },
    {
      "cell_type": "markdown",
      "source": [
        "# 답"
      ],
      "metadata": {
        "id": "byDekeXapP1C"
      }
    },
    {
      "cell_type": "code",
      "source": [
        "# 1번 문제 답\n",
        "\n",
        "False  (F and T)\n",
        "True   (F or T)\n",
        "True   (T and T)\n",
        "True   (T or T)"
      ],
      "metadata": {
        "id": "TQxLCOyFpSeK"
      },
      "execution_count": null,
      "outputs": []
    },
    {
      "cell_type": "code",
      "source": [
        "# 2번 문제 답\n",
        "\n",
        "# 2의 나머지가 0 이면서 5의 나머지가 0인 값이냐? => 2의 배수 이면서 5의 배수인 값이냐?\n",
        "False (25는 2의 배수 x, 5의 배수 o)"
      ],
      "metadata": {
        "id": "PcAC1iw8pU1p"
      },
      "execution_count": null,
      "outputs": []
    },
    {
      "cell_type": "code",
      "source": [
        "# 3번 문제 답\n",
        "\n",
        "c = 1000\n",
        "\n",
        "# 1)\n",
        "num_100 = int(c/100) # 그냥 나누면 float이되어 int 씌어줌\n",
        "print(num_100)\n",
        "\n",
        "# 2)\n",
        "num_100 = c//100 # 나눈 결과가 정수형인 연산자 사용\n",
        "print(num_100)"
      ],
      "metadata": {
        "id": "N6C63MQEplOa",
        "colab": {
          "base_uri": "https://localhost:8080/"
        },
        "outputId": "6810c5e4-41b3-4a38-e2b8-18eb586f68a0"
      },
      "execution_count": 1,
      "outputs": [
        {
          "output_type": "stream",
          "name": "stdout",
          "text": [
            "10\n",
            "10\n"
          ]
        }
      ]
    },
    {
      "cell_type": "code",
      "source": [
        "# 4번 문제 답\n",
        "\n",
        "# 바꿀 지폐 단위 정의\n",
        "num1 = 5000\n",
        "num2 = 1000\n",
        "num3 = 500\n",
        "num4 = 100\n",
        "\n",
        "input_c = int(input(\"금액을 입력해주세요 :\")) # 금액 입력\n",
        "\n",
        "change_option = int(input(\"바꿀 지폐 단위를 번호로 입력해주세요 1. 5000원 2. 1000원 3. 500원 4. 100원:\")) # 바꿀 지폐 단위 선택\n",
        "\n",
        "\n",
        "#  선택한 번호에 따라 지폐 단위 지정\n",
        "if change_option == 1:\n",
        "  option = num1\n",
        "\n",
        "if change_option == 2:\n",
        "  option = num2\n",
        "\n",
        "if change_option == 3:\n",
        "  option = num3\n",
        "\n",
        "if change_option == 4:\n",
        "  option = num4\n",
        "\n",
        "# 입력한 금액이 바꿀 지폐단위 보다 작을 때\n",
        "if input_c < option:\n",
        "  print(f\"입력하신 금액이 {option}원보다 작습니다. 금액과 바꿀 지폐 단위를 다시 선택해주세요.\")\n",
        "\n",
        "# 입력한 금액이 바꿀 지폐단위 보다 클 때\n",
        "if input_c >= option:\n",
        "  change_count = input_c // option # 바꾼 지폐 단위 갯수\n",
        "  remain = input_c - change_count * option # 거스름돈\n",
        "\n",
        "# 입력한 금액, 바꾼 갯수, 거스름돈 출력\n",
        "print(f\"입력해주신 {input_c}원을 {option}원 {change_count}개로 바꿔드렸습니다. 거스름돈은 {remain}원입니다.\")"
      ],
      "metadata": {
        "colab": {
          "base_uri": "https://localhost:8080/"
        },
        "id": "1Drrd5QxXtUC",
        "outputId": "fdf5b974-be20-493d-cba0-23647c4f5911"
      },
      "execution_count": null,
      "outputs": [
        {
          "output_type": "stream",
          "name": "stdout",
          "text": [
            "금액을 입력해주세요 :100\n",
            "바꿀 지폐 단위를 번호로 입력해주세요 1. 5000원 2. 1000원 3. 500원 4. 100원:3\n",
            "입력하신 금액이 500원보다 작습니다. 금액과 바꿀 지폐 단위를 다시 선택해주세요.\n"
          ]
        }
      ]
    }
  ]
}