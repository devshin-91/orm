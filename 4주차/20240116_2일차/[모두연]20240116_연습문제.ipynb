{
  "nbformat": 4,
  "nbformat_minor": 0,
  "metadata": {
    "colab": {
      "provenance": []
    },
    "kernelspec": {
      "name": "python3",
      "display_name": "Python 3"
    },
    "language_info": {
      "name": "python"
    }
  },
  "cells": [
    {
      "cell_type": "markdown",
      "source": [
        "# 문제"
      ],
      "metadata": {
        "id": "qLb9wjC0JJMU"
      }
    },
    {
      "cell_type": "markdown",
      "source": [
        "## 문제 1: 함수를 인자로 받는 고차함수"
      ],
      "metadata": {
        "id": "5lFRJtIFI3sV"
      }
    },
    {
      "cell_type": "markdown",
      "source": [
        "주어진 리스트와 함수를 인자로 받아, 리스트의 각 요소에 해당 함수를 적용한 결과를 반환하는 고차함수 apply_function을 작성해주세요."
      ],
      "metadata": {
        "id": "4x5GONmXJA4L"
      }
    },
    {
      "cell_type": "code",
      "source": [
        "def apply_function(lst, func):\n",
        "    pass\n",
        "\n",
        "# 예제 사용\n",
        "result = apply_function([1, 2, 3, 4], lambda x: x * 2)\n",
        "print(result)  # [2, 4, 6, 8]이 출력되어야 함"
      ],
      "metadata": {
        "id": "Pc4BLEfsJB_T"
      },
      "execution_count": null,
      "outputs": []
    },
    {
      "cell_type": "markdown",
      "source": [
        "## 문제 2: 함수를 반환하는 고차함수"
      ],
      "metadata": {
        "id": "u_Llm9E1JFss"
      }
    },
    {
      "cell_type": "markdown",
      "source": [
        "정수 n을 인자로 받아, 다른 정수 x에 n을 곱하는 함수를 반환하는 고차함수 multiply_by_n을 작성해주세요. 힌트를 드리자면 반환 값은 lambda여야 합니다."
      ],
      "metadata": {
        "id": "PcquHXdBJL7U"
      }
    },
    {
      "cell_type": "code",
      "source": [
        "def multiply_by_n(n):\n",
        "    pass\n",
        "\n",
        "# 예제 사용\n",
        "multiplier = multiply_by_n(5)\n",
        "print(multiplier(3))  # 15가 출력되어야 함"
      ],
      "metadata": {
        "id": "BznRNu4OJMea"
      },
      "execution_count": null,
      "outputs": []
    },
    {
      "cell_type": "markdown",
      "source": [
        "# 개인 답"
      ],
      "metadata": {
        "id": "c4JHz7o4JN_b"
      }
    },
    {
      "cell_type": "code",
      "source": [
        "# 문제 1: 함수를 인자로 받는 고차함수"
      ],
      "metadata": {
        "id": "Kyv0dSD3JOy9"
      },
      "execution_count": null,
      "outputs": []
    },
    {
      "cell_type": "code",
      "source": [
        "def apply_function(lst, func):\n",
        "    return list(map(lambda x: x * 2, lst))\n",
        "\n",
        "# 예제 사용\n",
        "result = apply_function([1, 2, 3, 4], lambda x: x * 2)\n",
        "print(result)  # [2, 4, 6, 8]이 출력되어야 함"
      ],
      "metadata": {
        "colab": {
          "base_uri": "https://localhost:8080/"
        },
        "id": "VZXwSS8-JRYM",
        "outputId": "53b6d5b0-4053-4539-d4d7-4bd47c21400e"
      },
      "execution_count": null,
      "outputs": [
        {
          "output_type": "stream",
          "name": "stdout",
          "text": [
            "[2, 4, 6, 8]\n"
          ]
        }
      ]
    },
    {
      "cell_type": "code",
      "source": [
        "# 문제 2: 함수를 반환하는 고차함수"
      ],
      "metadata": {
        "id": "-9BN1rM_J7YC"
      },
      "execution_count": null,
      "outputs": []
    },
    {
      "cell_type": "code",
      "source": [
        "def multiply_by_n(n):\n",
        "    def target_x_by_n(x):\n",
        "        return n * x\n",
        "    return target_x_by_n\n",
        "\n",
        "# 예제 사용\n",
        "multiplier = multiply_by_n(5)\n",
        "print(multiplier(3))  # 15가 출력되어야 함"
      ],
      "metadata": {
        "colab": {
          "base_uri": "https://localhost:8080/"
        },
        "id": "Ho75UcC7J-cC",
        "outputId": "9994f9df-39c0-442c-b4b9-34211ef9acf5"
      },
      "execution_count": null,
      "outputs": [
        {
          "output_type": "stream",
          "name": "stdout",
          "text": [
            "15\n"
          ]
        }
      ]
    }
  ]
}