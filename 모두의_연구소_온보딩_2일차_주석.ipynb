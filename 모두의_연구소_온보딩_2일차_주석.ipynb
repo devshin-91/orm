{
  "nbformat": 4,
  "nbformat_minor": 0,
  "metadata": {
    "colab": {
      "provenance": []
    },
    "kernelspec": {
      "name": "python3",
      "display_name": "Python 3"
    },
    "language_info": {
      "name": "python"
    }
  },
  "cells": [
    {
      "cell_type": "markdown",
      "source": [
        "# 1. 주석"
      ],
      "metadata": {
        "id": "olJxWp3qCs6g"
      }
    },
    {
      "cell_type": "markdown",
      "source": [
        "## 1.1 한줄 주석\n",
        "한 줄 주석은 # 기호로 시작. 뒤에 오는 건 모드 주석 처리"
      ],
      "metadata": {
        "id": "1K7ANQVZDHrt"
      }
    },
    {
      "cell_type": "code",
      "source": [
        "# 이것은 주석입니다. (특이사항, 전체적인 것들, 업데이트 내용)\n",
        "print('Hello, World 1!') # 이것도 주석입니다.\n",
        "# print('Hello, World 2!') # 코드의 에러 / 향후 수정! / 임시 주석!\n",
        "# 폰트에 따라 l과 1이 헷갈리는 경우가 있어서 문자와 숫자 사이에 한칸 띄어쓰기를 두는 게 좋다"
      ],
      "metadata": {
        "colab": {
          "base_uri": "https://localhost:8080/"
        },
        "id": "CabsxZ98DkSN",
        "outputId": "d847eba1-1c71-4fda-8e6f-74464c6d0a03"
      },
      "execution_count": 2,
      "outputs": [
        {
          "output_type": "stream",
          "name": "stdout",
          "text": [
            "Hello, World 1!\n"
          ]
        }
      ]
    },
    {
      "cell_type": "markdown",
      "source": [
        "## 1.2. 여러 줄 주석\n",
        "\n",
        "'''는 여러 줄 주석에 사용됨. Alt + Enter를 사용해서 실행"
      ],
      "metadata": {
        "id": "EnW-s-qtD7rP"
      }
    },
    {
      "cell_type": "code",
      "source": [
        "'''\n",
        "print('Hello, World 1!')\n",
        "print('Hello, World 2!')\n",
        "print('Hello, World 3!')\n",
        "''' # 주석 출력은 되나 실제적 출력은 아님"
      ],
      "metadata": {
        "colab": {
          "base_uri": "https://localhost:8080/",
          "height": 35
        },
        "id": "9NAzW8fdFQld",
        "outputId": "dcc9ce4f-48b1-4ca5-80fe-625b8b939277"
      },
      "execution_count": 9,
      "outputs": [
        {
          "output_type": "execute_result",
          "data": {
            "text/plain": [
              "\"\\nprint('Hello, World 1!')\\nprint('Hello, World 2!')\\nprint('Hello, World 3!')\\n\""
            ],
            "application/vnd.google.colaboratory.intrinsic+json": {
              "type": "string"
            }
          },
          "metadata": {},
          "execution_count": 9
        }
      ]
    },
    {
      "cell_type": "code",
      "source": [
        "'''\n",
        "print('Hello, World 1!')\n",
        "print('Hello, World 2!')\n",
        "print('Hello, World 3!')\n",
        "'''\n",
        "\n",
        "print('Real Hello World!')"
      ],
      "metadata": {
        "colab": {
          "base_uri": "https://localhost:8080/"
        },
        "id": "yxtHXhFXEwY2",
        "outputId": "d498f8a2-8a90-44f0-b253-a957d6afce04"
      },
      "execution_count": 10,
      "outputs": [
        {
          "output_type": "stream",
          "name": "stdout",
          "text": [
            "Real Hello World!\n"
          ]
        }
      ]
    },
    {
      "cell_type": "code",
      "source": [
        "\"\"\"\n",
        "print('Hello, World 1!')\n",
        "print('Hello, World 2!')\n",
        "print('Hello, World 3!')\n",
        "\"\"\""
      ],
      "metadata": {
        "colab": {
          "base_uri": "https://localhost:8080/",
          "height": 35
        },
        "id": "MoSk3YWTFEV-",
        "outputId": "f0ea8027-da66-402a-8fc6-bef998e8b813"
      },
      "execution_count": 11,
      "outputs": [
        {
          "output_type": "execute_result",
          "data": {
            "text/plain": [
              "\"\\nprint('Hello, World 1!')\\nprint('Hello, World 2!')\\nprint('Hello, World 3!')\\n\""
            ],
            "application/vnd.google.colaboratory.intrinsic+json": {
              "type": "string"
            }
          },
          "metadata": {},
          "execution_count": 11
        }
      ]
    },
    {
      "cell_type": "code",
      "source": [
        "# 코드 옆에 쓰는 주석은 #으로 통일하는 것을 권장"
      ],
      "metadata": {
        "id": "tMoPIEXbFZRs"
      },
      "execution_count": 12,
      "outputs": []
    }
  ]
}