{
 "cells": [
  {
   "cell_type": "code",
   "execution_count": 1,
   "id": "0c955a80",
   "metadata": {},
   "outputs": [],
   "source": [
    "# sql 관련 라이브러리 불러오기\n",
    "from sqlalchemy.engine import create_engine\n",
    "import sqlite3\n",
    "from pandas.io import sql\n",
    "import subprocess\n",
    "%load_ext sql"
   ]
  },
  {
   "cell_type": "code",
   "execution_count": 2,
   "id": "15ae0e96",
   "metadata": {},
   "outputs": [],
   "source": [
    "%sql sqlite:///커머스.db"
   ]
  },
  {
   "cell_type": "markdown",
   "id": "e67b800f",
   "metadata": {},
   "source": [
    "# 숫자함수"
   ]
  },
  {
   "cell_type": "code",
   "execution_count": 6,
   "id": "bbcd01cd",
   "metadata": {},
   "outputs": [
    {
     "name": "stdout",
     "output_type": "stream",
     "text": [
      " * sqlite:///커머스.db\n",
      "Done.\n"
     ]
    },
    {
     "data": {
      "text/html": [
       "<table>\n",
       "    <thead>\n",
       "        <tr>\n",
       "            <th>round(100.56789,0)</th>\n",
       "        </tr>\n",
       "    </thead>\n",
       "    <tbody>\n",
       "        <tr>\n",
       "            <td>101.0</td>\n",
       "        </tr>\n",
       "    </tbody>\n",
       "</table>"
      ],
      "text/plain": [
       "[(101.0,)]"
      ]
     },
     "execution_count": 6,
     "metadata": {},
     "output_type": "execute_result"
    }
   ],
   "source": [
    "# ROUND\n",
    "# 반올림\n",
    "# 소수점 첫째자리는 0\n",
    "%sql select round(100.56789,0)"
   ]
  },
  {
   "cell_type": "code",
   "execution_count": 7,
   "id": "3e503389",
   "metadata": {},
   "outputs": [
    {
     "name": "stdout",
     "output_type": "stream",
     "text": [
      " * sqlite:///커머스.db\n",
      "Done.\n"
     ]
    },
    {
     "data": {
      "text/html": [
       "<table>\n",
       "    <thead>\n",
       "        <tr>\n",
       "            <th>round(100.56789,3)</th>\n",
       "        </tr>\n",
       "    </thead>\n",
       "    <tbody>\n",
       "        <tr>\n",
       "            <td>100.568</td>\n",
       "        </tr>\n",
       "    </tbody>\n",
       "</table>"
      ],
      "text/plain": [
       "[(100.568,)]"
      ]
     },
     "execution_count": 7,
     "metadata": {},
     "output_type": "execute_result"
    }
   ],
   "source": [
    "%sql select round(100.56789,3)"
   ]
  },
  {
   "cell_type": "code",
   "execution_count": 9,
   "id": "26344145",
   "metadata": {},
   "outputs": [
    {
     "name": "stdout",
     "output_type": "stream",
     "text": [
      " * sqlite:///커머스.db\n",
      "(sqlite3.OperationalError) no such function: trunc\n",
      "[SQL: select trunc(100.56789,3);]\n",
      "(Background on this error at: https://sqlalche.me/e/20/e3q8)\n"
     ]
    }
   ],
   "source": [
    "# TRUNC\n",
    "# 내림\n",
    "# 소수점 첫째자리는 .0\n",
    "\n",
    "# %sql select trunc(100.56789,3); # (sqlite3.OperationalError) no such function: trunc"
   ]
  },
  {
   "cell_type": "code",
   "execution_count": 5,
   "id": "4e2101fd",
   "metadata": {},
   "outputs": [
    {
     "name": "stdout",
     "output_type": "stream",
     "text": [
      " * sqlite:///커머스.db\n",
      "Done.\n"
     ]
    },
    {
     "data": {
      "text/html": [
       "<table>\n",
       "    <thead>\n",
       "        <tr>\n",
       "            <th>index</th>\n",
       "            <th>상품ID</th>\n",
       "            <th>상품명</th>\n",
       "            <th>카테고리ID</th>\n",
       "            <th>가격</th>\n",
       "            <th>재고</th>\n",
       "            <th>설명</th>\n",
       "            <th>공급업체ID</th>\n",
       "        </tr>\n",
       "    </thead>\n",
       "    <tbody>\n",
       "        <tr>\n",
       "            <td>0</td>\n",
       "            <td>1</td>\n",
       "            <td>한정판 노트북 스티커</td>\n",
       "            <td>10</td>\n",
       "            <td>1600000</td>\n",
       "            <td>22</td>\n",
       "            <td>황금으로 만들어진 고급스러운 디자인의 100주년 한정판 스티커</td>\n",
       "            <td>101</td>\n",
       "        </tr>\n",
       "        <tr>\n",
       "            <td>1</td>\n",
       "            <td>2</td>\n",
       "            <td>위니브 프렌즈 노트북 파우치</td>\n",
       "            <td>10</td>\n",
       "            <td>48500</td>\n",
       "            <td>71</td>\n",
       "            <td>귀여운 위니브 프렌즈 캐릭터가 포인트인 노트북 파우치</td>\n",
       "            <td>101</td>\n",
       "        </tr>\n",
       "        <tr>\n",
       "            <td>2</td>\n",
       "            <td>3</td>\n",
       "            <td>LED 전구</td>\n",
       "            <td>5</td>\n",
       "            <td>34900</td>\n",
       "            <td>73</td>\n",
       "            <td>화이트 세라믹으로 고급스러운 분위기 조성하는 테이블 램프</td>\n",
       "            <td>102</td>\n",
       "        </tr>\n",
       "        <tr>\n",
       "            <td>3</td>\n",
       "            <td>4</td>\n",
       "            <td>위니브 AI 볼펜</td>\n",
       "            <td>9</td>\n",
       "            <td>34900</td>\n",
       "            <td>35</td>\n",
       "            <td>최신 인공지능 기술이 적용된 드를 짜주는 스마트 볼펜</td>\n",
       "            <td>101</td>\n",
       "        </tr>\n",
       "        <tr>\n",
       "            <td>4</td>\n",
       "            <td>5</td>\n",
       "            <td>블루투스 스피커</td>\n",
       "            <td>9</td>\n",
       "            <td>54800</td>\n",
       "            <td>45</td>\n",
       "            <td>고품질 음향과 블루투스 연결이 가능한 스피커</td>\n",
       "            <td>103</td>\n",
       "        </tr>\n",
       "        <tr>\n",
       "            <td>5</td>\n",
       "            <td>6</td>\n",
       "            <td>스마트폰 XZ Pro</td>\n",
       "            <td>9</td>\n",
       "            <td>1420000</td>\n",
       "            <td>83</td>\n",
       "            <td>고성능 카메라와 최신 기술을 탑재한 스마트폰</td>\n",
       "            <td>103</td>\n",
       "        </tr>\n",
       "        <tr>\n",
       "            <td>6</td>\n",
       "            <td>7</td>\n",
       "            <td>내열 주방 프라이팬</td>\n",
       "            <td>4</td>\n",
       "            <td>39900</td>\n",
       "            <td>26</td>\n",
       "            <td>내열 기능이 뛰어난 주방 필수 아이템</td>\n",
       "            <td>105</td>\n",
       "        </tr>\n",
       "        <tr>\n",
       "            <td>7</td>\n",
       "            <td>8</td>\n",
       "            <td>모던 디자인 베드룸등</td>\n",
       "            <td>6</td>\n",
       "            <td>42000</td>\n",
       "            <td>40</td>\n",
       "            <td>모던한 디자인으로 공간을 화려하게 밝히는 베드룸등</td>\n",
       "            <td>102</td>\n",
       "        </tr>\n",
       "        <tr>\n",
       "            <td>8</td>\n",
       "            <td>9</td>\n",
       "            <td>전기 그릴</td>\n",
       "            <td>4</td>\n",
       "            <td>149000</td>\n",
       "            <td>8</td>\n",
       "            <td>편리한 조작과 깔끔한 정화능력을 갖춘 전기 그릴</td>\n",
       "            <td>105</td>\n",
       "        </tr>\n",
       "        <tr>\n",
       "            <td>9</td>\n",
       "            <td>10</td>\n",
       "            <td>캔들 홈 인테리어</td>\n",
       "            <td>6</td>\n",
       "            <td>19900</td>\n",
       "            <td>52</td>\n",
       "            <td>편안한 분위기를 연출하는 홈 인테리어 캔들</td>\n",
       "            <td>107</td>\n",
       "        </tr>\n",
       "        <tr>\n",
       "            <td>10</td>\n",
       "            <td>11</td>\n",
       "            <td>스마트 헬스 밴드</td>\n",
       "            <td>11</td>\n",
       "            <td>69900</td>\n",
       "            <td>56</td>\n",
       "            <td>운동량 및 심박수 등을 체크하는 스마트 헬스 밴드</td>\n",
       "            <td>108</td>\n",
       "        </tr>\n",
       "        <tr>\n",
       "            <td>11</td>\n",
       "            <td>12</td>\n",
       "            <td>퓨어소프트 화장지</td>\n",
       "            <td>5</td>\n",
       "            <td>5900</td>\n",
       "            <td>105</td>\n",
       "            <td>부드럽고 흡수력이 뛰어난 퓨어소프트 화장지</td>\n",
       "            <td>106</td>\n",
       "        </tr>\n",
       "        <tr>\n",
       "            <td>12</td>\n",
       "            <td>13</td>\n",
       "            <td>요가매트 Pro</td>\n",
       "            <td>7</td>\n",
       "            <td>29800</td>\n",
       "            <td>43</td>\n",
       "            <td>고밀도 폼으로 만든 편안한 요가매트</td>\n",
       "            <td>104</td>\n",
       "        </tr>\n",
       "        <tr>\n",
       "            <td>13</td>\n",
       "            <td>14</td>\n",
       "            <td>트레킹용 백팩</td>\n",
       "            <td>7</td>\n",
       "            <td>65000</td>\n",
       "            <td>72</td>\n",
       "            <td>트레킹이나 등산에 최적화된 튼튼한 백팩</td>\n",
       "            <td>109</td>\n",
       "        </tr>\n",
       "        <tr>\n",
       "            <td>14</td>\n",
       "            <td>15</td>\n",
       "            <td>4K 액션캠</td>\n",
       "            <td>9</td>\n",
       "            <td>129000</td>\n",
       "            <td>20</td>\n",
       "            <td>고화질 영상 촬영이 가능한 4K 액션캠</td>\n",
       "            <td>109</td>\n",
       "        </tr>\n",
       "        <tr>\n",
       "            <td>15</td>\n",
       "            <td>16</td>\n",
       "            <td>멀티비타민 건강보조제</td>\n",
       "            <td>11</td>\n",
       "            <td>26000</td>\n",
       "            <td>132</td>\n",
       "            <td>다양한 비타민 및 미네랄이 포함된 멀티비타민</td>\n",
       "            <td>108</td>\n",
       "        </tr>\n",
       "        <tr>\n",
       "            <td>16</td>\n",
       "            <td>17</td>\n",
       "            <td>간편한 접이식 옷걸이</td>\n",
       "            <td>5</td>\n",
       "            <td>9500</td>\n",
       "            <td>38</td>\n",
       "            <td>간편하게 사용 가능한 접이식 옷걸이</td>\n",
       "            <td>106</td>\n",
       "        </tr>\n",
       "        <tr>\n",
       "            <td>17</td>\n",
       "            <td>18</td>\n",
       "            <td>캐주얼 코튼 티셔츠</td>\n",
       "            <td>1</td>\n",
       "            <td>29500</td>\n",
       "            <td>87</td>\n",
       "            <td>편안한 일상 코디에 어울리는 캐주얼 티셔츠</td>\n",
       "            <td>110</td>\n",
       "        </tr>\n",
       "        <tr>\n",
       "            <td>18</td>\n",
       "            <td>19</td>\n",
       "            <td>여름용 린넨 드레스</td>\n",
       "            <td>1</td>\n",
       "            <td>34500</td>\n",
       "            <td>21</td>\n",
       "            <td>시원하고 가볍게 입을 수 있는 여름용 린넨 드레스</td>\n",
       "            <td>110</td>\n",
       "        </tr>\n",
       "        <tr>\n",
       "            <td>19</td>\n",
       "            <td>20</td>\n",
       "            <td>에어프라이어</td>\n",
       "            <td>8</td>\n",
       "            <td>129000</td>\n",
       "            <td>95</td>\n",
       "            <td>간편한 조리 및 건강한 음식 조리 가능한 에어프라이어</td>\n",
       "            <td>112</td>\n",
       "        </tr>\n",
       "        <tr>\n",
       "            <td>20</td>\n",
       "            <td>21</td>\n",
       "            <td>경량 스포츠 가방</td>\n",
       "            <td>7</td>\n",
       "            <td>45500</td>\n",
       "            <td>67</td>\n",
       "            <td>경량 디자인으로 휴양지 여행에 최적화된 가방</td>\n",
       "            <td>109</td>\n",
       "        </tr>\n",
       "        <tr>\n",
       "            <td>21</td>\n",
       "            <td>22</td>\n",
       "            <td>스마트 전기포트</td>\n",
       "            <td>8</td>\n",
       "            <td>69900</td>\n",
       "            <td>24</td>\n",
       "            <td>스마트 기능이 탑재된 빠른 전기포트</td>\n",
       "            <td>112</td>\n",
       "        </tr>\n",
       "        <tr>\n",
       "            <td>22</td>\n",
       "            <td>23</td>\n",
       "            <td>프리미엄 초콜릿</td>\n",
       "            <td>3</td>\n",
       "            <td>15500</td>\n",
       "            <td>147</td>\n",
       "            <td>고급 재료로 만든 프리미엄 초콜릿</td>\n",
       "            <td>113</td>\n",
       "        </tr>\n",
       "        <tr>\n",
       "            <td>23</td>\n",
       "            <td>24</td>\n",
       "            <td>스타일러 셔츠</td>\n",
       "            <td>1</td>\n",
       "            <td>39900</td>\n",
       "            <td>52</td>\n",
       "            <td>편안한 일상 코디에 어울리는 스마트 셔츠</td>\n",
       "            <td>110</td>\n",
       "        </tr>\n",
       "        <tr>\n",
       "            <td>24</td>\n",
       "            <td>25</td>\n",
       "            <td>기계식 키보드 K Elite</td>\n",
       "            <td>9</td>\n",
       "            <td>119000</td>\n",
       "            <td>45</td>\n",
       "            <td>게이밍에 특화된 디자인과 고성능 기계식 키보드</td>\n",
       "            <td>114</td>\n",
       "        </tr>\n",
       "        <tr>\n",
       "            <td>25</td>\n",
       "            <td>26</td>\n",
       "            <td>유기농 곡물 시리얼</td>\n",
       "            <td>3</td>\n",
       "            <td>19500</td>\n",
       "            <td>88</td>\n",
       "            <td>유기농 재료로 만든 건강한 곡물 시리얼</td>\n",
       "            <td>115</td>\n",
       "        </tr>\n",
       "        <tr>\n",
       "            <td>26</td>\n",
       "            <td>27</td>\n",
       "            <td>페이셜 마사지 롤러</td>\n",
       "            <td>2</td>\n",
       "            <td>18900</td>\n",
       "            <td>29</td>\n",
       "            <td>얼굴 근육을 튼튼하게 해주는 페이셜 마사지 롤러</td>\n",
       "            <td>116</td>\n",
       "        </tr>\n",
       "        <tr>\n",
       "            <td>27</td>\n",
       "            <td>28</td>\n",
       "            <td>캠핑용 2인 텐트</td>\n",
       "            <td>7</td>\n",
       "            <td>79800</td>\n",
       "            <td>39</td>\n",
       "            <td>2인용으로 간편하게 캠핑을 즐길 수 있는 텐트</td>\n",
       "            <td>111</td>\n",
       "        </tr>\n",
       "        <tr>\n",
       "            <td>28</td>\n",
       "            <td>29</td>\n",
       "            <td>게이밍 마우스 G Pro</td>\n",
       "            <td>9</td>\n",
       "            <td>79900</td>\n",
       "            <td>63</td>\n",
       "            <td>게이밍에 최적화된 고성능 마우스</td>\n",
       "            <td>114</td>\n",
       "        </tr>\n",
       "        <tr>\n",
       "            <td>29</td>\n",
       "            <td>30</td>\n",
       "            <td>프리미엄 커피 머신</td>\n",
       "            <td>8</td>\n",
       "            <td>189000</td>\n",
       "            <td>53</td>\n",
       "            <td>프리미엄 원두를 사용한 고품질 커피를 추출하는 머신</td>\n",
       "            <td>112</td>\n",
       "        </tr>\n",
       "    </tbody>\n",
       "</table>"
      ],
      "text/plain": [
       "[(0, 1, '한정판 노트북 스티커', 10, 1600000, 22, '황금으로 만들어진 고급스러운 디자인의 100주년 한정판 스티커', 101),\n",
       " (1, 2, '위니브 프렌즈 노트북 파우치', 10, 48500, 71, '귀여운 위니브 프렌즈 캐릭터가 포인트인 노트북 파우치', 101),\n",
       " (2, 3, 'LED 전구', 5, 34900, 73, '화이트 세라믹으로 고급스러운 분위기 조성하는 테이블 램프', 102),\n",
       " (3, 4, '위니브 AI 볼펜', 9, 34900, 35, '최신 인공지능 기술이 적용된 드를 짜주는 스마트 볼펜', 101),\n",
       " (4, 5, '블루투스 스피커', 9, 54800, 45, '고품질 음향과 블루투스 연결이 가능한 스피커', 103),\n",
       " (5, 6, '스마트폰 XZ Pro', 9, 1420000, 83, '고성능 카메라와 최신 기술을 탑재한 스마트폰', 103),\n",
       " (6, 7, '내열 주방 프라이팬', 4, 39900, 26, '내열 기능이 뛰어난 주방 필수 아이템', 105),\n",
       " (7, 8, '모던 디자인 베드룸등', 6, 42000, 40, '모던한 디자인으로 공간을 화려하게 밝히는 베드룸등', 102),\n",
       " (8, 9, '전기 그릴', 4, 149000, 8, '편리한 조작과 깔끔한 정화능력을 갖춘 전기 그릴', 105),\n",
       " (9, 10, '캔들 홈 인테리어', 6, 19900, 52, '편안한 분위기를 연출하는 홈 인테리어 캔들', 107),\n",
       " (10, 11, '스마트 헬스 밴드', 11, 69900, 56, '운동량 및 심박수 등을 체크하는 스마트 헬스 밴드', 108),\n",
       " (11, 12, '퓨어소프트 화장지', 5, 5900, 105, '부드럽고 흡수력이 뛰어난 퓨어소프트 화장지', 106),\n",
       " (12, 13, '요가매트 Pro', 7, 29800, 43, '고밀도 폼으로 만든 편안한 요가매트', 104),\n",
       " (13, 14, '트레킹용 백팩', 7, 65000, 72, '트레킹이나 등산에 최적화된 튼튼한 백팩', 109),\n",
       " (14, 15, '4K 액션캠', 9, 129000, 20, '고화질 영상 촬영이 가능한 4K 액션캠', 109),\n",
       " (15, 16, '멀티비타민 건강보조제', 11, 26000, 132, '다양한 비타민 및 미네랄이 포함된 멀티비타민', 108),\n",
       " (16, 17, '간편한 접이식 옷걸이', 5, 9500, 38, '간편하게 사용 가능한 접이식 옷걸이', 106),\n",
       " (17, 18, '캐주얼 코튼 티셔츠', 1, 29500, 87, '편안한 일상 코디에 어울리는 캐주얼 티셔츠', 110),\n",
       " (18, 19, '여름용 린넨 드레스', 1, 34500, 21, '시원하고 가볍게 입을 수 있는 여름용 린넨 드레스', 110),\n",
       " (19, 20, '에어프라이어', 8, 129000, 95, '간편한 조리 및 건강한 음식 조리 가능한 에어프라이어', 112),\n",
       " (20, 21, '경량 스포츠 가방', 7, 45500, 67, '경량 디자인으로 휴양지 여행에 최적화된 가방', 109),\n",
       " (21, 22, '스마트 전기포트', 8, 69900, 24, '스마트 기능이 탑재된 빠른 전기포트', 112),\n",
       " (22, 23, '프리미엄 초콜릿', 3, 15500, 147, '고급 재료로 만든 프리미엄 초콜릿', 113),\n",
       " (23, 24, '스타일러 셔츠', 1, 39900, 52, '편안한 일상 코디에 어울리는 스마트 셔츠', 110),\n",
       " (24, 25, '기계식 키보드 K Elite', 9, 119000, 45, '게이밍에 특화된 디자인과 고성능 기계식 키보드', 114),\n",
       " (25, 26, '유기농 곡물 시리얼', 3, 19500, 88, '유기농 재료로 만든 건강한 곡물 시리얼', 115),\n",
       " (26, 27, '페이셜 마사지 롤러', 2, 18900, 29, '얼굴 근육을 튼튼하게 해주는 페이셜 마사지 롤러', 116),\n",
       " (27, 28, '캠핑용 2인 텐트', 7, 79800, 39, '2인용으로 간편하게 캠핑을 즐길 수 있는 텐트', 111),\n",
       " (28, 29, '게이밍 마우스 G Pro', 9, 79900, 63, '게이밍에 최적화된 고성능 마우스', 114),\n",
       " (29, 30, '프리미엄 커피 머신', 8, 189000, 53, '프리미엄 원두를 사용한 고품질 커피를 추출하는 머신', 112)]"
      ]
     },
     "execution_count": 5,
     "metadata": {},
     "output_type": "execute_result"
    }
   ],
   "source": [
    "%sql select * from 상품;"
   ]
  },
  {
   "cell_type": "code",
   "execution_count": 10,
   "id": "9aed01c8",
   "metadata": {},
   "outputs": [
    {
     "name": "stdout",
     "output_type": "stream",
     "text": [
      " * sqlite:///커머스.db\n",
      "(sqlite3.OperationalError) no such function: mod\n",
      "[SQL: select mod(10,3);]\n",
      "(Background on this error at: https://sqlalche.me/e/20/e3q8)\n"
     ]
    }
   ],
   "source": [
    "# MOD\n",
    "# 나머지\n",
    "# %sql select mod(10,3); # (sqlite3.OperationalError) no such function: mod"
   ]
  },
  {
   "cell_type": "code",
   "execution_count": 13,
   "id": "463d92d3",
   "metadata": {},
   "outputs": [
    {
     "name": "stdout",
     "output_type": "stream",
     "text": [
      " * sqlite:///커머스.db\n",
      "(sqlite3.OperationalError) no such function: power\n",
      "[SQL: select power(10,3)]\n",
      "(Background on this error at: https://sqlalche.me/e/20/e3q8)\n"
     ]
    }
   ],
   "source": [
    "# POWER\n",
    "# 제곱\n",
    "# %sql select power(10,3) # (sqlite3.OperationalError) no such function: power"
   ]
  },
  {
   "cell_type": "code",
   "execution_count": 14,
   "id": "4e24ff08",
   "metadata": {},
   "outputs": [
    {
     "name": "stdout",
     "output_type": "stream",
     "text": [
      " * sqlite:///커머스.db\n",
      "(sqlite3.OperationalError) no such function: sqrt\n",
      "[SQL: select sqrt(10)]\n",
      "(Background on this error at: https://sqlalche.me/e/20/e3q8)\n"
     ]
    }
   ],
   "source": [
    "# SQRT\n",
    "# 제곱근\n",
    "# %sql select sqrt(10) # (sqlite3.OperationalError) no such function: sqrt"
   ]
  },
  {
   "cell_type": "markdown",
   "id": "933ee0f8",
   "metadata": {},
   "source": [
    "# 문자열 함수"
   ]
  },
  {
   "cell_type": "code",
   "execution_count": null,
   "id": "d5096865",
   "metadata": {},
   "outputs": [],
   "source": [
    "# SUBSTR\n",
    "# 문자열 일부"
   ]
  },
  {
   "cell_type": "code",
   "execution_count": 15,
   "id": "71a0191f",
   "metadata": {},
   "outputs": [
    {
     "name": "stdout",
     "output_type": "stream",
     "text": [
      " * sqlite:///커머스.db\n",
      "Done.\n"
     ]
    },
    {
     "data": {
      "text/html": [
       "<table>\n",
       "    <thead>\n",
       "        <tr>\n",
       "            <th>substr(&#x27;hello world&#x27;, 3, 5)</th>\n",
       "        </tr>\n",
       "    </thead>\n",
       "    <tbody>\n",
       "        <tr>\n",
       "            <td>llo w</td>\n",
       "        </tr>\n",
       "    </tbody>\n",
       "</table>"
      ],
      "text/plain": [
       "[('llo w',)]"
      ]
     },
     "execution_count": 15,
     "metadata": {},
     "output_type": "execute_result"
    }
   ],
   "source": [
    "%sql select substr('hello world', 3, 5)"
   ]
  },
  {
   "cell_type": "code",
   "execution_count": null,
   "id": "c9ca97fb",
   "metadata": {},
   "outputs": [],
   "source": [
    "# LEFT\n",
    "# 문자열 왼쪽 기준 슬라이싱"
   ]
  },
  {
   "cell_type": "code",
   "execution_count": 17,
   "id": "8410a156",
   "metadata": {},
   "outputs": [
    {
     "name": "stdout",
     "output_type": "stream",
     "text": [
      " * sqlite:///커머스.db\n",
      "(sqlite3.OperationalError) near \"(\": syntax error\n",
      "[SQL: select left('064-000-0000',3);]\n",
      "(Background on this error at: https://sqlalche.me/e/20/e3q8)\n"
     ]
    }
   ],
   "source": [
    "# %sql select left('064-000-0000',3); # (sqlite3.OperationalError) near \"(\": syntax error"
   ]
  },
  {
   "cell_type": "code",
   "execution_count": null,
   "id": "72ad0d51",
   "metadata": {},
   "outputs": [],
   "source": [
    "# RIGHT\n",
    "# 문자열 오른쪽 기준 슬라이싱"
   ]
  },
  {
   "cell_type": "code",
   "execution_count": 18,
   "id": "32de728e",
   "metadata": {},
   "outputs": [
    {
     "name": "stdout",
     "output_type": "stream",
     "text": [
      " * sqlite:///커머스.db\n",
      "(sqlite3.OperationalError) near \"(\": syntax error\n",
      "[SQL: select right('064-000-1234',4);]\n",
      "(Background on this error at: https://sqlalche.me/e/20/e3q8)\n"
     ]
    }
   ],
   "source": [
    "%sql select right('064-000-1234',4); # (sqlite3.OperationalError) near \"(\": syntax error"
   ]
  },
  {
   "cell_type": "code",
   "execution_count": null,
   "id": "0b76a79a",
   "metadata": {},
   "outputs": [],
   "source": [
    "# CONCAT\n",
    "# 여러 문자열을 하나로 연결"
   ]
  },
  {
   "cell_type": "code",
   "execution_count": 28,
   "id": "6f15ee5f",
   "metadata": {},
   "outputs": [
    {
     "name": "stdout",
     "output_type": "stream",
     "text": [
      " * sqlite:///커머스.db\n",
      "(sqlite3.OperationalError) no such function: concat\n",
      "[SQL: select concat('paul', '-' , 'lab' )]\n",
      "(Background on this error at: https://sqlalche.me/e/20/e3q8)\n"
     ]
    }
   ],
   "source": [
    "# %sql select concat('paul', '-', 'lab') # (sqlite3.OperationalError) no such function: concat"
   ]
  },
  {
   "cell_type": "code",
   "execution_count": null,
   "id": "a970a493",
   "metadata": {},
   "outputs": [],
   "source": [
    "# || => 문자열 합치기"
   ]
  },
  {
   "cell_type": "code",
   "execution_count": 23,
   "id": "2754230b",
   "metadata": {},
   "outputs": [
    {
     "name": "stdout",
     "output_type": "stream",
     "text": [
      " * sqlite:///커머스.db\n",
      "Done.\n"
     ]
    },
    {
     "data": {
      "text/html": [
       "<table>\n",
       "    <thead>\n",
       "        <tr>\n",
       "            <th>배송주소</th>\n",
       "            <th>총주문금액</th>\n",
       "        </tr>\n",
       "    </thead>\n",
       "    <tbody>\n",
       "        <tr>\n",
       "            <td>서울특별시 강남구 한류로 123</td>\n",
       "            <td>1697000</td>\n",
       "        </tr>\n",
       "        <tr>\n",
       "            <td>경상남도 거제시 바닷소리로 1616</td>\n",
       "            <td>69900</td>\n",
       "        </tr>\n",
       "        <tr>\n",
       "            <td>광주광역시 서구 무궁화로 202</td>\n",
       "            <td>244300</td>\n",
       "        </tr>\n",
       "        <tr>\n",
       "            <td>강원도 강릉시 동해대로 707</td>\n",
       "            <td>65000</td>\n",
       "        </tr>\n",
       "        <tr>\n",
       "            <td>경상남도 김해시 해바라기로 444</td>\n",
       "            <td>183500</td>\n",
       "        </tr>\n",
       "        <tr>\n",
       "            <td>세종특별자치시 조치원읍 웃음가득로 2626</td>\n",
       "            <td>78000</td>\n",
       "        </tr>\n",
       "        <tr>\n",
       "            <td>제주특별자치도 서귀포시 오름산로 456</td>\n",
       "            <td>88500</td>\n",
       "        </tr>\n",
       "        <tr>\n",
       "            <td>경기도 수원시 화성로 2727</td>\n",
       "            <td>79900</td>\n",
       "        </tr>\n",
       "        <tr>\n",
       "            <td>경기도 파주시 DMZ로 777</td>\n",
       "            <td>34500</td>\n",
       "        </tr>\n",
       "        <tr>\n",
       "            <td>세종특별자치시 조치원읍 한글로 505</td>\n",
       "            <td>37800</td>\n",
       "        </tr>\n",
       "        <tr>\n",
       "            <td>강원도 속초시 동명로 666</td>\n",
       "            <td>129000</td>\n",
       "        </tr>\n",
       "        <tr>\n",
       "            <td>광주광역시 서구 무궁화로 202</td>\n",
       "            <td>237200</td>\n",
       "        </tr>\n",
       "        <tr>\n",
       "            <td>제주특별자치도 제주시 오름로 555</td>\n",
       "            <td>1559800</td>\n",
       "        </tr>\n",
       "        <tr>\n",
       "            <td>세종특별자치시 금남면 갈매로 505</td>\n",
       "            <td>39000</td>\n",
       "        </tr>\n",
       "        <tr>\n",
       "            <td>전라북도 전주시 덕진구 동별로 111</td>\n",
       "            <td>69900</td>\n",
       "        </tr>\n",
       "        <tr>\n",
       "            <td>경상남도 창원시 창원대로 444</td>\n",
       "            <td>189000</td>\n",
       "        </tr>\n",
       "        <tr>\n",
       "            <td>울산광역시 남구 석유로 404</td>\n",
       "            <td>109600</td>\n",
       "        </tr>\n",
       "        <tr>\n",
       "            <td>제주특별자치도 서귀포시 하늘길로 1818</td>\n",
       "            <td>119000</td>\n",
       "        </tr>\n",
       "        <tr>\n",
       "            <td>경상북도 경주시 문화역서울로 333</td>\n",
       "            <td>153200</td>\n",
       "        </tr>\n",
       "        <tr>\n",
       "            <td>제주특별자치도 제주시 바닷길 111</td>\n",
       "            <td>29800</td>\n",
       "        </tr>\n",
       "        <tr>\n",
       "            <td>인천광역시 인하로 888</td>\n",
       "            <td>79800</td>\n",
       "        </tr>\n",
       "        <tr>\n",
       "            <td>충청남도 아산시 배반로 909</td>\n",
       "            <td>308600</td>\n",
       "        </tr>\n",
       "        <tr>\n",
       "            <td>강원도 강릉시 강릉행복로 2828</td>\n",
       "            <td>77500</td>\n",
       "        </tr>\n",
       "        <tr>\n",
       "            <td>부산광역시 해운대구 해맞이로 456</td>\n",
       "            <td>129000</td>\n",
       "        </tr>\n",
       "    </tbody>\n",
       "</table>"
      ],
      "text/plain": [
       "[('서울특별시 강남구 한류로 123', 1697000),\n",
       " ('경상남도 거제시 바닷소리로 1616', 69900),\n",
       " ('광주광역시 서구 무궁화로 202', 244300),\n",
       " ('강원도 강릉시 동해대로 707', 65000),\n",
       " ('경상남도 김해시 해바라기로 444', 183500),\n",
       " ('세종특별자치시 조치원읍 웃음가득로 2626', 78000),\n",
       " ('제주특별자치도 서귀포시 오름산로 456', 88500),\n",
       " ('경기도 수원시 화성로 2727', 79900),\n",
       " ('경기도 파주시 DMZ로 777', 34500),\n",
       " ('세종특별자치시 조치원읍 한글로 505', 37800),\n",
       " ('강원도 속초시 동명로 666', 129000),\n",
       " ('광주광역시 서구 무궁화로 202', 237200),\n",
       " ('제주특별자치도 제주시 오름로 555', 1559800),\n",
       " ('세종특별자치시 금남면 갈매로 505', 39000),\n",
       " ('전라북도 전주시 덕진구 동별로 111', 69900),\n",
       " ('경상남도 창원시 창원대로 444', 189000),\n",
       " ('울산광역시 남구 석유로 404', 109600),\n",
       " ('제주특별자치도 서귀포시 하늘길로 1818', 119000),\n",
       " ('경상북도 경주시 문화역서울로 333', 153200),\n",
       " ('제주특별자치도 제주시 바닷길 111', 29800),\n",
       " ('인천광역시 인하로 888', 79800),\n",
       " ('충청남도 아산시 배반로 909', 308600),\n",
       " ('강원도 강릉시 강릉행복로 2828', 77500),\n",
       " ('부산광역시 해운대구 해맞이로 456', 129000)]"
      ]
     },
     "execution_count": 23,
     "metadata": {},
     "output_type": "execute_result"
    }
   ],
   "source": [
    "%sql select 배송주소, 총주문금액 from 주문;"
   ]
  },
  {
   "cell_type": "code",
   "execution_count": 24,
   "id": "8106fbff",
   "metadata": {},
   "outputs": [
    {
     "name": "stdout",
     "output_type": "stream",
     "text": [
      " * sqlite:///커머스.db\n",
      "Done.\n"
     ]
    },
    {
     "data": {
      "text/html": [
       "<table>\n",
       "    <thead>\n",
       "        <tr>\n",
       "            <th>substr(배송주소,1,2)||substr(배송주소,3,2)</th>\n",
       "            <th>sum(총주문금액)</th>\n",
       "        </tr>\n",
       "    </thead>\n",
       "    <tbody>\n",
       "        <tr>\n",
       "            <td>강원도 </td>\n",
       "            <td>271500</td>\n",
       "        </tr>\n",
       "        <tr>\n",
       "            <td>경기도 </td>\n",
       "            <td>114400</td>\n",
       "        </tr>\n",
       "        <tr>\n",
       "            <td>경상남도</td>\n",
       "            <td>442400</td>\n",
       "        </tr>\n",
       "        <tr>\n",
       "            <td>경상북도</td>\n",
       "            <td>153200</td>\n",
       "        </tr>\n",
       "        <tr>\n",
       "            <td>광주광역</td>\n",
       "            <td>481500</td>\n",
       "        </tr>\n",
       "        <tr>\n",
       "            <td>부산광역</td>\n",
       "            <td>129000</td>\n",
       "        </tr>\n",
       "        <tr>\n",
       "            <td>서울특별</td>\n",
       "            <td>1697000</td>\n",
       "        </tr>\n",
       "        <tr>\n",
       "            <td>세종특별</td>\n",
       "            <td>154800</td>\n",
       "        </tr>\n",
       "        <tr>\n",
       "            <td>울산광역</td>\n",
       "            <td>109600</td>\n",
       "        </tr>\n",
       "        <tr>\n",
       "            <td>인천광역</td>\n",
       "            <td>79800</td>\n",
       "        </tr>\n",
       "        <tr>\n",
       "            <td>전라북도</td>\n",
       "            <td>69900</td>\n",
       "        </tr>\n",
       "        <tr>\n",
       "            <td>제주특별</td>\n",
       "            <td>1797100</td>\n",
       "        </tr>\n",
       "        <tr>\n",
       "            <td>충청남도</td>\n",
       "            <td>308600</td>\n",
       "        </tr>\n",
       "    </tbody>\n",
       "</table>"
      ],
      "text/plain": [
       "[('강원도 ', 271500),\n",
       " ('경기도 ', 114400),\n",
       " ('경상남도', 442400),\n",
       " ('경상북도', 153200),\n",
       " ('광주광역', 481500),\n",
       " ('부산광역', 129000),\n",
       " ('서울특별', 1697000),\n",
       " ('세종특별', 154800),\n",
       " ('울산광역', 109600),\n",
       " ('인천광역', 79800),\n",
       " ('전라북도', 69900),\n",
       " ('제주특별', 1797100),\n",
       " ('충청남도', 308600)]"
      ]
     },
     "execution_count": 24,
     "metadata": {},
     "output_type": "execute_result"
    }
   ],
   "source": [
    "%sql select substr(배송주소,1,2)||substr(배송주소,3,2)  , sum(총주문금액) from 주문 group by substr(배송주소,1,2)||substr(배송주소,3,2);"
   ]
  },
  {
   "cell_type": "code",
   "execution_count": 27,
   "id": "dd0917e6",
   "metadata": {},
   "outputs": [
    {
     "name": "stdout",
     "output_type": "stream",
     "text": [
      " * sqlite:///커머스.db\n",
      "Done.\n"
     ]
    },
    {
     "data": {
      "text/html": [
       "<table>\n",
       "    <thead>\n",
       "        <tr>\n",
       "            <th>substr(배송주소,3,2)||substr(배송주소,1,4)</th>\n",
       "            <th>sum(총주문금액)</th>\n",
       "        </tr>\n",
       "    </thead>\n",
       "    <tbody>\n",
       "        <tr>\n",
       "            <td>광역광주광역</td>\n",
       "            <td>481500</td>\n",
       "        </tr>\n",
       "        <tr>\n",
       "            <td>광역부산광역</td>\n",
       "            <td>129000</td>\n",
       "        </tr>\n",
       "        <tr>\n",
       "            <td>광역울산광역</td>\n",
       "            <td>109600</td>\n",
       "        </tr>\n",
       "        <tr>\n",
       "            <td>광역인천광역</td>\n",
       "            <td>79800</td>\n",
       "        </tr>\n",
       "        <tr>\n",
       "            <td>남도경상남도</td>\n",
       "            <td>442400</td>\n",
       "        </tr>\n",
       "        <tr>\n",
       "            <td>남도충청남도</td>\n",
       "            <td>308600</td>\n",
       "        </tr>\n",
       "        <tr>\n",
       "            <td>도 강원도 </td>\n",
       "            <td>271500</td>\n",
       "        </tr>\n",
       "        <tr>\n",
       "            <td>도 경기도 </td>\n",
       "            <td>114400</td>\n",
       "        </tr>\n",
       "        <tr>\n",
       "            <td>북도경상북도</td>\n",
       "            <td>153200</td>\n",
       "        </tr>\n",
       "        <tr>\n",
       "            <td>북도전라북도</td>\n",
       "            <td>69900</td>\n",
       "        </tr>\n",
       "        <tr>\n",
       "            <td>특별서울특별</td>\n",
       "            <td>1697000</td>\n",
       "        </tr>\n",
       "        <tr>\n",
       "            <td>특별세종특별</td>\n",
       "            <td>154800</td>\n",
       "        </tr>\n",
       "        <tr>\n",
       "            <td>특별제주특별</td>\n",
       "            <td>1797100</td>\n",
       "        </tr>\n",
       "    </tbody>\n",
       "</table>"
      ],
      "text/plain": [
       "[('광역광주광역', 481500),\n",
       " ('광역부산광역', 129000),\n",
       " ('광역울산광역', 109600),\n",
       " ('광역인천광역', 79800),\n",
       " ('남도경상남도', 442400),\n",
       " ('남도충청남도', 308600),\n",
       " ('도 강원도 ', 271500),\n",
       " ('도 경기도 ', 114400),\n",
       " ('북도경상북도', 153200),\n",
       " ('북도전라북도', 69900),\n",
       " ('특별서울특별', 1697000),\n",
       " ('특별세종특별', 154800),\n",
       " ('특별제주특별', 1797100)]"
      ]
     },
     "execution_count": 27,
     "metadata": {},
     "output_type": "execute_result"
    }
   ],
   "source": [
    "%sql select substr(배송주소,3,2)||substr(배송주소,1,4)  , sum(총주문금액) from 주문 group by substr(배송주소,3,2)||substr(배송주소,1,4);"
   ]
  },
  {
   "cell_type": "code",
   "execution_count": null,
   "id": "ca527d1e",
   "metadata": {},
   "outputs": [],
   "source": [
    "# LOWER\n",
    "# 소문자로 변경"
   ]
  },
  {
   "cell_type": "code",
   "execution_count": 29,
   "id": "7ded33d0",
   "metadata": {},
   "outputs": [
    {
     "name": "stdout",
     "output_type": "stream",
     "text": [
      " * sqlite:///커머스.db\n",
      "Done.\n"
     ]
    },
    {
     "data": {
      "text/html": [
       "<table>\n",
       "    <thead>\n",
       "        <tr>\n",
       "            <th>lower(&#x27;Abc&#x27;)</th>\n",
       "        </tr>\n",
       "    </thead>\n",
       "    <tbody>\n",
       "        <tr>\n",
       "            <td>abc</td>\n",
       "        </tr>\n",
       "    </tbody>\n",
       "</table>"
      ],
      "text/plain": [
       "[('abc',)]"
      ]
     },
     "execution_count": 29,
     "metadata": {},
     "output_type": "execute_result"
    }
   ],
   "source": [
    "%sql select lower('Abc');"
   ]
  },
  {
   "cell_type": "code",
   "execution_count": null,
   "id": "b2f8928c",
   "metadata": {},
   "outputs": [],
   "source": [
    "# UPPER\n",
    "# 대문자로 변경"
   ]
  },
  {
   "cell_type": "code",
   "execution_count": 30,
   "id": "a60fdd61",
   "metadata": {},
   "outputs": [
    {
     "name": "stdout",
     "output_type": "stream",
     "text": [
      " * sqlite:///커머스.db\n",
      "Done.\n"
     ]
    },
    {
     "data": {
      "text/html": [
       "<table>\n",
       "    <thead>\n",
       "        <tr>\n",
       "            <th>upper(&#x27;Abc&#x27;)</th>\n",
       "        </tr>\n",
       "    </thead>\n",
       "    <tbody>\n",
       "        <tr>\n",
       "            <td>ABC</td>\n",
       "        </tr>\n",
       "    </tbody>\n",
       "</table>"
      ],
      "text/plain": [
       "[('ABC',)]"
      ]
     },
     "execution_count": 30,
     "metadata": {},
     "output_type": "execute_result"
    }
   ],
   "source": [
    "%sql select upper('Abc');"
   ]
  },
  {
   "cell_type": "code",
   "execution_count": null,
   "id": "085202cc",
   "metadata": {},
   "outputs": [],
   "source": [
    "# INITCAP\n",
    "# 앞에 문자만 대문자로 변경"
   ]
  },
  {
   "cell_type": "code",
   "execution_count": 33,
   "id": "5ea4abbf",
   "metadata": {},
   "outputs": [
    {
     "name": "stdout",
     "output_type": "stream",
     "text": [
      " * sqlite:///커머스.db\n",
      "(sqlite3.OperationalError) no such function: initcap\n",
      "[SQL: select initcap('abcde'); # (sqlite3.OperationalError) no such function: initcap]\n",
      "(Background on this error at: https://sqlalche.me/e/20/e3q8)\n"
     ]
    }
   ],
   "source": [
    "# %sql select initcap('abcde'); # (sqlite3.OperationalError) no such function: initcap"
   ]
  },
  {
   "cell_type": "code",
   "execution_count": null,
   "id": "3f130620",
   "metadata": {},
   "outputs": [],
   "source": [
    "# REPLACE\n",
    "# 대상값 교체"
   ]
  },
  {
   "cell_type": "code",
   "execution_count": 34,
   "id": "4e7849b2",
   "metadata": {},
   "outputs": [
    {
     "name": "stdout",
     "output_type": "stream",
     "text": [
      " * sqlite:///커머스.db\n",
      "Done.\n"
     ]
    },
    {
     "data": {
      "text/html": [
       "<table>\n",
       "    <thead>\n",
       "        <tr>\n",
       "            <th>replace(&#x27;hello world&#x27;, &#x27;world&#x27; , &#x27;sql&#x27; )</th>\n",
       "        </tr>\n",
       "    </thead>\n",
       "    <tbody>\n",
       "        <tr>\n",
       "            <td>hello sql</td>\n",
       "        </tr>\n",
       "    </tbody>\n",
       "</table>"
      ],
      "text/plain": [
       "[('hello sql',)]"
      ]
     },
     "execution_count": 34,
     "metadata": {},
     "output_type": "execute_result"
    }
   ],
   "source": [
    "%sql select replace('hello world', 'world', 'sql');"
   ]
  },
  {
   "cell_type": "code",
   "execution_count": 35,
   "id": "a49f6d82",
   "metadata": {},
   "outputs": [
    {
     "name": "stdout",
     "output_type": "stream",
     "text": [
      " * sqlite:///커머스.db\n",
      "Done.\n"
     ]
    },
    {
     "data": {
      "text/html": [
       "<table>\n",
       "    <thead>\n",
       "        <tr>\n",
       "            <th>length(&#x27;hello world&#x27;)</th>\n",
       "        </tr>\n",
       "    </thead>\n",
       "    <tbody>\n",
       "        <tr>\n",
       "            <td>11</td>\n",
       "        </tr>\n",
       "    </tbody>\n",
       "</table>"
      ],
      "text/plain": [
       "[(11,)]"
      ]
     },
     "execution_count": 35,
     "metadata": {},
     "output_type": "execute_result"
    }
   ],
   "source": [
    "# LENGTH\n",
    "# 길이\n",
    "%sql select length('hello world');"
   ]
  },
  {
   "cell_type": "code",
   "execution_count": 36,
   "id": "47961406",
   "metadata": {},
   "outputs": [
    {
     "name": "stdout",
     "output_type": "stream",
     "text": [
      " * sqlite:///커머스.db\n",
      "(sqlite3.OperationalError) no such table: abcdef\n",
      "[SQL: select POSITION('b' IN 'abcdef' );]\n",
      "(Background on this error at: https://sqlalche.me/e/20/e3q8)\n"
     ]
    }
   ],
   "source": [
    "# POSITION\n",
    "# 문자열 위치\n",
    "# 인덱스는 1부터\n",
    "# 못 찾으면 0 반환"
   ]
  },
  {
   "cell_type": "code",
   "execution_count": 41,
   "id": "87e1ac6e",
   "metadata": {},
   "outputs": [
    {
     "name": "stdout",
     "output_type": "stream",
     "text": [
      " * sqlite:///커머스.db\n",
      "(sqlite3.OperationalError) no such function: position\n",
      "[SQL: select position('전구' in 상품) from 상품;]\n",
      "(Background on this error at: https://sqlalche.me/e/20/e3q8)\n"
     ]
    }
   ],
   "source": [
    "# %sql select position('전구' in 상품명) from 상품; # (sqlite3.OperationalError) no such function: position"
   ]
  },
  {
   "cell_type": "code",
   "execution_count": null,
   "id": "114b7826",
   "metadata": {},
   "outputs": [],
   "source": [
    "# coalesce\n",
    "# 컬럼에 NULL값이 있으면 다른 값 채워넣음"
   ]
  },
  {
   "cell_type": "code",
   "execution_count": 44,
   "id": "2db2a5f7",
   "metadata": {},
   "outputs": [],
   "source": [
    "# %sql select coalesce(name, '담당자 지정 안됨') from `weniv.weniv_event`"
   ]
  },
  {
   "cell_type": "code",
   "execution_count": 45,
   "id": "11d12de1",
   "metadata": {},
   "outputs": [
    {
     "name": "stdout",
     "output_type": "stream",
     "text": [
      " * sqlite:///커머스.db\n",
      "(sqlite3.OperationalError) no such function: ascii\n",
      "[SQL: select ascii('A');]\n",
      "(Background on this error at: https://sqlalche.me/e/20/e3q8)\n"
     ]
    }
   ],
   "source": [
    "# ASCII\n",
    "# 아스키코드 번호 반환\n",
    "# %sql select ascii('A'); # (sqlite3.OperationalError) no such function: ascii"
   ]
  },
  {
   "cell_type": "markdown",
   "id": "bd87bafd",
   "metadata": {},
   "source": [
    "# 형변환"
   ]
  },
  {
   "cell_type": "code",
   "execution_count": null,
   "id": "42975b68",
   "metadata": {},
   "outputs": [],
   "source": [
    "# CAST(데이터 AS 타입명)"
   ]
  },
  {
   "cell_type": "code",
   "execution_count": 46,
   "id": "9abd0bac",
   "metadata": {},
   "outputs": [
    {
     "name": "stdout",
     "output_type": "stream",
     "text": [
      " * sqlite:///커머스.db\n",
      "Done.\n"
     ]
    },
    {
     "data": {
      "text/html": [
       "<table>\n",
       "    <thead>\n",
       "        <tr>\n",
       "            <th>CAST(&#x27;123&#x27; AS INT)</th>\n",
       "        </tr>\n",
       "    </thead>\n",
       "    <tbody>\n",
       "        <tr>\n",
       "            <td>123</td>\n",
       "        </tr>\n",
       "    </tbody>\n",
       "</table>"
      ],
      "text/plain": [
       "[(123,)]"
      ]
     },
     "execution_count": 46,
     "metadata": {},
     "output_type": "execute_result"
    }
   ],
   "source": [
    "# 문자열 -> 숫자로 바꾸는거\n",
    "# 문자열 -> 자연수(INTEGER)\n",
    "# 문자열 -> FLOAT\n",
    "\n",
    "%sql select CAST('123' AS INT);"
   ]
  },
  {
   "cell_type": "code",
   "execution_count": 47,
   "id": "64f378eb",
   "metadata": {},
   "outputs": [
    {
     "name": "stdout",
     "output_type": "stream",
     "text": [
      " * sqlite:///커머스.db\n",
      "(sqlite3.OperationalError) unrecognized token: \"#\"\n",
      "[SQL: select '123' + '123' # 에러;]\n",
      "(Background on this error at: https://sqlalche.me/e/20/e3q8)\n"
     ]
    }
   ],
   "source": [
    "%sql select '123' + '123' # 에러;"
   ]
  },
  {
   "cell_type": "code",
   "execution_count": 48,
   "id": "8e7221cf",
   "metadata": {},
   "outputs": [
    {
     "name": "stdout",
     "output_type": "stream",
     "text": [
      " * sqlite:///커머스.db\n",
      "Done.\n"
     ]
    },
    {
     "data": {
      "text/html": [
       "<table>\n",
       "    <thead>\n",
       "        <tr>\n",
       "            <th>CAST(&#x27;123&#x27; AS INT) + CAST(&#x27;123&#x27; AS INT)</th>\n",
       "        </tr>\n",
       "    </thead>\n",
       "    <tbody>\n",
       "        <tr>\n",
       "            <td>246</td>\n",
       "        </tr>\n",
       "    </tbody>\n",
       "</table>"
      ],
      "text/plain": [
       "[(246,)]"
      ]
     },
     "execution_count": 48,
     "metadata": {},
     "output_type": "execute_result"
    }
   ],
   "source": [
    "%sql select CAST('123' AS INT) + CAST('123' AS INT);"
   ]
  },
  {
   "cell_type": "code",
   "execution_count": 49,
   "id": "7cc61b9f",
   "metadata": {},
   "outputs": [
    {
     "name": "stdout",
     "output_type": "stream",
     "text": [
      " * sqlite:///커머스.db\n",
      "Done.\n"
     ]
    },
    {
     "data": {
      "text/html": [
       "<table>\n",
       "    <thead>\n",
       "        <tr>\n",
       "            <th>CAST(&#x27;123.123&#x27; AS FLOAT)</th>\n",
       "        </tr>\n",
       "    </thead>\n",
       "    <tbody>\n",
       "        <tr>\n",
       "            <td>123.123</td>\n",
       "        </tr>\n",
       "    </tbody>\n",
       "</table>"
      ],
      "text/plain": [
       "[(123.123,)]"
      ]
     },
     "execution_count": 49,
     "metadata": {},
     "output_type": "execute_result"
    }
   ],
   "source": [
    "%sql select CAST('123.123' AS FLOAT);"
   ]
  },
  {
   "cell_type": "code",
   "execution_count": 50,
   "id": "c585a119",
   "metadata": {},
   "outputs": [
    {
     "name": "stdout",
     "output_type": "stream",
     "text": [
      " * sqlite:///커머스.db\n",
      "Done.\n"
     ]
    },
    {
     "data": {
      "text/html": [
       "<table>\n",
       "    <thead>\n",
       "        <tr>\n",
       "            <th>CAST(&#x27;123&#x27; AS NUMERIC)</th>\n",
       "        </tr>\n",
       "    </thead>\n",
       "    <tbody>\n",
       "        <tr>\n",
       "            <td>123</td>\n",
       "        </tr>\n",
       "    </tbody>\n",
       "</table>"
      ],
      "text/plain": [
       "[(123,)]"
      ]
     },
     "execution_count": 50,
     "metadata": {},
     "output_type": "execute_result"
    }
   ],
   "source": [
    "%sql select CAST('123' AS NUMERIC);"
   ]
  },
  {
   "cell_type": "code",
   "execution_count": 51,
   "id": "84439748",
   "metadata": {},
   "outputs": [
    {
     "name": "stdout",
     "output_type": "stream",
     "text": [
      " * sqlite:///커머스.db\n",
      "Done.\n"
     ]
    },
    {
     "data": {
      "text/html": [
       "<table>\n",
       "    <thead>\n",
       "        <tr>\n",
       "            <th>CAST(&#x27;123.123&#x27; AS NUMERIC)</th>\n",
       "        </tr>\n",
       "    </thead>\n",
       "    <tbody>\n",
       "        <tr>\n",
       "            <td>123.123</td>\n",
       "        </tr>\n",
       "    </tbody>\n",
       "</table>"
      ],
      "text/plain": [
       "[(123.123,)]"
      ]
     },
     "execution_count": 51,
     "metadata": {},
     "output_type": "execute_result"
    }
   ],
   "source": [
    "%sql select CAST('123.123' AS NUMERIC);"
   ]
  },
  {
   "cell_type": "code",
   "execution_count": null,
   "id": "0a4782f9",
   "metadata": {},
   "outputs": [],
   "source": [
    "# 데이터::타입명"
   ]
  },
  {
   "cell_type": "code",
   "execution_count": 55,
   "id": "e27197b8",
   "metadata": {},
   "outputs": [],
   "source": [
    "# %sql select '123'::INT; # (sqlite3.OperationalError) unrecognized token: \":\""
   ]
  },
  {
   "cell_type": "code",
   "execution_count": 56,
   "id": "252aff9f",
   "metadata": {},
   "outputs": [],
   "source": [
    "# %sql select '123.123'::NUMERIC; # (sqlite3.OperationalError) unrecognized token: \":\""
   ]
  },
  {
   "cell_type": "code",
   "execution_count": 57,
   "id": "e7c2cd1e",
   "metadata": {},
   "outputs": [],
   "source": [
    "# %sql select '123.123'::TEXT; # (sqlite3.OperationalError) unrecognized token: \":\""
   ]
  },
  {
   "cell_type": "code",
   "execution_count": 59,
   "id": "25286d7a",
   "metadata": {},
   "outputs": [
    {
     "name": "stdout",
     "output_type": "stream",
     "text": [
      " * sqlite:///커머스.db\n",
      "Done.\n",
      " * sqlite:///커머스.db\n",
      "Done.\n",
      " * sqlite:///커머스.db\n",
      "Done.\n",
      " * sqlite:///커머스.db\n",
      "Done.\n",
      " * sqlite:///커머스.db\n",
      "Done.\n"
     ]
    },
    {
     "data": {
      "text/html": [
       "<table>\n",
       "    <thead>\n",
       "        <tr>\n",
       "            <th>CAST(NULL AS TEXT)</th>\n",
       "        </tr>\n",
       "    </thead>\n",
       "    <tbody>\n",
       "        <tr>\n",
       "            <td>None</td>\n",
       "        </tr>\n",
       "    </tbody>\n",
       "</table>"
      ],
      "text/plain": [
       "[(None,)]"
      ]
     },
     "execution_count": 59,
     "metadata": {},
     "output_type": "execute_result"
    }
   ],
   "source": [
    "# 숫자(INTEGER) -> 문자\n",
    "# 숫자(FLOAT) -> 문자\n",
    "# true, false -> 문자\n",
    "%sql select CAST(123 AS TEXT)\n",
    "%sql select CAST(123.123 AS TEXT)\n",
    "%sql select CAST(true AS TEXT)\n",
    "%sql select CAST(false AS TEXT)\n",
    "%sql select CAST(NULL AS TEXT)"
   ]
  },
  {
   "cell_type": "code",
   "execution_count": null,
   "id": "24c96280",
   "metadata": {},
   "outputs": [],
   "source": [
    "# %sql select 123::TEXT;\n",
    "# %sql select 123.123::TEXT;\n",
    "# %sql select true::TEXT;"
   ]
  },
  {
   "cell_type": "code",
   "execution_count": 61,
   "id": "51f01c38",
   "metadata": {},
   "outputs": [
    {
     "name": "stdout",
     "output_type": "stream",
     "text": [
      " * sqlite:///커머스.db\n",
      "Done.\n",
      " * sqlite:///커머스.db\n",
      "(sqlite3.OperationalError) unrecognized token: \":\"\n",
      "[SQL: SELECT '2011-12-01 11:12:34' ::DATE;]\n",
      "(Background on this error at: https://sqlalche.me/e/20/e3q8)\n",
      " * sqlite:///커머스.db\n",
      "(sqlite3.OperationalError) unrecognized token: \":\"\n",
      "[SQL: SELECT '2011-12-01 11:12:34' ::TIME;]\n",
      "(Background on this error at: https://sqlalche.me/e/20/e3q8)\n",
      " * sqlite:///커머스.db\n",
      "(sqlite3.OperationalError) unrecognized token: \":\"\n",
      "[SQL: SELECT '2011-12-01 11:12:34' ::TIMESTAMP;]\n",
      "(Background on this error at: https://sqlalche.me/e/20/e3q8)\n"
     ]
    }
   ],
   "source": [
    "# 날짜 타입\n",
    "# 1) DATE\n",
    "# 문자열 -> DATE\n",
    "# 2) DATETIME\n",
    "# 문자열 -> DATETIME\n",
    "%sql select DATE('2011-12-01 11:12:34')"
   ]
  },
  {
   "cell_type": "code",
   "execution_count": null,
   "id": "cd43832f",
   "metadata": {},
   "outputs": [],
   "source": [
    "# %sql SELECT '2011-12-01 11:12:34'::DATE;\n",
    "# %sql SELECT '2011-12-01 11:12:34'::TIME;\n",
    "# %sql SELECT '2011-12-01 11:12:34'::TIMESTAMP;"
   ]
  },
  {
   "cell_type": "markdown",
   "id": "ae6104b0",
   "metadata": {},
   "source": [
    "# 날짜"
   ]
  },
  {
   "cell_type": "code",
   "execution_count": 62,
   "id": "b3900bdd",
   "metadata": {},
   "outputs": [
    {
     "name": "stdout",
     "output_type": "stream",
     "text": [
      " * sqlite:///커머스.db\n",
      "Done.\n"
     ]
    },
    {
     "data": {
      "text/html": [
       "<table>\n",
       "    <thead>\n",
       "        <tr>\n",
       "            <th>DATE()</th>\n",
       "        </tr>\n",
       "    </thead>\n",
       "    <tbody>\n",
       "        <tr>\n",
       "            <td>2024-03-06</td>\n",
       "        </tr>\n",
       "    </tbody>\n",
       "</table>"
      ],
      "text/plain": [
       "[('2024-03-06',)]"
      ]
     },
     "execution_count": 62,
     "metadata": {},
     "output_type": "execute_result"
    }
   ],
   "source": [
    "# 현재 날짜를 나타냅니다.\n",
    "%sql SELECT DATE();"
   ]
  },
  {
   "cell_type": "code",
   "execution_count": 63,
   "id": "2a99b3c6",
   "metadata": {},
   "outputs": [
    {
     "name": "stdout",
     "output_type": "stream",
     "text": [
      " * sqlite:///커머스.db\n",
      "Done.\n"
     ]
    },
    {
     "data": {
      "text/html": [
       "<table>\n",
       "    <thead>\n",
       "        <tr>\n",
       "            <th>TIME()</th>\n",
       "        </tr>\n",
       "    </thead>\n",
       "    <tbody>\n",
       "        <tr>\n",
       "            <td>14:49:31</td>\n",
       "        </tr>\n",
       "    </tbody>\n",
       "</table>"
      ],
      "text/plain": [
       "[('14:49:31',)]"
      ]
     },
     "execution_count": 63,
     "metadata": {},
     "output_type": "execute_result"
    }
   ],
   "source": [
    "# 사용자의 현재 시간을 나타냅니다.\n",
    "%sql SELECT TIME();"
   ]
  },
  {
   "cell_type": "code",
   "execution_count": 64,
   "id": "c18ccac9",
   "metadata": {},
   "outputs": [
    {
     "name": "stdout",
     "output_type": "stream",
     "text": [
      " * sqlite:///커머스.db\n",
      "Done.\n"
     ]
    },
    {
     "data": {
      "text/html": [
       "<table>\n",
       "    <thead>\n",
       "        <tr>\n",
       "            <th>DATETIME()</th>\n",
       "        </tr>\n",
       "    </thead>\n",
       "    <tbody>\n",
       "        <tr>\n",
       "            <td>2024-03-06 14:49:36</td>\n",
       "        </tr>\n",
       "    </tbody>\n",
       "</table>"
      ],
      "text/plain": [
       "[('2024-03-06 14:49:36',)]"
      ]
     },
     "execution_count": 64,
     "metadata": {},
     "output_type": "execute_result"
    }
   ],
   "source": [
    "# 현재의 날짜와 시간을 한꺼번에 나타냅니다.\n",
    "%sql SELECT DATETIME();"
   ]
  },
  {
   "cell_type": "code",
   "execution_count": 65,
   "id": "24857ddc",
   "metadata": {},
   "outputs": [
    {
     "name": "stdout",
     "output_type": "stream",
     "text": [
      " * sqlite:///커머스.db\n",
      "(sqlite3.OperationalError) no such function: STAFTIME\n",
      "[SQL: SELECT STAFTIME('%Y-%m-%d %H:%M:%S', 'now' );]\n",
      "(Background on this error at: https://sqlalche.me/e/20/e3q8)\n",
      " * sqlite:///커머스.db\n",
      "(sqlite3.OperationalError) no such function: STAFTIME\n",
      "[SQL: SELECT STAFTIME('%Y#%m#%d %H@%M@%S', 'now' );]\n",
      "(Background on this error at: https://sqlalche.me/e/20/e3q8)\n"
     ]
    }
   ],
   "source": [
    "# (날짜 및 시간 함수 등)DATE, TIME 값을 포맷에 맞춰서 반환합니다.\n",
    "# -- strftime : 포맷 지정 (format, timestring, modifier)\n",
    "# -- DATE, TIME 값을 포맷에 맞추어 반환합니다.\n",
    "# 국가별 FOMAT이 달라서 필요\n",
    "# %sql SELECT STAFTIME('%Y-%m-%d %H:%M:%S', 'now');\n",
    "# %sql SELECT STAFTIME('%Y#%m#%d %H@%M@%S', 'now');"
   ]
  },
  {
   "cell_type": "code",
   "execution_count": null,
   "id": "167048db",
   "metadata": {},
   "outputs": [],
   "source": [
    "# 한정자 활용하기\n",
    "# -- 현지시간 기준으로 현재 달의 마지막 날짜\n",
    "# SELECT DATE('now', 'start of month', '+1 month', '-1 day', 'localtime');\n",
    "# -- 현재 기준 얼마나 가입시간이 지났는지? \n",
    "# --(한국)3월 6일 - (미국)3월 5일 9시간정도"
   ]
  },
  {
   "cell_type": "code",
   "execution_count": null,
   "id": "43a915ea",
   "metadata": {},
   "outputs": [],
   "source": [
    "# https://school.programmers.co.kr/learn/courses/30/lessons/132201\n",
    "# 12세 이하인 여자 환자 목록 출력하기    "
   ]
  },
  {
   "cell_type": "code",
   "execution_count": null,
   "id": "e01b645b",
   "metadata": {},
   "outputs": [],
   "source": [
    "select PT_NAME, PT_NO, GEND_CD, AGE, IFNULL(TLNO, \n",
    "                                           'NONE') from PATIENT where (GEND_CD = 'W') and (AGE <= 12) order by AGE desc, PT_NAME asc;"
   ]
  },
  {
   "cell_type": "code",
   "execution_count": null,
   "id": "f8af27c9",
   "metadata": {},
   "outputs": [],
   "source": [
    "CASE WHEN \n",
    "    조건 \n",
    "THEN \n",
    "    참일경우실행구문 \n",
    "ELSE \n",
    "    거짓일경우실행구문 \n",
    "END \n",
    "as 새로운_변수명\n",
    "-- 재고 10개 이하인 경우 최상\n",
    "-- 재고 10~30개 이하인 경우 상\n",
    "-- 재고 30~50개 이하인 경우 중\n",
    "-- 재고 50개 이상이면 하"
   ]
  },
  {
   "cell_type": "code",
   "execution_count": null,
   "id": "73e1d582",
   "metadata": {},
   "outputs": [],
   "source": [
    "'''\n",
    "select 재고,\n",
    "    case when 재고 <= 10 then '최상'\n",
    "         when 재고 <= 30 then '상'\n",
    "         when 재고 <= 50 then '중'\n",
    "         else '하' end as '재고분류'\n",
    "from 상품\n",
    "'''"
   ]
  },
  {
   "cell_type": "code",
   "execution_count": 69,
   "id": "af0109be",
   "metadata": {},
   "outputs": [
    {
     "name": "stdout",
     "output_type": "stream",
     "text": [
      " * sqlite:///커머스.db\n",
      "Done.\n"
     ]
    },
    {
     "data": {
      "text/html": [
       "<table>\n",
       "    <thead>\n",
       "        <tr>\n",
       "            <th>재고</th>\n",
       "            <th>재고분류</th>\n",
       "        </tr>\n",
       "    </thead>\n",
       "    <tbody>\n",
       "        <tr>\n",
       "            <td>22</td>\n",
       "            <td>상</td>\n",
       "        </tr>\n",
       "        <tr>\n",
       "            <td>71</td>\n",
       "            <td>하</td>\n",
       "        </tr>\n",
       "        <tr>\n",
       "            <td>73</td>\n",
       "            <td>하</td>\n",
       "        </tr>\n",
       "        <tr>\n",
       "            <td>35</td>\n",
       "            <td>중</td>\n",
       "        </tr>\n",
       "        <tr>\n",
       "            <td>45</td>\n",
       "            <td>중</td>\n",
       "        </tr>\n",
       "        <tr>\n",
       "            <td>83</td>\n",
       "            <td>하</td>\n",
       "        </tr>\n",
       "        <tr>\n",
       "            <td>26</td>\n",
       "            <td>상</td>\n",
       "        </tr>\n",
       "        <tr>\n",
       "            <td>40</td>\n",
       "            <td>중</td>\n",
       "        </tr>\n",
       "        <tr>\n",
       "            <td>8</td>\n",
       "            <td>최상</td>\n",
       "        </tr>\n",
       "        <tr>\n",
       "            <td>52</td>\n",
       "            <td>하</td>\n",
       "        </tr>\n",
       "        <tr>\n",
       "            <td>56</td>\n",
       "            <td>하</td>\n",
       "        </tr>\n",
       "        <tr>\n",
       "            <td>105</td>\n",
       "            <td>하</td>\n",
       "        </tr>\n",
       "        <tr>\n",
       "            <td>43</td>\n",
       "            <td>중</td>\n",
       "        </tr>\n",
       "        <tr>\n",
       "            <td>72</td>\n",
       "            <td>하</td>\n",
       "        </tr>\n",
       "        <tr>\n",
       "            <td>20</td>\n",
       "            <td>상</td>\n",
       "        </tr>\n",
       "        <tr>\n",
       "            <td>132</td>\n",
       "            <td>하</td>\n",
       "        </tr>\n",
       "        <tr>\n",
       "            <td>38</td>\n",
       "            <td>중</td>\n",
       "        </tr>\n",
       "        <tr>\n",
       "            <td>87</td>\n",
       "            <td>하</td>\n",
       "        </tr>\n",
       "        <tr>\n",
       "            <td>21</td>\n",
       "            <td>상</td>\n",
       "        </tr>\n",
       "        <tr>\n",
       "            <td>95</td>\n",
       "            <td>하</td>\n",
       "        </tr>\n",
       "        <tr>\n",
       "            <td>67</td>\n",
       "            <td>하</td>\n",
       "        </tr>\n",
       "        <tr>\n",
       "            <td>24</td>\n",
       "            <td>상</td>\n",
       "        </tr>\n",
       "        <tr>\n",
       "            <td>147</td>\n",
       "            <td>하</td>\n",
       "        </tr>\n",
       "        <tr>\n",
       "            <td>52</td>\n",
       "            <td>하</td>\n",
       "        </tr>\n",
       "        <tr>\n",
       "            <td>45</td>\n",
       "            <td>중</td>\n",
       "        </tr>\n",
       "        <tr>\n",
       "            <td>88</td>\n",
       "            <td>하</td>\n",
       "        </tr>\n",
       "        <tr>\n",
       "            <td>29</td>\n",
       "            <td>상</td>\n",
       "        </tr>\n",
       "        <tr>\n",
       "            <td>39</td>\n",
       "            <td>중</td>\n",
       "        </tr>\n",
       "        <tr>\n",
       "            <td>63</td>\n",
       "            <td>하</td>\n",
       "        </tr>\n",
       "        <tr>\n",
       "            <td>53</td>\n",
       "            <td>하</td>\n",
       "        </tr>\n",
       "    </tbody>\n",
       "</table>"
      ],
      "text/plain": [
       "[(22, '상'),\n",
       " (71, '하'),\n",
       " (73, '하'),\n",
       " (35, '중'),\n",
       " (45, '중'),\n",
       " (83, '하'),\n",
       " (26, '상'),\n",
       " (40, '중'),\n",
       " (8, '최상'),\n",
       " (52, '하'),\n",
       " (56, '하'),\n",
       " (105, '하'),\n",
       " (43, '중'),\n",
       " (72, '하'),\n",
       " (20, '상'),\n",
       " (132, '하'),\n",
       " (38, '중'),\n",
       " (87, '하'),\n",
       " (21, '상'),\n",
       " (95, '하'),\n",
       " (67, '하'),\n",
       " (24, '상'),\n",
       " (147, '하'),\n",
       " (52, '하'),\n",
       " (45, '중'),\n",
       " (88, '하'),\n",
       " (29, '상'),\n",
       " (39, '중'),\n",
       " (63, '하'),\n",
       " (53, '하')]"
      ]
     },
     "execution_count": 69,
     "metadata": {},
     "output_type": "execute_result"
    }
   ],
   "source": [
    "%sql select 재고, case when 재고 <= 10 then '최상' when 재고 <= 30 then '상' when 재고 <= 50 then '중' else '하' end as '재고분류' from 상품;"
   ]
  },
  {
   "cell_type": "code",
   "execution_count": null,
   "id": "0dc106a0",
   "metadata": {},
   "outputs": [],
   "source": [
    "-- 상품카테고리ID 5이하이면 인기상품 / 5~7이면 상품 / 8이상 하품 - 카테고리정리(새로운 컬럼)\n",
    "select case WHEN 조건\n",
    "    THEN 조건1이 맞을때\n",
    "    then 조건2가 맞을때\n",
    "    ELSE 조건1,2가 모두 틀릴때\n",
    "    END as 새로운컬럼명"
   ]
  },
  {
   "cell_type": "code",
   "execution_count": 71,
   "id": "a95a9111",
   "metadata": {},
   "outputs": [
    {
     "ename": "SyntaxError",
     "evalue": "invalid syntax (1589845040.py, line 2)",
     "output_type": "error",
     "traceback": [
      "\u001b[1;36m  Cell \u001b[1;32mIn[71], line 2\u001b[1;36m\u001b[0m\n\u001b[1;33m    case when 재고 <= 10 then '최상'\\n\u001b[0m\n\u001b[1;37m         ^\u001b[0m\n\u001b[1;31mSyntaxError\u001b[0m\u001b[1;31m:\u001b[0m invalid syntax\n"
     ]
    }
   ],
   "source": [
    "'''\n",
    "select\n",
    "    case when 카테고리ID <= 5 then '인기상품'\n",
    "\t     when 카테고리ID <= 7 then '상품'\n",
    "\t\t else '상품' end as '카테고리정리'\n",
    "from 상품;\n",
    "'''"
   ]
  },
  {
   "cell_type": "code",
   "execution_count": null,
   "id": "6e0db163",
   "metadata": {},
   "outputs": [],
   "source": [
    "# -- 상품카테고리ID 5이하이면 인기상품 / 5~7이면 상품 / 8이상 하품 - 카테고리정리(새로운 컬럼)\n",
    "'''\n",
    "select case \n",
    "    WHEN 카테고리ID <= 5 THEN '인기상품'\n",
    "    when 카테고리ID <= 7 then '상품'\n",
    "    ELSE '하품'\n",
    "    END as 카테고리정리, count(*)\n",
    "from 상품\n",
    "group by 카테고리정리\n",
    "'''"
   ]
  },
  {
   "cell_type": "code",
   "execution_count": null,
   "id": "6c21436b",
   "metadata": {},
   "outputs": [],
   "source": [
    "# https://school.programmers.co.kr/learn/courses/30/lessons/59409\n",
    "# 중성화 여부 파악하기"
   ]
  },
  {
   "cell_type": "code",
   "execution_count": null,
   "id": "635ad740",
   "metadata": {},
   "outputs": [],
   "source": [
    "'''\n",
    "# 풀이 1\n",
    "SELECT ANIMAL_ID, NAME, CASE \n",
    "    WHEN (SEX_UPON_INTAKE LIKE 'Neutered%') OR (SEX_UPON_INTAKE LIKE 'Spayed%') THEN 'O'\n",
    "    ELSE 'X'\n",
    "    END AS 중성화\n",
    "FROM ANIMAL_INS\n",
    "ORDER BY ANIMAL_ID;\n",
    "\n",
    "# 풀이 2\n",
    "SELECT ANIMAL_ID, NAME,\n",
    "    case \n",
    "    -- 조건1. Intact가 들어가면 'X'\n",
    "    when SEX_UPON_INTAKE = 'Intact Male' \n",
    "    then 'X'\n",
    "    when SEX_UPON_INTAKE = 'Intact Female' \n",
    "    then 'X'\n",
    "    -- 조건1이 아니면\n",
    "    else 'O'\n",
    "    end as 중성화\n",
    "from ANIMAL_INS\n",
    "\n",
    "'''"
   ]
  },
  {
   "cell_type": "code",
   "execution_count": null,
   "id": "dc5686a4",
   "metadata": {},
   "outputs": [],
   "source": [
    "# https://school.programmers.co.kr/learn/courses/30/lessons/131113?language=mysql\n",
    "# 조건별로 분류하여 주문상태 출력하기"
   ]
  },
  {
   "cell_type": "code",
   "execution_count": null,
   "id": "45460ba1",
   "metadata": {},
   "outputs": [],
   "source": [
    "'''\n",
    "# 풀이 1\n",
    "SELECT ORDER_ID, PRODUCT_ID, LEFT(OUT_DATE, 10), CASE\n",
    "    WHEN OUT_DATE IS NULL THEN '출고미정'\n",
    "    WHEN OUT_DATE <= '2022-05-01' THEN '출고완료'\n",
    "    ELSE '출고대기'  \n",
    "    END AS '출고여부'\n",
    "FROM FOOD_ORDER\n",
    "ORDER BY ORDER_ID ASC;\n",
    "\n",
    "# 풀이 2\n",
    "SELECT ORDER_ID, PRODUCT_ID, SUBSTRING(OUT_DATE, 1,10) AS OUT_DATE, CASE\n",
    "    WHEN OUT_DATE IS NULL THEN '출고미정'\n",
    "    WHEN OUT_DATE <= '2022-05-01' THEN '출고완료'\n",
    "    ELSE '출고대기'  \n",
    "    END AS '출고여부'\n",
    "FROM FOOD_ORDER\n",
    "ORDER BY ORDER_ID ASC;\n",
    "\n",
    "\n",
    "# 풀이 3\n",
    "SELECT ORDER_ID, PRODUCT_ID, DATE_FORMAT(OUT_DATE, '%Y-%m-%d') AS OUT_DATE, CASE \n",
    "    WHEN OUT_DATE IS NULL THEN '출고미정'\n",
    "    WHEN OUT_DATE <= '2022-05-01' THEN '출고완료'\n",
    "    ELSE '출고대기'\n",
    "    END AS 출고여부\n",
    "FROM FOOD_ORDER\n",
    "ORDER BY ORDER_ID ASC;\n",
    "'''"
   ]
  },
  {
   "cell_type": "markdown",
   "id": "ba6a1de6",
   "metadata": {},
   "source": [
    "# join"
   ]
  },
  {
   "cell_type": "code",
   "execution_count": null,
   "id": "904ae9b5",
   "metadata": {},
   "outputs": [],
   "source": [
    "\n",
    "--주문 테이블에 있는 ID와 주문상세 있는 ID가 이름이 똑같기 때문에 SQL은 헷갈려함!\n",
    "select 주문.주문ID, 주문상세.주문ID\n",
    "--테이블 세팅\n",
    "from  주문 -- 1. 원래 테이블 / 기준이 되는 테이블\n",
    "inner join -- 2. join하는 방법\n",
    "주문상세 -- 3. 붙일 테이블\n",
    "on 주문.주문ID=주문상세.주문ID -- 4. 같은 Key값에 대해서 설정"
   ]
  },
  {
   "cell_type": "code",
   "execution_count": null,
   "id": "e3e3c756",
   "metadata": {},
   "outputs": [],
   "source": [
    "'''\n",
    "select *\n",
    "from \n",
    "(select 주문ID,고객ID,주문날짜 from 주문 where 주문ID in (1001,1002,1003,1004)) a\n",
    "full outer join\n",
    "(select 주문ID,단가\n",
    " from 주문상세 where 주문ID in (1001,1002,1003,1005)) b\n",
    "on a.주문ID=b.주문ID\n",
    "'''"
   ]
  },
  {
   "cell_type": "code",
   "execution_count": null,
   "id": "459fd146",
   "metadata": {},
   "outputs": [],
   "source": [
    "# https://school.programmers.co.kr/learn/courses/30/lessons/131533\n",
    "# 상품 별 오프라인 매출 구하기\n",
    "'''\n",
    "# 풀이 1\n",
    "SELECT PRODUCT.PRODUCT_CODE AS PRODUCT_CODE, SUM(PRODUCT.PRICE * OFFLINE_SALE.SALES_AMOUNT) AS SALES \n",
    "FROM PRODUCT\n",
    "INNER JOIN OFFLINE_SALE\n",
    "ON PRODUCT.PRODUCT_ID = OFFLINE_SALE.PRODUCT_ID\n",
    "GROUP BY PRODUCT_CODE\n",
    "ORDER BY SALES DESC, PRODUCT_CODE ASC;\n",
    "\n",
    "# 풀이 2\n",
    "SELECT A.PRODUCT_CODE AS PRODUCT_CODE, SUM(A.PRICE * B.SALES_AMOUNT) AS SALES \n",
    "FROM PRODUCT A\n",
    "INNER JOIN OFFLINE_SALE B\n",
    "ON A.PRODUCT_ID = B.PRODUCT_ID\n",
    "GROUP BY A.PRODUCT_CODE\n",
    "ORDER BY SALES DESC, A.PRODUCT_CODE ASC;\n",
    "'''"
   ]
  }
 ],
 "metadata": {
  "kernelspec": {
   "display_name": "Python 3 (ipykernel)",
   "language": "python",
   "name": "python3"
  },
  "language_info": {
   "codemirror_mode": {
    "name": "ipython",
    "version": 3
   },
   "file_extension": ".py",
   "mimetype": "text/x-python",
   "name": "python",
   "nbconvert_exporter": "python",
   "pygments_lexer": "ipython3",
   "version": "3.9.16"
  }
 },
 "nbformat": 4,
 "nbformat_minor": 5
}
