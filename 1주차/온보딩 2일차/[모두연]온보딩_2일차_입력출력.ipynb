{
  "nbformat": 4,
  "nbformat_minor": 0,
  "metadata": {
    "colab": {
      "provenance": []
    },
    "kernelspec": {
      "name": "python3",
      "display_name": "Python 3"
    },
    "language_info": {
      "name": "python"
    }
  },
  "cells": [
    {
      "cell_type": "markdown",
      "source": [
        "# 1. 입력함수 input"
      ],
      "metadata": {
        "id": "J8mgFWJ0MYLK"
      }
    },
    {
      "cell_type": "markdown",
      "source": [
        "# 1.1 input 실습 - 1"
      ],
      "metadata": {
        "id": "uDrM-r8VMUlh"
      }
    },
    {
      "cell_type": "code",
      "execution_count": 1,
      "metadata": {
        "colab": {
          "base_uri": "https://localhost:8080/",
          "height": 54
        },
        "id": "12X96pmAL3l1",
        "outputId": "fb3acf07-7815-4401-98f4-89c1089e9565"
      },
      "outputs": [
        {
          "name": "stdout",
          "output_type": "stream",
          "text": [
            "입력해주세요hello world\n"
          ]
        },
        {
          "output_type": "execute_result",
          "data": {
            "text/plain": [
              "'hello world'"
            ],
            "application/vnd.google.colaboratory.intrinsic+json": {
              "type": "string"
            }
          },
          "metadata": {},
          "execution_count": 1
        }
      ],
      "source": [
        "input('입력해주세요')"
      ]
    },
    {
      "cell_type": "code",
      "source": [
        "input('입력해주세요') # 숫자를 입력해도 문자형으로 입력받음"
      ],
      "metadata": {
        "colab": {
          "base_uri": "https://localhost:8080/",
          "height": 54
        },
        "id": "D0fiXK8wL9Gj",
        "outputId": "e8f434c0-823e-41a0-95c6-54a30e3294d9"
      },
      "execution_count": 2,
      "outputs": [
        {
          "name": "stdout",
          "output_type": "stream",
          "text": [
            "입력해주세요10\n"
          ]
        },
        {
          "output_type": "execute_result",
          "data": {
            "text/plain": [
              "'10'"
            ],
            "application/vnd.google.colaboratory.intrinsic+json": {
              "type": "string"
            }
          },
          "metadata": {},
          "execution_count": 2
        }
      ]
    },
    {
      "cell_type": "code",
      "source": [
        "int(input('입력해주세요')) # 문자로 입력받은 숫자를 int를 통해 정수형으로 변환"
      ],
      "metadata": {
        "colab": {
          "base_uri": "https://localhost:8080/"
        },
        "id": "lV9MOBphL9PA",
        "outputId": "9fce1352-7152-4d80-a5a0-bbf5f80b61ab"
      },
      "execution_count": 4,
      "outputs": [
        {
          "name": "stdout",
          "output_type": "stream",
          "text": [
            "입력해주세요10\n"
          ]
        },
        {
          "output_type": "execute_result",
          "data": {
            "text/plain": [
              "10"
            ]
          },
          "metadata": {},
          "execution_count": 4
        }
      ]
    },
    {
      "cell_type": "markdown",
      "source": [
        "# 1.2 input 실습 - 2"
      ],
      "metadata": {
        "id": "pocv0V2fMvWP"
      }
    },
    {
      "cell_type": "markdown",
      "source": [
        "### input으로 받은 값을 변수에 할당"
      ],
      "metadata": {
        "id": "pRZ47PfwL9UC"
      }
    },
    {
      "cell_type": "code",
      "source": [
        "name = input(\"이름을 입력해주세요\")"
      ],
      "metadata": {
        "colab": {
          "base_uri": "https://localhost:8080/"
        },
        "id": "l2a38RmXL9Yx",
        "outputId": "c030ab66-6013-47a6-babb-9d458e69607a"
      },
      "execution_count": 5,
      "outputs": [
        {
          "name": "stdout",
          "output_type": "stream",
          "text": [
            "이름을 입력해주세요신찬수\n"
          ]
        }
      ]
    },
    {
      "cell_type": "code",
      "source": [
        "print(\"Hello,\" + name + \"!\")"
      ],
      "metadata": {
        "colab": {
          "base_uri": "https://localhost:8080/"
        },
        "id": "oYV2OChcL9dp",
        "outputId": "ed23bb7b-add0-465c-b678-741c594128b6"
      },
      "execution_count": 6,
      "outputs": [
        {
          "output_type": "stream",
          "name": "stdout",
          "text": [
            "Hello,신찬수!\n"
          ]
        }
      ]
    },
    {
      "cell_type": "code",
      "source": [
        "# input을 활용한 덧셈 - 문자열인 경우\n",
        "a = input(\"첫번째 숫자를 입력해주세요\")\n",
        "b = input(\"두번째 숫자를 입력해주세요\")\n",
        "\n",
        "print(\"a + b = \", a + b, \" 입니다.\")\n",
        "# 문자열 덧셈의 치명적 오류를 보게됨"
      ],
      "metadata": {
        "colab": {
          "base_uri": "https://localhost:8080/"
        },
        "id": "ZUJg484-L9h5",
        "outputId": "bc5ccfe5-4f04-4058-8ba1-7c3cce8aaa4f"
      },
      "execution_count": 8,
      "outputs": [
        {
          "output_type": "stream",
          "name": "stdout",
          "text": [
            "첫번째 숫자를 입력해주세요2233\n",
            "두번째 숫자를 입력해주세요122\n",
            "a + b =  2233122  입니다.\n"
          ]
        }
      ]
    },
    {
      "cell_type": "code",
      "source": [
        "# input을 활용한 덧셈 - 숫자열인 경우\n",
        "a = int(input(\"첫번째 숫자를 입력해주세요\"))\n",
        "b = int(input(\"두번째 숫자를 입력해주세요\"))\n",
        "\n",
        "print(\"a + b = \", a + b, \" 입니다.\")"
      ],
      "metadata": {
        "colab": {
          "base_uri": "https://localhost:8080/"
        },
        "id": "aF_s8HDKNXRg",
        "outputId": "508ac3c5-1658-4475-9d30-386a7e32d81c"
      },
      "execution_count": 9,
      "outputs": [
        {
          "output_type": "stream",
          "name": "stdout",
          "text": [
            "첫번째 숫자를 입력해주세요10\n",
            "두번째 숫자를 입력해주세요20\n",
            "a + b =  30  입니다.\n"
          ]
        }
      ]
    },
    {
      "cell_type": "markdown",
      "source": [
        "# 2.출력함수 print"
      ],
      "metadata": {
        "id": "H8YbZvL-NuSo"
      }
    },
    {
      "cell_type": "code",
      "source": [
        "# 1. 여러줄 출력\n",
        "\n",
        "'출력합니다.'\n",
        "'출력합니다.'"
      ],
      "metadata": {
        "colab": {
          "base_uri": "https://localhost:8080/",
          "height": 35
        },
        "id": "7xfZ-KRZN23P",
        "outputId": "a8335504-313b-42c0-9d4c-3f753795845e"
      },
      "execution_count": 10,
      "outputs": [
        {
          "output_type": "execute_result",
          "data": {
            "text/plain": [
              "'출력합니다.'"
            ],
            "application/vnd.google.colaboratory.intrinsic+json": {
              "type": "string"
            }
          },
          "metadata": {},
          "execution_count": 10
        }
      ]
    },
    {
      "cell_type": "code",
      "source": [
        "# 2. 여러값 출력\n",
        "\n",
        "print(\"hello\", \"world\", \"!\")"
      ],
      "metadata": {
        "colab": {
          "base_uri": "https://localhost:8080/"
        },
        "id": "O6TCKS3XPoxY",
        "outputId": "b97e0d64-add3-434b-ac98-c62afc7e24b6"
      },
      "execution_count": 11,
      "outputs": [
        {
          "output_type": "stream",
          "name": "stdout",
          "text": [
            "hello world !\n"
          ]
        }
      ]
    },
    {
      "cell_type": "code",
      "source": [
        "# 3. sep 구분자\n",
        "\n",
        "print(\"hello\", \"world\", \"!\", sep = \"-\")"
      ],
      "metadata": {
        "colab": {
          "base_uri": "https://localhost:8080/"
        },
        "id": "MWxOyCyhPtrn",
        "outputId": "9e148c56-fe5b-41bf-b67c-faaf40c815c9"
      },
      "execution_count": 12,
      "outputs": [
        {
          "output_type": "stream",
          "name": "stdout",
          "text": [
            "hello-world-!\n"
          ]
        }
      ]
    },
    {
      "cell_type": "code",
      "source": [
        "# 3. sep 구분자 / end 구분자\n",
        "\n",
        "print(\"hello\", \"world\", \"!\", sep = \"-\", end = \"!!!\")"
      ],
      "metadata": {
        "colab": {
          "base_uri": "https://localhost:8080/"
        },
        "id": "9KAr5nDwPu5P",
        "outputId": "a9744f93-4908-4682-c5b2-01ec0cc3bdbb"
      },
      "execution_count": 13,
      "outputs": [
        {
          "output_type": "stream",
          "name": "stdout",
          "text": [
            "hello-world-!!!!"
          ]
        }
      ]
    },
    {
      "cell_type": "code",
      "source": [
        "# 4. f-string\n",
        "\n",
        "# 4.1 f-string에서 f가 없을 때,\n",
        "name = 'licat'\n",
        "age = 10\n",
        "print('제 이름은 {name}, 제 나이는 {age}입니다')"
      ],
      "metadata": {
        "colab": {
          "base_uri": "https://localhost:8080/"
        },
        "id": "yTG8gO7XRW0u",
        "outputId": "f905fe68-7779-441e-95f0-e70edfbf53ce"
      },
      "execution_count": 14,
      "outputs": [
        {
          "output_type": "stream",
          "name": "stdout",
          "text": [
            "제 이름은 {name}, 제 나이는 {age}입니다\n"
          ]
        }
      ]
    },
    {
      "cell_type": "code",
      "source": [
        "# 4.2 f-string에서 중괄호가 없을 때\n",
        "name = 'licat'\n",
        "age = 10\n",
        "print(f'제 이름은 name, 제 나이는 age입니다')"
      ],
      "metadata": {
        "colab": {
          "base_uri": "https://localhost:8080/"
        },
        "id": "0pIFnXhZRjvO",
        "outputId": "efca75f4-5f51-490a-b8a0-e40c938d05dd"
      },
      "execution_count": 15,
      "outputs": [
        {
          "output_type": "stream",
          "name": "stdout",
          "text": [
            "제 이름은 name, 제 나이는 age입니다\n"
          ]
        }
      ]
    },
    {
      "cell_type": "code",
      "source": [
        "# 4.3 f-string을 제대로 사용했을 때\n",
        "name = 'licat'\n",
        "age = 10\n",
        "print(f'제 이름은 {name}, 제 나이는 {age}입니다')"
      ],
      "metadata": {
        "colab": {
          "base_uri": "https://localhost:8080/"
        },
        "id": "YItcPTXoRuCc",
        "outputId": "f23a9ded-49f8-4a5f-c508-cf0e98179f21"
      },
      "execution_count": 16,
      "outputs": [
        {
          "output_type": "stream",
          "name": "stdout",
          "text": [
            "제 이름은 licat, 제 나이는 10입니다\n"
          ]
        }
      ]
    },
    {
      "cell_type": "code",
      "source": [
        "# 4.4 예시\n",
        "name = input(\"이름을 입력해주세요\")\n",
        "age = int(input(\"나이를 입력해주세요\"))\n",
        "\n",
        "print(f'제 이름은 {name}, 제 나이는 {age}입니다')"
      ],
      "metadata": {
        "colab": {
          "base_uri": "https://localhost:8080/"
        },
        "id": "SClferV9R19t",
        "outputId": "a7f1b894-4555-4b5e-e4da-b57142b69fee"
      },
      "execution_count": 20,
      "outputs": [
        {
          "output_type": "stream",
          "name": "stdout",
          "text": [
            "이름을 입력해주세요licat\n",
            "나이를 입력해주세요10\n",
            "제 이름은 licat, 제 나이는 10입니다\n"
          ]
        }
      ]
    },
    {
      "cell_type": "code",
      "source": [
        "# 5. None\n",
        "\n",
        "a = None # None -> 휴지 곽에 휴지곽 자체마저 없는 상태"
      ],
      "metadata": {
        "id": "x-jqiFPsSWYe"
      },
      "execution_count": 21,
      "outputs": []
    },
    {
      "cell_type": "markdown",
      "source": [
        "![None 비유](https://img.devrant.com/devrant/rant/r_2347874_pNrMx.jpg)"
      ],
      "metadata": {
        "id": "FFbd8lyEUgvM"
      }
    },
    {
      "cell_type": "code",
      "source": [
        "a"
      ],
      "metadata": {
        "id": "WZQM-gauUEAm"
      },
      "execution_count": 22,
      "outputs": []
    }
  ]
}